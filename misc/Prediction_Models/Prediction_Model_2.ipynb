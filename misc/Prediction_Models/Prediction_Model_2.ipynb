{
 "cells": [
  {
   "cell_type": "markdown",
   "metadata": {
    "id": "DhW1RO3DJG05"
   },
   "source": [
    "# Data Exploration Project - Pumps"
   ]
  },
  {
   "cell_type": "markdown",
   "metadata": {
    "id": "3mqm_gVtJG1B"
   },
   "source": [
    "## Business Understanding\n",
    "\n",
    "Daten über verschiedene Brunnen in einem afrikanischen Land.\n",
    "\n",
    "**Können wir vorhersagen welche Brunnen defekt, wartungsbedürftig oder voll funktional sind?**"
   ]
  },
  {
   "cell_type": "markdown",
   "metadata": {
    "id": "s9QK4M6bJG1C"
   },
   "source": [
    "## Data Understanding"
   ]
  },
  {
   "cell_type": "code",
   "execution_count": 204,
   "metadata": {},
   "outputs": [],
   "source": [
    "import warnings\n",
    "warnings.simplefilter(action='ignore', category=FutureWarning)"
   ]
  },
  {
   "cell_type": "code",
   "execution_count": 205,
   "metadata": {
    "colab": {
     "base_uri": "https://localhost:8080/"
    },
    "id": "ZxThrpAOJG1D",
    "outputId": "813156a8-80e8-4e76-b55b-7c5b99168ff9"
   },
   "outputs": [],
   "source": [
    "import pandas as pd\n",
    "import matplotlib.pyplot as plt \n",
    "import seaborn as sns\n",
    "import numpy as np\n",
    "from category_encoders import TargetEncoder, BinaryEncoder\n",
    "from sklearn.pipeline import Pipeline, make_pipeline\n",
    "from sklearn.preprocessing import OrdinalEncoder, LabelEncoder, StandardScaler, OneHotEncoder, MinMaxScaler\n",
    "from sklearn.impute import SimpleImputer\n",
    "from sklearn.compose import ColumnTransformer\n",
    "from sklearn.base import BaseEstimator, TransformerMixin"
   ]
  },
  {
   "cell_type": "markdown",
   "metadata": {
    "id": "1rejyUeKJG1F"
   },
   "source": [
    "Einlesen der Trainings- und Testdaten."
   ]
  },
  {
   "cell_type": "code",
   "execution_count": 206,
   "metadata": {
    "id": "NWpTu_GUJG1H"
   },
   "outputs": [],
   "source": [
    "df_pump_train = pd.read_csv('pump_train.csv')\n",
    "df_pump_test = pd.read_csv('pump_test.csv')"
   ]
  },
  {
   "cell_type": "markdown",
   "metadata": {
    "id": "GYb79TGsJG1K"
   },
   "source": [
    "### Data Dictionary\n",
    "| Variable | Beschreibung |\n",
    "| -------- | ------------ |\n",
    "| amount_tsh | Total static head (amount water available to waterpoint) |\n",
    "| date_recorded | The date the row was entered |\n",
    "| funder | Who funded the well |\n",
    "| gps_height | Altitude of the well |\n",
    "| installer | Organization that installed the well |\n",
    "| longitude | GPS coordinate |\n",
    "| latitude | GPS coordinate |\n",
    "| wpt_name | Name of the waterpoint if there is one |\n",
    "| num_private | ? |\n",
    "| basin | Geographic water basin |\n",
    "| subvillage | Geographic location |\n",
    "| region | Geographic location |\n",
    "| region_code | Geographic location (coded) |\n",
    "| district_code | Geographic location (coded) |\n",
    "| lga | Geographic location |\n",
    "| ward | Geographic location |\n",
    "| population | Population around the well |\n",
    "| public_meeting | True/False |\n",
    "| recorded_by | Group entering this row of data \n",
    "| scheme_management | Who operates the waterpoint |\n",
    "| scheme_name | Who operates the waterpoint |\n",
    "| permit | If the waterpoint is permitted |\n",
    "| construction_year | Year the waterpoint was constructed \n",
    "| extraction_type | The kind of extraction the waterpoint uses \n",
    "| extraction_type_group | The kind of extraction the waterpoint uses |\n",
    "| extraction_type_class | The kind of extraction the waterpoint uses \n",
    "| management | How the waterpoint is managed |\n",
    "| management_group | How the waterpoint is managed |\n",
    "| payment | What the water costs |\n",
    "| payment_type | What the water costs |\n",
    "| water_quality | The quality of the water |\n",
    "| quality_group | The quality of the water |\n",
    "| quantity | The quantity of water |\n",
    "| quantity_group | The quantity of water |\n",
    "| source | The source of the water |\n",
    "| source_type | The source of the water |\n",
    "| source_class | The source of the water |\n",
    "| waterpoint_type | The kind of waterpoint |\n",
    "| waterpoint_type_group | The kind of waterpoint |\n",
    "| status_group | functional or non-functional or functional needs repair |"
   ]
  },
  {
   "cell_type": "markdown",
   "metadata": {
    "id": "vzPQZEd8JG1N"
   },
   "source": [
    "### Data Analysis"
   ]
  },
  {
   "cell_type": "markdown",
   "metadata": {
    "id": "8In45gg4JG1f"
   },
   "source": [
    "## Data Preparation"
   ]
  },
  {
   "cell_type": "markdown",
   "metadata": {
    "id": "NlH2VvAuJG11"
   },
   "source": [
    "## Pipeline"
   ]
  },
  {
   "cell_type": "markdown",
   "metadata": {
    "id": "EPAKPAhiJG11"
   },
   "source": [
    "[Categoric Encoder Package ->](https://contrib.scikit-learn.org/category_encoders/index.html)"
   ]
  },
  {
   "cell_type": "code",
   "execution_count": 207,
   "metadata": {},
   "outputs": [],
   "source": [
    "class YesNoEncoder(BaseEstimator, TransformerMixin):\n",
    "    def __init__(self, add_column = True):\n",
    "        self.add_column = add_column\n",
    "    \n",
    "    def fit(self, X, y=None):\n",
    "        return self\n",
    "    \n",
    "    def transform(self, X, y=None):\n",
    "        if self.add_column:\n",
    "            has_name = np.where(X['wpt_name']!= 'none', 1, 0)\n",
    "            Xcopy = X\n",
    "            Xcopy['wpt_name'] = has_name\n",
    "        return Xcopy"
   ]
  },
  {
   "cell_type": "code",
   "execution_count": 208,
   "metadata": {},
   "outputs": [],
   "source": [
    "class MyImputer(BaseEstimator, TransformerMixin):\n",
    "    def __init__(self, fill_value=\"other\"):\n",
    "        self.fill_value = fill_value\n",
    "        return None\n",
    "    \n",
    "    def fit(self, X, y=None):\n",
    "        return self\n",
    "    \n",
    "    def transform(self, X, y=None):\n",
    "        return np.array([self.fill_value if str(x)==str(np.nan) else x for x in X]).reshape(-1,1)"
   ]
  },
  {
   "cell_type": "code",
   "execution_count": 209,
   "metadata": {},
   "outputs": [],
   "source": [
    "scheme_pipeline = Pipeline([\n",
    "('imputer', MyImputer(fill_value=\"other\")),\n",
    "('one_hot', OneHotEncoder())\n",
    "])"
   ]
  },
  {
   "cell_type": "code",
   "execution_count": 210,
   "metadata": {},
   "outputs": [],
   "source": [
    "scheme_pipeline_lbl = Pipeline([\n",
    "    ('imputer', MyImputer(fill_value=\"other\")),\n",
    "    ('ord_enc', OrdinalEncoder()),\n",
    "    ('min_max', MinMaxScaler())\n",
    "])"
   ]
  },
  {
   "cell_type": "code",
   "execution_count": 211,
   "metadata": {},
   "outputs": [],
   "source": [
    "class YearAdder(BaseEstimator, TransformerMixin):\n",
    "    def __init__(self):\n",
    "        return None\n",
    "    \n",
    "    def fit(self, X, y=None):\n",
    "        return self\n",
    "    \n",
    "    def transform(self, X, y=None):\n",
    "        date_column = pd.Series(X)\n",
    "        return np.array(pd.DatetimeIndex(date_column).year).reshape(-1,1)\n",
    "        "
   ]
  },
  {
   "cell_type": "code",
   "execution_count": 212,
   "metadata": {},
   "outputs": [],
   "source": [
    "year_pipeline = Pipeline([\n",
    "    (\"add_year\", YearAdder()),\n",
    "    # (\"ord_enc\", OrdinalEncoder()),\n",
    "    (\"scale\", MinMaxScaler())\n",
    "])"
   ]
  },
  {
   "cell_type": "code",
   "execution_count": 213,
   "metadata": {},
   "outputs": [],
   "source": [
    "class AmountPerCapitaAdder(BaseEstimator, TransformerMixin):\n",
    "    def __init__(self):\n",
    "        return None\n",
    "    \n",
    "    def fit(self, X, y=None):\n",
    "        return self\n",
    "    \n",
    "    def transform(self, X, y=None):\n",
    "        date_column = pd.Series(X)\n",
    "        return np.array(pd.DatetimeIndex(date_column).year).reshape(-1,1)"
   ]
  },
  {
   "cell_type": "code",
   "execution_count": 214,
   "metadata": {},
   "outputs": [],
   "source": [
    "age_pipeline = Pipeline([\n",
    "    (\"imp_age\", SimpleImputer(strategy=\"median\")),\n",
    "    (\"scale\", MinMaxScaler())\n",
    "])"
   ]
  },
  {
   "cell_type": "code",
   "execution_count": 215,
   "metadata": {},
   "outputs": [],
   "source": [
    "col_imp = Pipeline([\n",
    "    ('simp_inputer', SimpleImputer(strategy='constant', fill_value='Unknown')),\n",
    "    ('target_enc', TargetEncoder()),\n",
    "    ('min_max', MinMaxScaler())\n",
    "])"
   ]
  },
  {
   "cell_type": "code",
   "execution_count": 216,
   "metadata": {},
   "outputs": [],
   "source": [
    "target_enc_pipe = Pipeline([\n",
    "    ('target_enc', TargetEncoder()),\n",
    "    ('min_max', MinMaxScaler())\n",
    "])"
   ]
  },
  {
   "cell_type": "code",
   "execution_count": 217,
   "metadata": {},
   "outputs": [],
   "source": [
    "ord_enc_pipe = Pipeline([\n",
    "    ('ord_enc', OrdinalEncoder(handle_unknown='use_encoded_value', unknown_value=-1)),\n",
    "    ('min_max', MinMaxScaler())\n",
    "])"
   ]
  },
  {
   "cell_type": "code",
   "execution_count": 218,
   "metadata": {
    "colab": {
     "base_uri": "https://localhost:8080/",
     "height": 947
    },
    "id": "uO_zmkM9JG11",
    "outputId": "c2aab073-68d9-41e7-fa7e-49605825c5cf"
   },
   "outputs": [
    {
     "name": "stderr",
     "output_type": "stream",
     "text": [
      "/var/folders/m1/lfnpxhr54w36gr2xljxbctrh0000gn/T/ipykernel_53096/4104927532.py:15: SettingWithCopyWarning: \n",
      "A value is trying to be set on a copy of a slice from a DataFrame\n",
      "\n",
      "See the caveats in the documentation: https://pandas.pydata.org/pandas-docs/stable/user_guide/indexing.html#returning-a-view-versus-a-copy\n",
      "  df_train[\"age\"].loc[df_train[\"construction_year\"]!=0]=df_train[\"age\"].loc[df_train[\"construction_year\"]!=0].apply(lambda x: x.days)\n",
      "/var/folders/m1/lfnpxhr54w36gr2xljxbctrh0000gn/T/ipykernel_53096/4104927532.py:16: SettingWithCopyWarning: \n",
      "A value is trying to be set on a copy of a slice from a DataFrame\n",
      "\n",
      "See the caveats in the documentation: https://pandas.pydata.org/pandas-docs/stable/user_guide/indexing.html#returning-a-view-versus-a-copy\n",
      "  df_train[\"age\"].loc[df_train[\"construction_year\"]==0]=np.nan\n"
     ]
    }
   ],
   "source": [
    "df_train = df_pump_train.copy()\n",
    "\n",
    "# add new target variables\n",
    "\n",
    "df_train[\"t_functional\"] = df_train[\"status_group\"].apply(lambda x: 0 if x==\"non functional\" else 1)\n",
    "df_train[\"t_needs_rep\"] = df_train[\"status_group\"].apply(lambda x: 1 if x==\"functional needs repair\" else 0)\n",
    "\n",
    "# drop outliers\n",
    "df_train = df_train.drop(df_train[df_train.longitude == 0].index)\n",
    "\n",
    "# add some new features manually\n",
    "df_train[\"amount_per_capita\"] = df_train.apply(lambda x: x[\"amount_tsh\"]/x[\"population\"] if x[\"population\"] != 0 else 0, axis=1)\n",
    "import datetime\n",
    "df_train[\"age\"]=df_train['date_recorded'].apply(lambda x: datetime.datetime.strptime(x,'%Y-%m-%d'))-df_train[\"construction_year\"].apply(lambda x: datetime.datetime.strptime(str(x),'%Y') if x!=0 else datetime.datetime.now())\n",
    "df_train[\"age\"].loc[df_train[\"construction_year\"]!=0]=df_train[\"age\"].loc[df_train[\"construction_year\"]!=0].apply(lambda x: x.days)\n",
    "df_train[\"age\"].loc[df_train[\"construction_year\"]==0]=np.nan\n",
    "\n",
    "# transform dtypes manually\n",
    "df_train[\"district_code\"] = df_train[\"district_code\"].astype(\"category\")\n",
    "df_train[\"region_code\"] = df_train[\"region_code\"].astype(\"category\")\n",
    "\n",
    "y_train = df_train.loc[:,'status_group']\n",
    "le = LabelEncoder()\n",
    "y_train = le.fit_transform(y_train)\n",
    "\n",
    "y_train_f = df_train[\"t_functional\"]\n",
    "y_train_r = df_train[\"t_needs_rep\"]\n",
    "\n",
    "col_trans = ColumnTransformer(transformers=[\n",
    "    ['col_imp', col_imp, ['funder', 'installer', 'subvillage']],\n",
    "    ['target_enc', target_enc_pipe, ['lga', 'ward', 'management']],\n",
    "    ['oh_enc', OneHotEncoder(handle_unknown='ignore'), ['basin', 'payment','water_quality', 'quantity','source','waterpoint_type', 'extraction_type_class']],\n",
    "    ['bin_enc', BinaryEncoder(), ['region', 'region_code', 'district_code']], # warum alle 3 ?\n",
    "    ['cust_trans', YesNoEncoder(), ['wpt_name']],\n",
    "    [\"num\", MinMaxScaler(), [\"amount_tsh\", \"population\", \"amount_per_capita\", 'gps_height', 'longitude', 'latitude']],\n",
    "    [\"scheme\", scheme_pipeline, \"scheme_management\"],\n",
    "    [\"year\",  year_pipeline, \"date_recorded\"]\n",
    "], remainder='drop')\n",
    "\n",
    "col_trans_lbl = ColumnTransformer(transformers=[\n",
    "    ['col_imp', col_imp, ['funder', 'installer', 'subvillage']],\n",
    "    ['target_enc', target_enc_pipe, ['lga', 'ward', 'management']],\n",
    "    ['ord_enc', ord_enc_pipe, ['basin', 'payment','water_quality', 'quantity','source','waterpoint_type', 'extraction_type_class', 'region', 'region_code', 'district_code']],\n",
    "    ['cust_trans', YesNoEncoder(), ['wpt_name']],\n",
    "    [\"num\", MinMaxScaler(), [\"amount_tsh\", \"population\", \"amount_per_capita\", 'gps_height', 'longitude', 'latitude']],\n",
    "    [\"scheme\", scheme_pipeline_lbl, \"scheme_management\"],\n",
    "    [\"year\",  year_pipeline, \"date_recorded\"]\n",
    "], remainder='drop')\n",
    "\n",
    "col_trans_w_age = ColumnTransformer(transformers=[\n",
    "    ['col_imp', col_imp, ['funder', 'installer', 'subvillage']],\n",
    "    ['target_enc', target_enc_pipe, ['lga', 'ward', 'management']],\n",
    "    ['oh_enc', OneHotEncoder(handle_unknown='ignore'), ['basin', 'payment','water_quality', 'quantity','source','waterpoint_type', 'extraction_type_class']],\n",
    "    ['bin_enc', BinaryEncoder(), ['region', 'region_code', 'district_code']], # warum alle 3 ?\n",
    "    ['cust_trans', YesNoEncoder(), ['wpt_name']],\n",
    "    [\"num\", MinMaxScaler(), [\"amount_tsh\", \"population\", \"amount_per_capita\", 'gps_height', 'longitude', 'latitude']],\n",
    "    [\"scheme\", scheme_pipeline, \"scheme_management\"],\n",
    "    [\"year\",  year_pipeline, \"date_recorded\"],\n",
    "    [\"age\", age_pipeline, [\"age\"]]\n",
    "], remainder='drop')\n",
    "\n",
    "col_trans_lbl_w_age = ColumnTransformer(transformers=[\n",
    "    ['col_imp', col_imp, ['funder', 'installer', 'subvillage']],\n",
    "    ['target_enc', target_enc_pipe, ['lga', 'ward', 'management']],\n",
    "    ['ord_enc', ord_enc_pipe, ['basin', 'payment','water_quality', 'quantity','source','waterpoint_type', 'extraction_type_class', 'region', 'region_code', 'district_code']],\n",
    "    ['cust_trans', YesNoEncoder(), ['wpt_name']],\n",
    "    [\"num\", MinMaxScaler(), [\"amount_tsh\", \"population\", \"amount_per_capita\", 'gps_height', 'longitude', 'latitude']],\n",
    "    [\"scheme\", scheme_pipeline_lbl, \"scheme_management\"],\n",
    "    [\"year\",  year_pipeline, \"date_recorded\"],\n",
    "    [\"age\", age_pipeline, [\"age\"]]\n",
    "], remainder='drop')"
   ]
  },
  {
   "cell_type": "markdown",
   "metadata": {},
   "source": [
    "### Undersampling\n",
    "\n",
    "https://imbalanced-learn.org/stable/under_sampling.html\n",
    "\n",
    "Für die unterschiedlichen Ausprägungen der Target Variable `status_group` besteht, wie in der Data Analysis bereits festgestellt, ein Ungleichgewicht. Datenpunkte für die Gruppe 'functional needs repair' machen nur einen kleinen Teil der Gesamtheit aus. Dieses Ungeleichgewicht kann das Training unserer Modelle beeinflussen, da sich diese beim Training hauptsächlich auf die 'Majority Class' konzentriert. \n",
    "\n",
    "Möglichkeiten mit Ungleichgewicht umzugehen:\n",
    "- Oversampling\n",
    "- **Undersampling**\n",
    "\n",
    "Wir entscheiden uns für Undersampling, da trotz der Einschränkung der Größe des Datensamples, noch eine viele Datenpunkte zur Verfügung stehen."
   ]
  },
  {
   "cell_type": "code",
   "execution_count": 219,
   "metadata": {},
   "outputs": [
    {
     "name": "stdout",
     "output_type": "stream",
     "text": [
      "3356 pumps need repairs, therefore we need the same amount of pumps that don't need repairs\n",
      "0    3356\n",
      "1    3356\n",
      "Name: t_needs_rep, dtype: int64\n"
     ]
    }
   ],
   "source": [
    "from imblearn.under_sampling import RandomUnderSampler\n",
    "\n",
    "# sort data according to repair status\n",
    "df_train_1 = df_train[df_train[\"t_needs_rep\"] == 1] \n",
    "df_train_0 = df_train[df_train[\"t_needs_rep\"] == 0]\n",
    "\n",
    "num_r = len(df_train_1)\n",
    "print(f\"{num_r} pumps need repairs, therefore we need the same amount of pumps that don't need repairs\")\n",
    "\n",
    "\n",
    "rus = RandomUnderSampler(random_state=42)\n",
    "X_resampled, y_resampled = rus.fit_resample(df_train, y_train_r)\n",
    "print(X_resampled[\"t_needs_rep\"].value_counts())\n"
   ]
  },
  {
   "cell_type": "markdown",
   "metadata": {},
   "source": [
    "Anwendung der ColumnTransformer auf unsere Testdaten."
   ]
  },
  {
   "cell_type": "code",
   "execution_count": 220,
   "metadata": {},
   "outputs": [],
   "source": [
    "X_train_r = col_trans.fit_transform(X=X_resampled, y=y_resampled)\n",
    "X_train_r_lbl = col_trans_lbl_w_age.fit_transform(X=X_resampled, y=y_resampled)\n",
    "y_train_r = y_resampled"
   ]
  },
  {
   "cell_type": "markdown",
   "metadata": {},
   "source": [
    "### Preparation Test Data"
   ]
  },
  {
   "cell_type": "markdown",
   "metadata": {},
   "source": [
    "Die Testdaten müssen mit der gleichen Vorgehensweise wie die Trainingsdaten transformiert (Achtung: nicht gefittet!) werden, um für die Kontrolle der Performance eingesetzt werden zu können. ColumnTransformer helfen bei der Übertragbarkeit des Data Preparation Prozesses."
   ]
  },
  {
   "cell_type": "code",
   "execution_count": 221,
   "metadata": {},
   "outputs": [
    {
     "name": "stderr",
     "output_type": "stream",
     "text": [
      "/var/folders/m1/lfnpxhr54w36gr2xljxbctrh0000gn/T/ipykernel_53096/535234467.py:10: SettingWithCopyWarning: \n",
      "A value is trying to be set on a copy of a slice from a DataFrame\n",
      "\n",
      "See the caveats in the documentation: https://pandas.pydata.org/pandas-docs/stable/user_guide/indexing.html#returning-a-view-versus-a-copy\n",
      "  df_test[\"age\"].loc[df_test[\"construction_year\"]!=0]=df_test[\"age\"].loc[df_test[\"construction_year\"]!=0].apply(lambda x: x.days)\n",
      "/var/folders/m1/lfnpxhr54w36gr2xljxbctrh0000gn/T/ipykernel_53096/535234467.py:11: SettingWithCopyWarning: \n",
      "A value is trying to be set on a copy of a slice from a DataFrame\n",
      "\n",
      "See the caveats in the documentation: https://pandas.pydata.org/pandas-docs/stable/user_guide/indexing.html#returning-a-view-versus-a-copy\n",
      "  df_test[\"age\"].loc[df_test[\"construction_year\"]==0]=np.nan\n"
     ]
    }
   ],
   "source": [
    "df_test = df_pump_test.copy()\n",
    "\n",
    "df_test[\"t_functional\"] = df_test[\"status_group\"].apply(lambda x: 0 if x==\"non functional\" else 1)\n",
    "df_test[\"t_needs_rep\"] = df_test[\"status_group\"].apply(lambda x: 1 if x==\"functional needs repair\" else 0)\n",
    "\n",
    "df_test = df_test.drop(df_test[df_test.longitude == 0].index)\n",
    "\n",
    "df_test[\"amount_per_capita\"] = df_test.apply(lambda x: x[\"amount_tsh\"]/x[\"population\"] if x[\"population\"] != 0 else 0, axis=1)\n",
    "df_test[\"age\"]=df_test['date_recorded'].apply(lambda x: datetime.datetime.strptime(x,'%Y-%m-%d'))-df_test[\"construction_year\"].apply(lambda x: datetime.datetime.strptime(str(x),'%Y') if x!=0 else datetime.datetime.now())\n",
    "df_test[\"age\"].loc[df_test[\"construction_year\"]!=0]=df_test[\"age\"].loc[df_test[\"construction_year\"]!=0].apply(lambda x: x.days)\n",
    "df_test[\"age\"].loc[df_test[\"construction_year\"]==0]=np.nan\n",
    "\n",
    "df_test[\"district_code\"] = df_test[\"district_code\"].astype(\"category\")\n",
    "df_test[\"region_code\"] = df_test[\"region_code\"].astype(\"category\")\n",
    "\n",
    "y_test = df_test.loc[:,'status_group']\n",
    "y_test = le.transform(y_test)\n",
    "\n",
    "y_test_f = df_test[\"t_functional\"]\n",
    "y_test_r = df_test[\"t_needs_rep\"]\n",
    "\n",
    "X_test = col_trans.transform(X=df_test)\n",
    "X_test_lbl = col_trans_lbl_w_age.transform(X=df_test)"
   ]
  },
  {
   "cell_type": "markdown",
   "metadata": {},
   "source": [
    "## Model Training"
   ]
  },
  {
   "cell_type": "markdown",
   "metadata": {},
   "source": [
    "***Prognosemodell für Brunnen die repariert werden müssen***"
   ]
  },
  {
   "cell_type": "code",
   "execution_count": 222,
   "metadata": {},
   "outputs": [],
   "source": [
    "from sklearn.linear_model import LogisticRegression\n",
    "from sklearn.tree import DecisionTreeClassifier\n",
    "from sklearn.ensemble import RandomForestClassifier\n",
    "from sklearn.svm import SVC\n",
    "from sklearn.neighbors import KNeighborsClassifier\n",
    "from sklearn.metrics import roc_auc_score, make_scorer, accuracy_score, confusion_matrix, ConfusionMatrixDisplay, classification_report, plot_roc_curve, RocCurveDisplay, PrecisionRecallDisplay\n",
    "from sklearn.model_selection import cross_validate, RandomizedSearchCV, GridSearchCV\n"
   ]
  },
  {
   "cell_type": "markdown",
   "metadata": {},
   "source": [
    "### Model Selection"
   ]
  },
  {
   "cell_type": "markdown",
   "metadata": {},
   "source": [
    "Zuerst erfolgt das Training unterschiedlicher Modelle mit der Standard-Konfiguration, um eine Vorauswahl zu treffen."
   ]
  },
  {
   "cell_type": "code",
   "execution_count": 223,
   "metadata": {},
   "outputs": [],
   "source": [
    "df_results = pd.DataFrame(data=[], columns=[\"Model\", \"AUC Train\", \"AUC CV\", \"ACC CV\"])"
   ]
  },
  {
   "cell_type": "markdown",
   "metadata": {},
   "source": [
    "Es soll die AUC als Qualitätsmaß genutzt werden. Die Accuray ist jedoch auch von Interesse."
   ]
  },
  {
   "cell_type": "code",
   "execution_count": 224,
   "metadata": {},
   "outputs": [],
   "source": [
    "scoring = {\"AUC\": \"roc_auc\", \"Accuracy\": make_scorer(accuracy_score)}"
   ]
  },
  {
   "cell_type": "markdown",
   "metadata": {},
   "source": [
    "#### LogisticRegression"
   ]
  },
  {
   "cell_type": "code",
   "execution_count": 225,
   "metadata": {},
   "outputs": [],
   "source": [
    "lr_cf = LogisticRegression(max_iter=1000, random_state=42)\n",
    "lr_cf.fit(X_train_r, y_train_r)\n",
    "y_pred = lr_cf.predict_proba(X_train_r)[:, 1]\n",
    "auc_train = roc_auc_score(y_train_r, y_pred)\n",
    "cv_res = cross_validate(estimator=lr_cf, X=X_train_r, y=y_train_r, cv=5, scoring=scoring)\n",
    "auc_cv = cv_res[\"test_AUC\"].mean()\n",
    "acc_cv = cv_res[\"test_Accuracy\"].mean()\n",
    "\n",
    "df_results.loc[len(df_results)] = [lr_cf, auc_train, auc_cv, acc_cv]"
   ]
  },
  {
   "cell_type": "markdown",
   "metadata": {},
   "source": [
    "#### SVM"
   ]
  },
  {
   "cell_type": "code",
   "execution_count": 226,
   "metadata": {},
   "outputs": [],
   "source": [
    "svm_cf = SVC(probability=True, random_state=42, kernel=\"rbf\")\n",
    "svm_cf.fit(X_train_r, y_train_r)\n",
    "y_pred = svm_cf.predict_proba(X_train_r)[:, 1]\n",
    "auc_train = roc_auc_score(y_train_r, y_pred)\n",
    "cv_res = cross_validate(estimator=svm_cf, X=X_train_r, y=y_train_r, cv=5, scoring=scoring)\n",
    "auc_cv = cv_res[\"test_AUC\"].mean()\n",
    "acc_cv = cv_res[\"test_Accuracy\"].mean()\n",
    "\n",
    "df_results.loc[len(df_results)] = [svm_cf, auc_train, auc_cv, acc_cv]"
   ]
  },
  {
   "cell_type": "markdown",
   "metadata": {},
   "source": [
    "#### KNN"
   ]
  },
  {
   "cell_type": "code",
   "execution_count": 227,
   "metadata": {},
   "outputs": [],
   "source": [
    "knn_cf = KNeighborsClassifier()\n",
    "knn_cf.fit(X_train_r, y_train_r)\n",
    "y_pred = knn_cf.predict_proba(X_train_r)[:, 1]\n",
    "auc_train = roc_auc_score(y_train_r, y_pred)\n",
    "cv_res = cross_validate(estimator=knn_cf, X=X_train_r, y=y_train_r, cv=5, scoring=scoring)\n",
    "auc_cv = cv_res[\"test_AUC\"].mean()\n",
    "acc_cv = cv_res[\"test_Accuracy\"].mean()\n",
    "\n",
    "df_results.loc[len(df_results)] = [knn_cf, auc_train, auc_cv, acc_cv]"
   ]
  },
  {
   "cell_type": "markdown",
   "metadata": {},
   "source": [
    "https://scikit-learn.org/stable/modules/generated/sklearn.metrics.ConfusionMatrixDisplay.html"
   ]
  },
  {
   "cell_type": "code",
   "execution_count": 228,
   "metadata": {},
   "outputs": [
    {
     "data": {
      "image/png": "[encoded data removed]",
      "text/plain": [
       "<Figure size 432x288 with 2 Axes>"
      ]
     },
     "metadata": {
      "needs_background": "light"
     },
     "output_type": "display_data"
    },
    {
     "name": "stdout",
     "output_type": "stream",
     "text": [
      "              precision    recall  f1-score   support\n",
      "\n",
      "           0       0.98      0.73      0.84      8055\n",
      "           1       0.17      0.79      0.28       575\n",
      "\n",
      "    accuracy                           0.74      8630\n",
      "   macro avg       0.58      0.76      0.56      8630\n",
      "weighted avg       0.93      0.74      0.80      8630\n",
      "\n"
     ]
    }
   ],
   "source": [
    "predictions = knn_cf.predict(X_test)\n",
    "cm = confusion_matrix(y_test_r, predictions, labels=knn_cf.classes_)\n",
    "disp = ConfusionMatrixDisplay(confusion_matrix=cm, display_labels=['needs_no_rep', 'func_needs_rep'])\n",
    "disp.plot()\n",
    "plt.show()\n",
    "\n",
    "print(classification_report(y_test_r, predictions))"
   ]
  },
  {
   "cell_type": "markdown",
   "metadata": {},
   "source": [
    "#### Decision Tree"
   ]
  },
  {
   "cell_type": "code",
   "execution_count": 229,
   "metadata": {},
   "outputs": [],
   "source": [
    "dt_cf = DecisionTreeClassifier(random_state=42)\n",
    "dt_cf.fit(X_train_r, y_train_r)\n",
    "y_pred = dt_cf.predict_proba(X_train_r)[:, 1]\n",
    "auc_train = roc_auc_score(y_train_r, y_pred)\n",
    "cv_res = cross_validate(estimator=dt_cf, X=X_train_r, y=y_train_r, cv=5, scoring=scoring)\n",
    "auc_cv = cv_res[\"test_AUC\"].mean()\n",
    "acc_cv = cv_res[\"test_Accuracy\"].mean()\n",
    "\n",
    "df_results.loc[len(df_results)] = [dt_cf, auc_train, auc_cv, acc_cv]"
   ]
  },
  {
   "cell_type": "code",
   "execution_count": 230,
   "metadata": {},
   "outputs": [
    {
     "data": {
      "image/png": "[encoded data removed]",
      "text/plain": [
       "<Figure size 432x288 with 2 Axes>"
      ]
     },
     "metadata": {
      "needs_background": "light"
     },
     "output_type": "display_data"
    },
    {
     "name": "stdout",
     "output_type": "stream",
     "text": [
      "              precision    recall  f1-score   support\n",
      "\n",
      "           0       0.97      0.72      0.83      8055\n",
      "           1       0.16      0.73      0.26       575\n",
      "\n",
      "    accuracy                           0.72      8630\n",
      "   macro avg       0.57      0.72      0.54      8630\n",
      "weighted avg       0.92      0.72      0.79      8630\n",
      "\n"
     ]
    }
   ],
   "source": [
    "predictions = dt_cf.predict(X_test)\n",
    "cm = confusion_matrix(y_test_r, predictions, labels=dt_cf.classes_)\n",
    "disp = ConfusionMatrixDisplay(confusion_matrix=cm, display_labels=['needs_no_rep', 'func_needs_rep'])\n",
    "disp.plot()\n",
    "plt.show()\n",
    "\n",
    "print(classification_report(y_test_r, predictions))"
   ]
  },
  {
   "cell_type": "markdown",
   "metadata": {},
   "source": [
    "#### Random Forest"
   ]
  },
  {
   "cell_type": "code",
   "execution_count": 231,
   "metadata": {},
   "outputs": [],
   "source": [
    "rf_cf = RandomForestClassifier(random_state=42)\n",
    "rf_cf.fit(X_train_r, y_train_r)\n",
    "y_pred = rf_cf.predict_proba(X_train_r)[:, 1]\n",
    "auc_train = roc_auc_score(y_train_r, y_pred)\n",
    "cv_res = cross_validate(estimator=rf_cf, X=X_train_r, y=y_train_r, cv=5, scoring=scoring)\n",
    "auc_cv = cv_res[\"test_AUC\"].mean()\n",
    "acc_cv = cv_res[\"test_Accuracy\"].mean()\n",
    "\n",
    "df_results.loc[len(df_results)] = [str(rf_cf), auc_train, auc_cv, acc_cv]"
   ]
  },
  {
   "cell_type": "code",
   "execution_count": 232,
   "metadata": {},
   "outputs": [
    {
     "data": {
      "image/png": "[encoded data removed]",
      "text/plain": [
       "<Figure size 432x288 with 2 Axes>"
      ]
     },
     "metadata": {
      "needs_background": "light"
     },
     "output_type": "display_data"
    },
    {
     "name": "stdout",
     "output_type": "stream",
     "text": [
      "              precision    recall  f1-score   support\n",
      "\n",
      "           0       0.98      0.77      0.86      8055\n",
      "           1       0.20      0.78      0.31       575\n",
      "\n",
      "    accuracy                           0.77      8630\n",
      "   macro avg       0.59      0.77      0.59      8630\n",
      "weighted avg       0.93      0.77      0.83      8630\n",
      "\n"
     ]
    }
   ],
   "source": [
    "predictions = rf_cf.predict(X_test)\n",
    "cm = confusion_matrix(y_test_r, predictions, labels=rf_cf.classes_)\n",
    "disp = ConfusionMatrixDisplay(confusion_matrix=cm, display_labels=['needs_no_rep', 'func_needs_rep'])\n",
    "disp.plot()\n",
    "plt.show()\n",
    "\n",
    "print(classification_report(y_test_r, predictions))"
   ]
  },
  {
   "cell_type": "markdown",
   "metadata": {},
   "source": [
    "#### XGBoost"
   ]
  },
  {
   "cell_type": "code",
   "execution_count": 233,
   "metadata": {},
   "outputs": [
    {
     "name": "stdout",
     "output_type": "stream",
     "text": [
      "[17:59:00] WARNING: /var/folders/sy/f16zz6x50xz3113nwtb9bvq00000gp/T/abs_44tbtwf8c1/croots/recipe/xgboost-split_1659548960882/work/src/learner.cc:1115: Starting in XGBoost 1.3.0, the default evaluation metric used with the objective 'binary:logistic' was changed from 'error' to 'logloss'. Explicitly set eval_metric if you'd like to restore the old behavior.\n",
      "[17:59:02] WARNING: /var/folders/sy/f16zz6x50xz3113nwtb9bvq00000gp/T/abs_44tbtwf8c1/croots/recipe/xgboost-split_1659548960882/work/src/learner.cc:1115: Starting in XGBoost 1.3.0, the default evaluation metric used with the objective 'binary:logistic' was changed from 'error' to 'logloss'. Explicitly set eval_metric if you'd like to restore the old behavior.\n",
      "[17:59:04] WARNING: /var/folders/sy/f16zz6x50xz3113nwtb9bvq00000gp/T/abs_44tbtwf8c1/croots/recipe/xgboost-split_1659548960882/work/src/learner.cc:1115: Starting in XGBoost 1.3.0, the default evaluation metric used with the objective 'binary:logistic' was changed from 'error' to 'logloss'. Explicitly set eval_metric if you'd like to restore the old behavior.\n",
      "[17:59:06] WARNING: /var/folders/sy/f16zz6x50xz3113nwtb9bvq00000gp/T/abs_44tbtwf8c1/croots/recipe/xgboost-split_1659548960882/work/src/learner.cc:1115: Starting in XGBoost 1.3.0, the default evaluation metric used with the objective 'binary:logistic' was changed from 'error' to 'logloss'. Explicitly set eval_metric if you'd like to restore the old behavior.\n",
      "[17:59:08] WARNING: /var/folders/sy/f16zz6x50xz3113nwtb9bvq00000gp/T/abs_44tbtwf8c1/croots/recipe/xgboost-split_1659548960882/work/src/learner.cc:1115: Starting in XGBoost 1.3.0, the default evaluation metric used with the objective 'binary:logistic' was changed from 'error' to 'logloss'. Explicitly set eval_metric if you'd like to restore the old behavior.\n",
      "[17:59:10] WARNING: /var/folders/sy/f16zz6x50xz3113nwtb9bvq00000gp/T/abs_44tbtwf8c1/croots/recipe/xgboost-split_1659548960882/work/src/learner.cc:1115: Starting in XGBoost 1.3.0, the default evaluation metric used with the objective 'binary:logistic' was changed from 'error' to 'logloss'. Explicitly set eval_metric if you'd like to restore the old behavior.\n"
     ]
    }
   ],
   "source": [
    "from xgboost import XGBClassifier\n",
    "\n",
    "xgb_cf = XGBClassifier(use_label_encoder=False)\n",
    "xgb_cf.fit(X_train_r, y_train_r)\n",
    "y_pred = xgb_cf.predict_proba(X_train_r)[:, 1]\n",
    "auc_train = roc_auc_score(y_train_r, y_pred)\n",
    "cv_res = cross_validate(estimator=xgb_cf, X=X_train_r, y=y_train_r, cv=5, scoring=scoring)\n",
    "auc_cv = cv_res[\"test_AUC\"].mean()\n",
    "acc_cv = cv_res[\"test_Accuracy\"].mean()\n",
    "\n",
    "df_results.loc[len(df_results)] = [xgb_cf, auc_train, auc_cv, acc_cv]"
   ]
  },
  {
   "cell_type": "markdown",
   "metadata": {},
   "source": [
    "#### Model Score Comparison"
   ]
  },
  {
   "cell_type": "code",
   "execution_count": 234,
   "metadata": {},
   "outputs": [
    {
     "data": {
      "text/html": [
       "<div>\n",
       "<style scoped>\n",
       "    .dataframe tbody tr th:only-of-type {\n",
       "        vertical-align: middle;\n",
       "    }\n",
       "\n",
       "    .dataframe tbody tr th {\n",
       "        vertical-align: top;\n",
       "    }\n",
       "\n",
       "    .dataframe thead th {\n",
       "        text-align: right;\n",
       "    }\n",
       "</style>\n",
       "<table border=\"1\" class=\"dataframe\">\n",
       "  <thead>\n",
       "    <tr style=\"text-align: right;\">\n",
       "      <th></th>\n",
       "      <th>Model</th>\n",
       "      <th>AUC Train</th>\n",
       "      <th>AUC CV</th>\n",
       "      <th>ACC CV</th>\n",
       "    </tr>\n",
       "  </thead>\n",
       "  <tbody>\n",
       "    <tr>\n",
       "      <th>0</th>\n",
       "      <td>LogisticRegression(max_iter=1000, random_state...</td>\n",
       "      <td>0.923432</td>\n",
       "      <td>0.917923</td>\n",
       "      <td>0.824495</td>\n",
       "    </tr>\n",
       "    <tr>\n",
       "      <th>1</th>\n",
       "      <td>SVC(probability=True, random_state=42)</td>\n",
       "      <td>0.937588</td>\n",
       "      <td>0.915691</td>\n",
       "      <td>0.826281</td>\n",
       "    </tr>\n",
       "    <tr>\n",
       "      <th>2</th>\n",
       "      <td>KNeighborsClassifier()</td>\n",
       "      <td>0.933883</td>\n",
       "      <td>0.843600</td>\n",
       "      <td>0.770112</td>\n",
       "    </tr>\n",
       "    <tr>\n",
       "      <th>3</th>\n",
       "      <td>DecisionTreeClassifier(random_state=42)</td>\n",
       "      <td>1.000000</td>\n",
       "      <td>0.771158</td>\n",
       "      <td>0.771158</td>\n",
       "    </tr>\n",
       "    <tr>\n",
       "      <th>4</th>\n",
       "      <td>RandomForestClassifier(random_state=42)</td>\n",
       "      <td>1.000000</td>\n",
       "      <td>0.894417</td>\n",
       "      <td>0.810490</td>\n",
       "    </tr>\n",
       "    <tr>\n",
       "      <th>5</th>\n",
       "      <td>XGBClassifier(base_score=0.5, booster='gbtree'...</td>\n",
       "      <td>0.990137</td>\n",
       "      <td>0.914013</td>\n",
       "      <td>0.812576</td>\n",
       "    </tr>\n",
       "  </tbody>\n",
       "</table>\n",
       "</div>"
      ],
      "text/plain": [
       "                                               Model  AUC Train    AUC CV  \\\n",
       "0  LogisticRegression(max_iter=1000, random_state...   0.923432  0.917923   \n",
       "1             SVC(probability=True, random_state=42)   0.937588  0.915691   \n",
       "2                             KNeighborsClassifier()   0.933883  0.843600   \n",
       "3            DecisionTreeClassifier(random_state=42)   1.000000  0.771158   \n",
       "4            RandomForestClassifier(random_state=42)   1.000000  0.894417   \n",
       "5  XGBClassifier(base_score=0.5, booster='gbtree'...   0.990137  0.914013   \n",
       "\n",
       "     ACC CV  \n",
       "0  0.824495  \n",
       "1  0.826281  \n",
       "2  0.770112  \n",
       "3  0.771158  \n",
       "4  0.810490  \n",
       "5  0.812576  "
      ]
     },
     "execution_count": 234,
     "metadata": {},
     "output_type": "execute_result"
    }
   ],
   "source": [
    "df_results.to_csv(\"pm2_sel_results.csv\")\n",
    "df_results"
   ]
  },
  {
   "cell_type": "markdown",
   "metadata": {},
   "source": [
    "LogisticRegression, SVM, und XGBoost liefern alle vielversprechende Ergebnisse in einer ähnlichen Qualität."
   ]
  },
  {
   "cell_type": "code",
   "execution_count": 235,
   "metadata": {},
   "outputs": [
    {
     "data": {
      "image/png": "[encoded data removed]",
      "text/plain": [
       "<Figure size 576x432 with 1 Axes>"
      ]
     },
     "metadata": {
      "needs_background": "light"
     },
     "output_type": "display_data"
    }
   ],
   "source": [
    "lr_disp = RocCurveDisplay.from_estimator(lr_cf, X_test, y_test_r)\n",
    "svm_disp = RocCurveDisplay.from_estimator(svm_cf, X_test, y_test_r, ax=lr_disp.ax_)\n",
    "dt_disp = RocCurveDisplay.from_estimator(dt_cf, X_test, y_test_r, ax=lr_disp.ax_)\n",
    "rf_disp = RocCurveDisplay.from_estimator(rf_cf, X_test, y_test_r, ax=lr_disp.ax_)\n",
    "xgb_disp = RocCurveDisplay.from_estimator(xgb_cf, X_test, y_test_r, ax=lr_disp.ax_)\n",
    "lr_disp.figure_.suptitle(\"ROC curve comparison\")\n",
    "lr_disp.figure_.set_size_inches(8, 6)\n",
    "plt.show()"
   ]
  },
  {
   "cell_type": "markdown",
   "metadata": {},
   "source": [
    "Mit einer Evaluation auf den Testdaten wird klar, dass auch der RandomForest einbezogen werden sollte."
   ]
  },
  {
   "cell_type": "markdown",
   "metadata": {},
   "source": [
    "### Hyperparameter Tuning\n",
    "\n",
    "Gewählte Modelle:\n",
    "- RandomForest\n",
    "- LogisticRegression\n",
    "- SupportVectorMachine\n",
    "- XGBoost"
   ]
  },
  {
   "cell_type": "code",
   "execution_count": 236,
   "metadata": {},
   "outputs": [],
   "source": [
    "df_tuned = pd.DataFrame(data=[], columns=[\"Model\", \"AUC Train\", \"AUC CV\", \"ACC CV\"])"
   ]
  },
  {
   "cell_type": "markdown",
   "metadata": {},
   "source": [
    "#### Random Forest"
   ]
  },
  {
   "cell_type": "markdown",
   "metadata": {},
   "source": [
    "Initiales Tuning mit RandomSearch, um den GridSearch Bereich einzuschränken."
   ]
  },
  {
   "cell_type": "code",
   "execution_count": 238,
   "metadata": {},
   "outputs": [
    {
     "name": "stdout",
     "output_type": "stream",
     "text": [
      "Fitting 5 folds for each of 10 candidates, totalling 50 fits\n",
      "[CV] END bootstrap=True, max_depth=15, min_samples_leaf=3, min_samples_split=23, n_estimators=550; total time=   3.4s\n",
      "[CV] END bootstrap=True, max_depth=15, min_samples_leaf=3, min_samples_split=23, n_estimators=550; total time=   2.9s\n",
      "[CV] END bootstrap=True, max_depth=15, min_samples_leaf=3, min_samples_split=23, n_estimators=550; total time=   3.0s\n",
      "[CV] END bootstrap=True, max_depth=15, min_samples_leaf=3, min_samples_split=23, n_estimators=550; total time=   2.9s\n",
      "[CV] END bootstrap=True, max_depth=15, min_samples_leaf=3, min_samples_split=23, n_estimators=550; total time=   2.9s\n",
      "[CV] END bootstrap=False, max_depth=5, min_samples_leaf=1, min_samples_split=23, n_estimators=550; total time=   2.3s\n",
      "[CV] END bootstrap=False, max_depth=5, min_samples_leaf=1, min_samples_split=23, n_estimators=550; total time=   2.3s\n",
      "[CV] END bootstrap=False, max_depth=5, min_samples_leaf=1, min_samples_split=23, n_estimators=550; total time=   2.3s\n",
      "[CV] END bootstrap=False, max_depth=5, min_samples_leaf=1, min_samples_split=23, n_estimators=550; total time=   2.3s\n",
      "[CV] END bootstrap=False, max_depth=5, min_samples_leaf=1, min_samples_split=23, n_estimators=550; total time=   2.3s\n",
      "[CV] END bootstrap=False, max_depth=5, min_samples_leaf=1, min_samples_split=9, n_estimators=550; total time=   2.3s\n",
      "[CV] END bootstrap=False, max_depth=5, min_samples_leaf=1, min_samples_split=9, n_estimators=550; total time=   2.3s\n",
      "[CV] END bootstrap=False, max_depth=5, min_samples_leaf=1, min_samples_split=9, n_estimators=550; total time=   2.3s\n",
      "[CV] END bootstrap=False, max_depth=5, min_samples_leaf=1, min_samples_split=9, n_estimators=550; total time=   2.4s\n",
      "[CV] END bootstrap=False, max_depth=5, min_samples_leaf=1, min_samples_split=9, n_estimators=550; total time=   2.3s\n",
      "[CV] END bootstrap=False, max_depth=10, min_samples_leaf=5, min_samples_split=23, n_estimators=325; total time=   2.1s\n",
      "[CV] END bootstrap=False, max_depth=10, min_samples_leaf=5, min_samples_split=23, n_estimators=325; total time=   2.0s\n",
      "[CV] END bootstrap=False, max_depth=10, min_samples_leaf=5, min_samples_split=23, n_estimators=325; total time=   2.0s\n",
      "[CV] END bootstrap=False, max_depth=10, min_samples_leaf=5, min_samples_split=23, n_estimators=325; total time=   2.1s\n",
      "[CV] END bootstrap=False, max_depth=10, min_samples_leaf=5, min_samples_split=23, n_estimators=325; total time=   2.0s\n",
      "[CV] END bootstrap=False, max_depth=15, min_samples_leaf=5, min_samples_split=23, n_estimators=775; total time=   5.6s\n",
      "[CV] END bootstrap=False, max_depth=15, min_samples_leaf=5, min_samples_split=23, n_estimators=775; total time=   5.5s\n",
      "[CV] END bootstrap=False, max_depth=15, min_samples_leaf=5, min_samples_split=23, n_estimators=775; total time=   5.6s\n",
      "[CV] END bootstrap=False, max_depth=15, min_samples_leaf=5, min_samples_split=23, n_estimators=775; total time=   5.5s\n",
      "[CV] END bootstrap=False, max_depth=15, min_samples_leaf=5, min_samples_split=23, n_estimators=775; total time=   5.9s\n",
      "[CV] END bootstrap=True, max_depth=15, min_samples_leaf=3, min_samples_split=16, n_estimators=1000; total time=   5.5s\n",
      "[CV] END bootstrap=True, max_depth=15, min_samples_leaf=3, min_samples_split=16, n_estimators=1000; total time=   5.5s\n",
      "[CV] END bootstrap=True, max_depth=15, min_samples_leaf=3, min_samples_split=16, n_estimators=1000; total time=   5.6s\n",
      "[CV] END bootstrap=True, max_depth=15, min_samples_leaf=3, min_samples_split=16, n_estimators=1000; total time=   5.6s\n",
      "[CV] END bootstrap=True, max_depth=15, min_samples_leaf=3, min_samples_split=16, n_estimators=1000; total time=   5.4s\n",
      "[CV] END bootstrap=True, max_depth=5, min_samples_leaf=1, min_samples_split=30, n_estimators=325; total time=   1.1s\n",
      "[CV] END bootstrap=True, max_depth=5, min_samples_leaf=1, min_samples_split=30, n_estimators=325; total time=   1.2s\n",
      "[CV] END bootstrap=True, max_depth=5, min_samples_leaf=1, min_samples_split=30, n_estimators=325; total time=   1.1s\n",
      "[CV] END bootstrap=True, max_depth=5, min_samples_leaf=1, min_samples_split=30, n_estimators=325; total time=   1.1s\n",
      "[CV] END bootstrap=True, max_depth=5, min_samples_leaf=1, min_samples_split=30, n_estimators=325; total time=   1.1s\n",
      "[CV] END bootstrap=False, max_depth=5, min_samples_leaf=3, min_samples_split=9, n_estimators=100; total time=   0.4s\n",
      "[CV] END bootstrap=False, max_depth=5, min_samples_leaf=3, min_samples_split=9, n_estimators=100; total time=   0.4s\n",
      "[CV] END bootstrap=False, max_depth=5, min_samples_leaf=3, min_samples_split=9, n_estimators=100; total time=   0.5s\n",
      "[CV] END bootstrap=False, max_depth=5, min_samples_leaf=3, min_samples_split=9, n_estimators=100; total time=   0.4s\n",
      "[CV] END bootstrap=False, max_depth=5, min_samples_leaf=3, min_samples_split=9, n_estimators=100; total time=   0.4s\n",
      "[CV] END bootstrap=False, max_depth=10, min_samples_leaf=3, min_samples_split=2, n_estimators=775; total time=   4.9s\n",
      "[CV] END bootstrap=False, max_depth=10, min_samples_leaf=3, min_samples_split=2, n_estimators=775; total time=   4.9s\n",
      "[CV] END bootstrap=False, max_depth=10, min_samples_leaf=3, min_samples_split=2, n_estimators=775; total time=   4.9s\n",
      "[CV] END bootstrap=False, max_depth=10, min_samples_leaf=3, min_samples_split=2, n_estimators=775; total time=   4.9s\n",
      "[CV] END bootstrap=False, max_depth=10, min_samples_leaf=3, min_samples_split=2, n_estimators=775; total time=   5.0s\n",
      "[CV] END bootstrap=False, max_depth=15, min_samples_leaf=1, min_samples_split=23, n_estimators=550; total time=   4.1s\n",
      "[CV] END bootstrap=False, max_depth=15, min_samples_leaf=1, min_samples_split=23, n_estimators=550; total time=   4.1s\n",
      "[CV] END bootstrap=False, max_depth=15, min_samples_leaf=1, min_samples_split=23, n_estimators=550; total time=   4.1s\n",
      "[CV] END bootstrap=False, max_depth=15, min_samples_leaf=1, min_samples_split=23, n_estimators=550; total time=   4.2s\n",
      "[CV] END bootstrap=False, max_depth=15, min_samples_leaf=1, min_samples_split=23, n_estimators=550; total time=   4.2s\n"
     ]
    },
    {
     "data": {
      "text/plain": [
       "{'n_estimators': 550,\n",
       " 'min_samples_split': 23,\n",
       " 'min_samples_leaf': 1,\n",
       " 'max_depth': 15,\n",
       " 'bootstrap': False}"
      ]
     },
     "execution_count": 238,
     "metadata": {},
     "output_type": "execute_result"
    }
   ],
   "source": [
    "model_params = {\n",
    "    'n_estimators' : np.linspace(100, 1000, 5, dtype=int),\n",
    "    'max_depth': np.linspace(5, 20, 4, dtype=int),\n",
    "    'min_samples_split' : np.linspace(2, 30, 5, dtype=int),\n",
    "    'min_samples_leaf' : np.linspace(1, 5, 3, dtype=int),\n",
    "    'bootstrap' : [True, False]\n",
    "}\n",
    "rf_cf_tuned = RandomForestClassifier(random_state=42)\n",
    "rs = RandomizedSearchCV(rf_cf_tuned, param_distributions=model_params, scoring=\"roc_auc\", cv=5, verbose = 2)\n",
    "rs.fit(X_train_r, y_train_r)\n",
    "rs.best_params_"
   ]
  },
  {
   "cell_type": "code",
   "execution_count": 241,
   "metadata": {},
   "outputs": [
    {
     "name": "stdout",
     "output_type": "stream",
     "text": [
      "Fitting 5 folds for each of 54 candidates, totalling 270 fits\n",
      "[CV] END bootstrap=False, max_depth=10, min_samples_leaf=1, min_samples_split=20, n_estimators=250; total time=   2.8s\n",
      "[CV] END bootstrap=False, max_depth=10, min_samples_leaf=1, min_samples_split=20, n_estimators=250; total time=   2.8s\n",
      "[CV] END bootstrap=False, max_depth=10, min_samples_leaf=1, min_samples_split=20, n_estimators=250; total time=   2.8s\n",
      "[CV] END bootstrap=False, max_depth=10, min_samples_leaf=1, min_samples_split=20, n_estimators=250; total time=   2.9s\n",
      "[CV] END bootstrap=False, max_depth=10, min_samples_leaf=1, min_samples_split=20, n_estimators=250; total time=   2.8s\n",
      "[CV] END bootstrap=False, max_depth=10, min_samples_leaf=1, min_samples_split=20, n_estimators=500; total time=   5.7s\n",
      "[CV] END bootstrap=False, max_depth=10, min_samples_leaf=1, min_samples_split=20, n_estimators=500; total time=   5.8s\n",
      "[CV] END bootstrap=False, max_depth=10, min_samples_leaf=1, min_samples_split=20, n_estimators=500; total time=   5.8s\n",
      "[CV] END bootstrap=False, max_depth=10, min_samples_leaf=1, min_samples_split=20, n_estimators=500; total time=   5.7s\n",
      "[CV] END bootstrap=False, max_depth=10, min_samples_leaf=1, min_samples_split=20, n_estimators=500; total time=   5.9s\n",
      "[CV] END bootstrap=False, max_depth=10, min_samples_leaf=1, min_samples_split=20, n_estimators=750; total time=   8.8s\n",
      "[CV] END bootstrap=False, max_depth=10, min_samples_leaf=1, min_samples_split=20, n_estimators=750; total time=   8.9s\n",
      "[CV] END bootstrap=False, max_depth=10, min_samples_leaf=1, min_samples_split=25, n_estimators=250; total time=   3.0s\n",
      "[CV] END bootstrap=False, max_depth=10, min_samples_leaf=1, min_samples_split=20, n_estimators=750; total time=   9.2s\n",
      "[CV] END bootstrap=False, max_depth=10, min_samples_leaf=1, min_samples_split=25, n_estimators=250; total time=   2.8s\n",
      "[CV] END bootstrap=False, max_depth=10, min_samples_leaf=1, min_samples_split=25, n_estimators=250; total time=   2.9s\n",
      "[CV] END bootstrap=False, max_depth=10, min_samples_leaf=1, min_samples_split=20, n_estimators=750; total time=   9.1s\n",
      "[CV] END bootstrap=False, max_depth=10, min_samples_leaf=1, min_samples_split=20, n_estimators=750; total time=   8.9s\n",
      "[CV] END bootstrap=False, max_depth=10, min_samples_leaf=1, min_samples_split=25, n_estimators=250; total time=   3.0s\n",
      "[CV] END bootstrap=False, max_depth=10, min_samples_leaf=1, min_samples_split=25, n_estimators=250; total time=   3.0s\n",
      "[CV] END bootstrap=False, max_depth=10, min_samples_leaf=1, min_samples_split=25, n_estimators=500; total time=   6.0s\n",
      "[CV] END bootstrap=False, max_depth=10, min_samples_leaf=1, min_samples_split=25, n_estimators=500; total time=   5.9s\n",
      "[CV] END bootstrap=False, max_depth=10, min_samples_leaf=1, min_samples_split=25, n_estimators=500; total time=   6.0s\n",
      "[CV] END bootstrap=False, max_depth=10, min_samples_leaf=1, min_samples_split=25, n_estimators=500; total time=   6.1s\n",
      "[CV] END bootstrap=False, max_depth=10, min_samples_leaf=1, min_samples_split=25, n_estimators=500; total time=   6.0s\n",
      "[CV] END bootstrap=False, max_depth=10, min_samples_leaf=1, min_samples_split=25, n_estimators=750; total time=   8.9s\n",
      "[CV] END bootstrap=False, max_depth=10, min_samples_leaf=1, min_samples_split=25, n_estimators=750; total time=   8.9s\n",
      "[CV] END bootstrap=False, max_depth=10, min_samples_leaf=1, min_samples_split=25, n_estimators=750; total time=   8.9s\n",
      "[CV] END bootstrap=False, max_depth=10, min_samples_leaf=1, min_samples_split=25, n_estimators=750; total time=   8.8s\n",
      "[CV] END bootstrap=False, max_depth=10, min_samples_leaf=1, min_samples_split=30, n_estimators=250; total time=   3.0s\n",
      "[CV] END bootstrap=False, max_depth=10, min_samples_leaf=1, min_samples_split=30, n_estimators=250; total time=   3.0s\n",
      "[CV] END bootstrap=False, max_depth=10, min_samples_leaf=1, min_samples_split=30, n_estimators=250; total time=   3.0s\n",
      "[CV] END bootstrap=False, max_depth=10, min_samples_leaf=1, min_samples_split=30, n_estimators=250; total time=   3.0s\n",
      "[CV] END bootstrap=False, max_depth=10, min_samples_leaf=1, min_samples_split=30, n_estimators=250; total time=   3.0s\n",
      "[CV] END bootstrap=False, max_depth=10, min_samples_leaf=1, min_samples_split=25, n_estimators=750; total time=   9.0s\n",
      "[CV] END bootstrap=False, max_depth=10, min_samples_leaf=1, min_samples_split=30, n_estimators=500; total time=   5.9s\n",
      "[CV] END bootstrap=False, max_depth=10, min_samples_leaf=1, min_samples_split=30, n_estimators=500; total time=   5.9s\n",
      "[CV] END bootstrap=False, max_depth=10, min_samples_leaf=1, min_samples_split=30, n_estimators=500; total time=   5.9s\n",
      "[CV] END bootstrap=False, max_depth=10, min_samples_leaf=1, min_samples_split=30, n_estimators=500; total time=   5.9s\n",
      "[CV] END bootstrap=False, max_depth=10, min_samples_leaf=1, min_samples_split=30, n_estimators=500; total time=   5.9s\n",
      "[CV] END bootstrap=False, max_depth=10, min_samples_leaf=1, min_samples_split=30, n_estimators=750; total time=   8.9s\n",
      "[CV] END bootstrap=False, max_depth=10, min_samples_leaf=1, min_samples_split=30, n_estimators=750; total time=   8.9s\n",
      "[CV] END bootstrap=False, max_depth=10, min_samples_leaf=1, min_samples_split=30, n_estimators=750; total time=   9.1s\n",
      "[CV] END bootstrap=False, max_depth=10, min_samples_leaf=2, min_samples_split=20, n_estimators=250; total time=   3.0s\n",
      "[CV] END bootstrap=False, max_depth=10, min_samples_leaf=1, min_samples_split=30, n_estimators=750; total time=   9.1s\n",
      "[CV] END bootstrap=False, max_depth=10, min_samples_leaf=2, min_samples_split=20, n_estimators=250; total time=   3.1s\n",
      "[CV] END bootstrap=False, max_depth=10, min_samples_leaf=2, min_samples_split=20, n_estimators=250; total time=   3.0s\n",
      "[CV] END bootstrap=False, max_depth=10, min_samples_leaf=2, min_samples_split=20, n_estimators=250; total time=   3.0s\n",
      "[CV] END bootstrap=False, max_depth=10, min_samples_leaf=1, min_samples_split=30, n_estimators=750; total time=   9.0s\n",
      "[CV] END bootstrap=False, max_depth=10, min_samples_leaf=2, min_samples_split=20, n_estimators=250; total time=   3.0s\n",
      "[CV] END bootstrap=False, max_depth=10, min_samples_leaf=2, min_samples_split=20, n_estimators=500; total time=   6.4s\n",
      "[CV] END bootstrap=False, max_depth=10, min_samples_leaf=2, min_samples_split=20, n_estimators=500; total time=   6.4s\n",
      "[CV] END bootstrap=False, max_depth=10, min_samples_leaf=2, min_samples_split=20, n_estimators=500; total time=   6.4s\n",
      "[CV] END bootstrap=False, max_depth=10, min_samples_leaf=2, min_samples_split=20, n_estimators=500; total time=   6.4s\n",
      "[CV] END bootstrap=False, max_depth=10, min_samples_leaf=2, min_samples_split=20, n_estimators=500; total time=   6.2s\n",
      "[CV] END bootstrap=False, max_depth=10, min_samples_leaf=2, min_samples_split=20, n_estimators=750; total time=   9.9s\n",
      "[CV] END bootstrap=False, max_depth=10, min_samples_leaf=2, min_samples_split=20, n_estimators=750; total time=   9.9s\n",
      "[CV] END bootstrap=False, max_depth=10, min_samples_leaf=2, min_samples_split=20, n_estimators=750; total time=   9.9s\n",
      "[CV] END bootstrap=False, max_depth=10, min_samples_leaf=2, min_samples_split=25, n_estimators=250; total time=   3.4s\n",
      "[CV] END bootstrap=False, max_depth=10, min_samples_leaf=2, min_samples_split=25, n_estimators=250; total time=   3.4s\n",
      "[CV] END bootstrap=False, max_depth=10, min_samples_leaf=2, min_samples_split=20, n_estimators=750; total time=  10.3s\n",
      "[CV] END bootstrap=False, max_depth=10, min_samples_leaf=2, min_samples_split=25, n_estimators=250; total time=   3.3s\n",
      "[CV] END bootstrap=False, max_depth=10, min_samples_leaf=2, min_samples_split=25, n_estimators=250; total time=   3.2s\n",
      "[CV] END bootstrap=False, max_depth=10, min_samples_leaf=2, min_samples_split=25, n_estimators=250; total time=   3.2s\n",
      "[CV] END bootstrap=False, max_depth=10, min_samples_leaf=2, min_samples_split=20, n_estimators=750; total time=  10.6s\n",
      "[CV] END bootstrap=False, max_depth=10, min_samples_leaf=2, min_samples_split=25, n_estimators=500; total time=   7.1s\n",
      "[CV] END bootstrap=False, max_depth=10, min_samples_leaf=2, min_samples_split=25, n_estimators=500; total time=   7.2s\n",
      "[CV] END bootstrap=False, max_depth=10, min_samples_leaf=2, min_samples_split=25, n_estimators=500; total time=   7.2s\n",
      "[CV] END bootstrap=False, max_depth=10, min_samples_leaf=2, min_samples_split=25, n_estimators=500; total time=   6.2s\n",
      "[CV] END bootstrap=False, max_depth=10, min_samples_leaf=2, min_samples_split=25, n_estimators=500; total time=   6.1s\n",
      "[CV] END bootstrap=False, max_depth=10, min_samples_leaf=2, min_samples_split=25, n_estimators=750; total time=   9.1s\n",
      "[CV] END bootstrap=False, max_depth=10, min_samples_leaf=2, min_samples_split=25, n_estimators=750; total time=   9.2s\n",
      "[CV] END bootstrap=False, max_depth=10, min_samples_leaf=2, min_samples_split=25, n_estimators=750; total time=   9.1s\n",
      "[CV] END bootstrap=False, max_depth=10, min_samples_leaf=2, min_samples_split=30, n_estimators=250; total time=   3.1s\n",
      "[CV] END bootstrap=False, max_depth=10, min_samples_leaf=2, min_samples_split=30, n_estimators=250; total time=   3.5s\n",
      "[CV] END bootstrap=False, max_depth=10, min_samples_leaf=2, min_samples_split=25, n_estimators=750; total time=   9.5s\n",
      "[CV] END bootstrap=False, max_depth=10, min_samples_leaf=2, min_samples_split=30, n_estimators=250; total time=   3.6s\n",
      "[CV] END bootstrap=False, max_depth=10, min_samples_leaf=2, min_samples_split=30, n_estimators=250; total time=   3.0s\n",
      "[CV] END bootstrap=False, max_depth=10, min_samples_leaf=2, min_samples_split=30, n_estimators=250; total time=   3.1s\n",
      "[CV] END bootstrap=False, max_depth=10, min_samples_leaf=2, min_samples_split=25, n_estimators=750; total time=   9.6s\n",
      "[CV] END bootstrap=False, max_depth=10, min_samples_leaf=2, min_samples_split=30, n_estimators=500; total time=   6.1s\n",
      "[CV] END bootstrap=False, max_depth=10, min_samples_leaf=2, min_samples_split=30, n_estimators=500; total time=   6.1s\n",
      "[CV] END bootstrap=False, max_depth=10, min_samples_leaf=2, min_samples_split=30, n_estimators=500; total time=   6.1s\n",
      "[CV] END bootstrap=False, max_depth=10, min_samples_leaf=2, min_samples_split=30, n_estimators=500; total time=   6.1s\n",
      "[CV] END bootstrap=False, max_depth=10, min_samples_leaf=2, min_samples_split=30, n_estimators=500; total time=   6.1s\n",
      "[CV] END bootstrap=False, max_depth=10, min_samples_leaf=2, min_samples_split=30, n_estimators=750; total time=   9.0s\n",
      "[CV] END bootstrap=False, max_depth=10, min_samples_leaf=2, min_samples_split=30, n_estimators=750; total time=   9.0s\n",
      "[CV] END bootstrap=False, max_depth=10, min_samples_leaf=2, min_samples_split=30, n_estimators=750; total time=   9.1s\n",
      "[CV] END bootstrap=False, max_depth=10, min_samples_leaf=2, min_samples_split=30, n_estimators=750; total time=   9.2s\n",
      "[CV] END bootstrap=False, max_depth=15, min_samples_leaf=1, min_samples_split=20, n_estimators=250; total time=   3.9s\n",
      "[CV] END bootstrap=False, max_depth=15, min_samples_leaf=1, min_samples_split=20, n_estimators=250; total time=   3.9s\n",
      "[CV] END bootstrap=False, max_depth=15, min_samples_leaf=1, min_samples_split=20, n_estimators=250; total time=   3.8s\n",
      "[CV] END bootstrap=False, max_depth=15, min_samples_leaf=1, min_samples_split=20, n_estimators=250; total time=   3.8s\n",
      "[CV] END bootstrap=False, max_depth=15, min_samples_leaf=1, min_samples_split=20, n_estimators=250; total time=   3.8s\n",
      "[CV] END bootstrap=False, max_depth=10, min_samples_leaf=2, min_samples_split=30, n_estimators=750; total time=   9.4s\n",
      "[CV] END bootstrap=False, max_depth=15, min_samples_leaf=1, min_samples_split=20, n_estimators=500; total time=   7.4s\n",
      "[CV] END bootstrap=False, max_depth=15, min_samples_leaf=1, min_samples_split=20, n_estimators=500; total time=   7.4s\n",
      "[CV] END bootstrap=False, max_depth=15, min_samples_leaf=1, min_samples_split=20, n_estimators=500; total time=   7.4s\n",
      "[CV] END bootstrap=False, max_depth=15, min_samples_leaf=1, min_samples_split=20, n_estimators=500; total time=   7.3s\n",
      "[CV] END bootstrap=False, max_depth=15, min_samples_leaf=1, min_samples_split=20, n_estimators=500; total time=   7.4s\n",
      "[CV] END bootstrap=False, max_depth=15, min_samples_leaf=1, min_samples_split=20, n_estimators=750; total time=  11.2s\n",
      "[CV] END bootstrap=False, max_depth=15, min_samples_leaf=1, min_samples_split=20, n_estimators=750; total time=  10.8s\n",
      "[CV] END bootstrap=False, max_depth=15, min_samples_leaf=1, min_samples_split=20, n_estimators=750; total time=  11.1s\n",
      "[CV] END bootstrap=False, max_depth=15, min_samples_leaf=1, min_samples_split=25, n_estimators=250; total time=   3.7s\n",
      "[CV] END bootstrap=False, max_depth=15, min_samples_leaf=1, min_samples_split=25, n_estimators=250; total time=   3.9s\n",
      "[CV] END bootstrap=False, max_depth=15, min_samples_leaf=1, min_samples_split=20, n_estimators=750; total time=  12.4s\n",
      "[CV] END bootstrap=False, max_depth=15, min_samples_leaf=1, min_samples_split=25, n_estimators=250; total time=   5.0s\n",
      "[CV] END bootstrap=False, max_depth=15, min_samples_leaf=1, min_samples_split=25, n_estimators=250; total time=   4.6s\n",
      "[CV] END bootstrap=False, max_depth=15, min_samples_leaf=1, min_samples_split=25, n_estimators=250; total time=   3.5s\n",
      "[CV] END bootstrap=False, max_depth=15, min_samples_leaf=1, min_samples_split=20, n_estimators=750; total time=  12.3s\n",
      "[CV] END bootstrap=False, max_depth=15, min_samples_leaf=1, min_samples_split=25, n_estimators=500; total time=   8.1s\n",
      "[CV] END bootstrap=False, max_depth=15, min_samples_leaf=1, min_samples_split=25, n_estimators=500; total time=   7.9s\n",
      "[CV] END bootstrap=False, max_depth=15, min_samples_leaf=1, min_samples_split=25, n_estimators=500; total time=   7.8s\n",
      "[CV] END bootstrap=False, max_depth=15, min_samples_leaf=1, min_samples_split=25, n_estimators=500; total time=   7.8s\n",
      "[CV] END bootstrap=False, max_depth=15, min_samples_leaf=1, min_samples_split=25, n_estimators=500; total time=   6.4s\n",
      "[CV] END bootstrap=False, max_depth=15, min_samples_leaf=1, min_samples_split=25, n_estimators=750; total time=   9.6s\n",
      "[CV] END bootstrap=False, max_depth=15, min_samples_leaf=1, min_samples_split=25, n_estimators=750; total time=   9.6s\n",
      "[CV] END bootstrap=False, max_depth=15, min_samples_leaf=1, min_samples_split=25, n_estimators=750; total time=   9.7s\n",
      "[CV] END bootstrap=False, max_depth=15, min_samples_leaf=1, min_samples_split=30, n_estimators=250; total time=   3.2s\n",
      "[CV] END bootstrap=False, max_depth=15, min_samples_leaf=1, min_samples_split=25, n_estimators=750; total time=   9.5s\n",
      "[CV] END bootstrap=False, max_depth=15, min_samples_leaf=1, min_samples_split=30, n_estimators=250; total time=   3.2s\n",
      "[CV] END bootstrap=False, max_depth=15, min_samples_leaf=1, min_samples_split=30, n_estimators=250; total time=   3.3s\n",
      "[CV] END bootstrap=False, max_depth=15, min_samples_leaf=1, min_samples_split=30, n_estimators=250; total time=   3.2s\n",
      "[CV] END bootstrap=False, max_depth=15, min_samples_leaf=1, min_samples_split=30, n_estimators=250; total time=   3.4s\n",
      "[CV] END bootstrap=False, max_depth=15, min_samples_leaf=1, min_samples_split=25, n_estimators=750; total time=  10.0s\n",
      "[CV] END bootstrap=False, max_depth=15, min_samples_leaf=1, min_samples_split=30, n_estimators=500; total time=   6.6s\n",
      "[CV] END bootstrap=False, max_depth=15, min_samples_leaf=1, min_samples_split=30, n_estimators=500; total time=   6.6s\n",
      "[CV] END bootstrap=False, max_depth=15, min_samples_leaf=1, min_samples_split=30, n_estimators=500; total time=   6.6s\n",
      "[CV] END bootstrap=False, max_depth=15, min_samples_leaf=1, min_samples_split=30, n_estimators=500; total time=   6.4s\n",
      "[CV] END bootstrap=False, max_depth=15, min_samples_leaf=1, min_samples_split=30, n_estimators=500; total time=   6.4s\n",
      "[CV] END bootstrap=False, max_depth=15, min_samples_leaf=1, min_samples_split=30, n_estimators=750; total time=   9.5s\n",
      "[CV] END bootstrap=False, max_depth=15, min_samples_leaf=1, min_samples_split=30, n_estimators=750; total time=   9.4s\n",
      "[CV] END bootstrap=False, max_depth=15, min_samples_leaf=1, min_samples_split=30, n_estimators=750; total time=   9.5s\n",
      "[CV] END bootstrap=False, max_depth=15, min_samples_leaf=2, min_samples_split=20, n_estimators=250; total time=   3.3s\n",
      "[CV] END bootstrap=False, max_depth=15, min_samples_leaf=2, min_samples_split=20, n_estimators=250; total time=   3.2s\n",
      "[CV] END bootstrap=False, max_depth=15, min_samples_leaf=1, min_samples_split=30, n_estimators=750; total time=   9.6s\n",
      "[CV] END bootstrap=False, max_depth=15, min_samples_leaf=2, min_samples_split=20, n_estimators=250; total time=   3.3s\n",
      "[CV] END bootstrap=False, max_depth=15, min_samples_leaf=2, min_samples_split=20, n_estimators=250; total time=   3.3s\n",
      "[CV] END bootstrap=False, max_depth=15, min_samples_leaf=1, min_samples_split=30, n_estimators=750; total time=   9.6s\n",
      "[CV] END bootstrap=False, max_depth=15, min_samples_leaf=2, min_samples_split=20, n_estimators=250; total time=   3.3s\n",
      "[CV] END bootstrap=False, max_depth=15, min_samples_leaf=2, min_samples_split=20, n_estimators=500; total time=   6.5s\n",
      "[CV] END bootstrap=False, max_depth=15, min_samples_leaf=2, min_samples_split=20, n_estimators=500; total time=   6.5s\n",
      "[CV] END bootstrap=False, max_depth=15, min_samples_leaf=2, min_samples_split=20, n_estimators=500; total time=   6.4s\n",
      "[CV] END bootstrap=False, max_depth=15, min_samples_leaf=2, min_samples_split=20, n_estimators=500; total time=   6.7s\n",
      "[CV] END bootstrap=False, max_depth=15, min_samples_leaf=2, min_samples_split=20, n_estimators=500; total time=   6.5s\n",
      "[CV] END bootstrap=False, max_depth=15, min_samples_leaf=2, min_samples_split=20, n_estimators=750; total time=   9.9s\n",
      "[CV] END bootstrap=False, max_depth=15, min_samples_leaf=2, min_samples_split=20, n_estimators=750; total time=   9.9s\n",
      "[CV] END bootstrap=False, max_depth=15, min_samples_leaf=2, min_samples_split=20, n_estimators=750; total time=   9.9s\n",
      "[CV] END bootstrap=False, max_depth=15, min_samples_leaf=2, min_samples_split=25, n_estimators=250; total time=   3.3s\n",
      "[CV] END bootstrap=False, max_depth=15, min_samples_leaf=2, min_samples_split=25, n_estimators=250; total time=   3.3s\n",
      "[CV] END bootstrap=False, max_depth=15, min_samples_leaf=2, min_samples_split=20, n_estimators=750; total time=   9.9s\n",
      "[CV] END bootstrap=False, max_depth=15, min_samples_leaf=2, min_samples_split=25, n_estimators=250; total time=   3.2s\n",
      "[CV] END bootstrap=False, max_depth=15, min_samples_leaf=2, min_samples_split=25, n_estimators=250; total time=   3.2s\n",
      "[CV] END bootstrap=False, max_depth=15, min_samples_leaf=2, min_samples_split=25, n_estimators=250; total time=   3.2s\n",
      "[CV] END bootstrap=False, max_depth=15, min_samples_leaf=2, min_samples_split=20, n_estimators=750; total time=  10.0s\n",
      "[CV] END bootstrap=False, max_depth=15, min_samples_leaf=2, min_samples_split=25, n_estimators=500; total time=   6.5s\n",
      "[CV] END bootstrap=False, max_depth=15, min_samples_leaf=2, min_samples_split=25, n_estimators=500; total time=   6.4s\n",
      "[CV] END bootstrap=False, max_depth=15, min_samples_leaf=2, min_samples_split=25, n_estimators=500; total time=   6.5s\n",
      "[CV] END bootstrap=False, max_depth=15, min_samples_leaf=2, min_samples_split=25, n_estimators=500; total time=   6.6s\n",
      "[CV] END bootstrap=False, max_depth=15, min_samples_leaf=2, min_samples_split=25, n_estimators=500; total time=   6.8s\n",
      "[CV] END bootstrap=False, max_depth=15, min_samples_leaf=2, min_samples_split=25, n_estimators=750; total time=  10.0s\n",
      "[CV] END bootstrap=False, max_depth=15, min_samples_leaf=2, min_samples_split=25, n_estimators=750; total time=  10.0s\n",
      "[CV] END bootstrap=False, max_depth=15, min_samples_leaf=2, min_samples_split=25, n_estimators=750; total time=   9.7s\n",
      "[CV] END bootstrap=False, max_depth=15, min_samples_leaf=2, min_samples_split=30, n_estimators=250; total time=   3.2s\n",
      "[CV] END bootstrap=False, max_depth=15, min_samples_leaf=2, min_samples_split=30, n_estimators=250; total time=   3.2s\n",
      "[CV] END bootstrap=False, max_depth=15, min_samples_leaf=2, min_samples_split=25, n_estimators=750; total time=   9.7s\n",
      "[CV] END bootstrap=False, max_depth=15, min_samples_leaf=2, min_samples_split=30, n_estimators=250; total time=   3.2s\n",
      "[CV] END bootstrap=False, max_depth=15, min_samples_leaf=2, min_samples_split=30, n_estimators=250; total time=   3.2s\n",
      "[CV] END bootstrap=False, max_depth=15, min_samples_leaf=2, min_samples_split=30, n_estimators=250; total time=   3.2s\n",
      "[CV] END bootstrap=False, max_depth=15, min_samples_leaf=2, min_samples_split=25, n_estimators=750; total time=   9.7s\n",
      "[CV] END bootstrap=False, max_depth=15, min_samples_leaf=2, min_samples_split=30, n_estimators=500; total time=   6.7s\n",
      "[CV] END bootstrap=False, max_depth=15, min_samples_leaf=2, min_samples_split=30, n_estimators=500; total time=   6.6s\n",
      "[CV] END bootstrap=False, max_depth=15, min_samples_leaf=2, min_samples_split=30, n_estimators=500; total time=   7.2s\n",
      "[CV] END bootstrap=False, max_depth=15, min_samples_leaf=2, min_samples_split=30, n_estimators=500; total time=   7.1s\n",
      "[CV] END bootstrap=False, max_depth=15, min_samples_leaf=2, min_samples_split=30, n_estimators=500; total time=   6.9s\n",
      "[CV] END bootstrap=False, max_depth=15, min_samples_leaf=2, min_samples_split=30, n_estimators=750; total time=   9.9s\n",
      "[CV] END bootstrap=False, max_depth=15, min_samples_leaf=2, min_samples_split=30, n_estimators=750; total time=   9.3s\n",
      "[CV] END bootstrap=False, max_depth=15, min_samples_leaf=2, min_samples_split=30, n_estimators=750; total time=   9.4s\n",
      "[CV] END bootstrap=False, max_depth=20, min_samples_leaf=1, min_samples_split=20, n_estimators=250; total time=   3.6s\n",
      "[CV] END bootstrap=False, max_depth=20, min_samples_leaf=1, min_samples_split=20, n_estimators=250; total time=   3.5s\n",
      "[CV] END bootstrap=False, max_depth=15, min_samples_leaf=2, min_samples_split=30, n_estimators=750; total time=   9.5s\n",
      "[CV] END bootstrap=False, max_depth=20, min_samples_leaf=1, min_samples_split=20, n_estimators=250; total time=   3.7s\n",
      "[CV] END bootstrap=False, max_depth=20, min_samples_leaf=1, min_samples_split=20, n_estimators=250; total time=   3.6s\n",
      "[CV] END bootstrap=False, max_depth=20, min_samples_leaf=1, min_samples_split=20, n_estimators=250; total time=   3.6s\n",
      "[CV] END bootstrap=False, max_depth=15, min_samples_leaf=2, min_samples_split=30, n_estimators=750; total time=   9.7s\n",
      "[CV] END bootstrap=False, max_depth=20, min_samples_leaf=1, min_samples_split=20, n_estimators=500; total time=   7.1s\n",
      "[CV] END bootstrap=False, max_depth=20, min_samples_leaf=1, min_samples_split=20, n_estimators=500; total time=   7.3s\n",
      "[CV] END bootstrap=False, max_depth=20, min_samples_leaf=1, min_samples_split=20, n_estimators=500; total time=   7.2s\n",
      "[CV] END bootstrap=False, max_depth=20, min_samples_leaf=1, min_samples_split=20, n_estimators=500; total time=   7.2s\n",
      "[CV] END bootstrap=False, max_depth=20, min_samples_leaf=1, min_samples_split=20, n_estimators=500; total time=   7.1s\n",
      "[CV] END bootstrap=False, max_depth=20, min_samples_leaf=1, min_samples_split=20, n_estimators=750; total time=  10.5s\n",
      "[CV] END bootstrap=False, max_depth=20, min_samples_leaf=1, min_samples_split=20, n_estimators=750; total time=  10.6s\n",
      "[CV] END bootstrap=False, max_depth=20, min_samples_leaf=1, min_samples_split=20, n_estimators=750; total time=  10.5s\n",
      "[CV] END bootstrap=False, max_depth=20, min_samples_leaf=1, min_samples_split=25, n_estimators=250; total time=   3.7s\n",
      "[CV] END bootstrap=False, max_depth=20, min_samples_leaf=1, min_samples_split=25, n_estimators=250; total time=   3.8s\n",
      "[CV] END bootstrap=False, max_depth=20, min_samples_leaf=1, min_samples_split=20, n_estimators=750; total time=  10.8s\n",
      "[CV] END bootstrap=False, max_depth=20, min_samples_leaf=1, min_samples_split=25, n_estimators=250; total time=   3.5s\n",
      "[CV] END bootstrap=False, max_depth=20, min_samples_leaf=1, min_samples_split=25, n_estimators=250; total time=   3.4s\n",
      "[CV] END bootstrap=False, max_depth=20, min_samples_leaf=1, min_samples_split=25, n_estimators=250; total time=   3.5s\n",
      "[CV] END bootstrap=False, max_depth=20, min_samples_leaf=1, min_samples_split=20, n_estimators=750; total time=  10.9s\n",
      "[CV] END bootstrap=False, max_depth=20, min_samples_leaf=1, min_samples_split=25, n_estimators=500; total time=   7.3s\n",
      "[CV] END bootstrap=False, max_depth=20, min_samples_leaf=1, min_samples_split=25, n_estimators=500; total time=   7.2s\n",
      "[CV] END bootstrap=False, max_depth=20, min_samples_leaf=1, min_samples_split=25, n_estimators=500; total time=   7.1s\n",
      "[CV] END bootstrap=False, max_depth=20, min_samples_leaf=1, min_samples_split=25, n_estimators=500; total time=   7.0s\n",
      "[CV] END bootstrap=False, max_depth=20, min_samples_leaf=1, min_samples_split=25, n_estimators=500; total time=   6.9s\n",
      "[CV] END bootstrap=False, max_depth=20, min_samples_leaf=1, min_samples_split=25, n_estimators=750; total time=  10.2s\n",
      "[CV] END bootstrap=False, max_depth=20, min_samples_leaf=1, min_samples_split=25, n_estimators=750; total time=  10.2s\n",
      "[CV] END bootstrap=False, max_depth=20, min_samples_leaf=1, min_samples_split=25, n_estimators=750; total time=  10.2s\n",
      "[CV] END bootstrap=False, max_depth=20, min_samples_leaf=1, min_samples_split=30, n_estimators=250; total time=   3.5s\n",
      "[CV] END bootstrap=False, max_depth=20, min_samples_leaf=1, min_samples_split=25, n_estimators=750; total time=  10.2s\n",
      "[CV] END bootstrap=False, max_depth=20, min_samples_leaf=1, min_samples_split=30, n_estimators=250; total time=   3.5s\n",
      "[CV] END bootstrap=False, max_depth=20, min_samples_leaf=1, min_samples_split=30, n_estimators=250; total time=   3.4s\n",
      "[CV] END bootstrap=False, max_depth=20, min_samples_leaf=1, min_samples_split=30, n_estimators=250; total time=   3.4s\n",
      "[CV] END bootstrap=False, max_depth=20, min_samples_leaf=1, min_samples_split=30, n_estimators=250; total time=   3.5s\n",
      "[CV] END bootstrap=False, max_depth=20, min_samples_leaf=1, min_samples_split=25, n_estimators=750; total time=  10.7s\n",
      "[CV] END bootstrap=False, max_depth=20, min_samples_leaf=1, min_samples_split=30, n_estimators=500; total time=   7.2s\n",
      "[CV] END bootstrap=False, max_depth=20, min_samples_leaf=1, min_samples_split=30, n_estimators=500; total time=   7.0s\n",
      "[CV] END bootstrap=False, max_depth=20, min_samples_leaf=1, min_samples_split=30, n_estimators=500; total time=   7.0s\n",
      "[CV] END bootstrap=False, max_depth=20, min_samples_leaf=1, min_samples_split=30, n_estimators=500; total time=   7.0s\n",
      "[CV] END bootstrap=False, max_depth=20, min_samples_leaf=1, min_samples_split=30, n_estimators=500; total time=   6.9s\n",
      "[CV] END bootstrap=False, max_depth=20, min_samples_leaf=1, min_samples_split=30, n_estimators=750; total time=  10.4s\n",
      "[CV] END bootstrap=False, max_depth=20, min_samples_leaf=1, min_samples_split=30, n_estimators=750; total time=  10.4s\n",
      "[CV] END bootstrap=False, max_depth=20, min_samples_leaf=1, min_samples_split=30, n_estimators=750; total time=  10.4s\n",
      "[CV] END bootstrap=False, max_depth=20, min_samples_leaf=2, min_samples_split=20, n_estimators=250; total time=   4.8s\n",
      "[CV] END bootstrap=False, max_depth=20, min_samples_leaf=2, min_samples_split=20, n_estimators=250; total time=   4.4s\n",
      "[CV] END bootstrap=False, max_depth=20, min_samples_leaf=1, min_samples_split=30, n_estimators=750; total time=  12.1s\n",
      "[CV] END bootstrap=False, max_depth=20, min_samples_leaf=2, min_samples_split=20, n_estimators=250; total time=   4.1s\n",
      "[CV] END bootstrap=False, max_depth=20, min_samples_leaf=2, min_samples_split=20, n_estimators=250; total time=   4.2s\n",
      "[CV] END bootstrap=False, max_depth=20, min_samples_leaf=2, min_samples_split=20, n_estimators=250; total time=   3.8s\n",
      "[CV] END bootstrap=False, max_depth=20, min_samples_leaf=1, min_samples_split=30, n_estimators=750; total time=  12.3s\n",
      "[CV] END bootstrap=False, max_depth=20, min_samples_leaf=2, min_samples_split=20, n_estimators=500; total time=   7.2s\n",
      "[CV] END bootstrap=False, max_depth=20, min_samples_leaf=2, min_samples_split=20, n_estimators=500; total time=   7.1s\n",
      "[CV] END bootstrap=False, max_depth=20, min_samples_leaf=2, min_samples_split=20, n_estimators=500; total time=   6.8s\n",
      "[CV] END bootstrap=False, max_depth=20, min_samples_leaf=2, min_samples_split=20, n_estimators=500; total time=   6.9s\n",
      "[CV] END bootstrap=False, max_depth=20, min_samples_leaf=2, min_samples_split=20, n_estimators=500; total time=   7.0s\n",
      "[CV] END bootstrap=False, max_depth=20, min_samples_leaf=2, min_samples_split=20, n_estimators=750; total time=  10.3s\n",
      "[CV] END bootstrap=False, max_depth=20, min_samples_leaf=2, min_samples_split=20, n_estimators=750; total time=  10.2s\n",
      "[CV] END bootstrap=False, max_depth=20, min_samples_leaf=2, min_samples_split=20, n_estimators=750; total time=  10.3s\n",
      "[CV] END bootstrap=False, max_depth=20, min_samples_leaf=2, min_samples_split=25, n_estimators=250; total time=   3.3s\n",
      "[CV] END bootstrap=False, max_depth=20, min_samples_leaf=2, min_samples_split=25, n_estimators=250; total time=   3.4s\n",
      "[CV] END bootstrap=False, max_depth=20, min_samples_leaf=2, min_samples_split=20, n_estimators=750; total time=  10.2s\n",
      "[CV] END bootstrap=False, max_depth=20, min_samples_leaf=2, min_samples_split=25, n_estimators=250; total time=   3.4s\n",
      "[CV] END bootstrap=False, max_depth=20, min_samples_leaf=2, min_samples_split=25, n_estimators=250; total time=   3.4s\n",
      "[CV] END bootstrap=False, max_depth=20, min_samples_leaf=2, min_samples_split=20, n_estimators=750; total time=  10.2s\n",
      "[CV] END bootstrap=False, max_depth=20, min_samples_leaf=2, min_samples_split=25, n_estimators=250; total time=   3.4s\n",
      "[CV] END bootstrap=False, max_depth=20, min_samples_leaf=2, min_samples_split=25, n_estimators=500; total time=   6.7s\n",
      "[CV] END bootstrap=False, max_depth=20, min_samples_leaf=2, min_samples_split=25, n_estimators=500; total time=   6.7s\n",
      "[CV] END bootstrap=False, max_depth=20, min_samples_leaf=2, min_samples_split=25, n_estimators=500; total time=   6.6s\n",
      "[CV] END bootstrap=False, max_depth=20, min_samples_leaf=2, min_samples_split=25, n_estimators=500; total time=   6.7s\n",
      "[CV] END bootstrap=False, max_depth=20, min_samples_leaf=2, min_samples_split=25, n_estimators=500; total time=   6.7s\n",
      "[CV] END bootstrap=False, max_depth=20, min_samples_leaf=2, min_samples_split=25, n_estimators=750; total time=   9.8s\n",
      "[CV] END bootstrap=False, max_depth=20, min_samples_leaf=2, min_samples_split=25, n_estimators=750; total time=   9.8s\n",
      "[CV] END bootstrap=False, max_depth=20, min_samples_leaf=2, min_samples_split=25, n_estimators=750; total time=   9.9s\n",
      "[CV] END bootstrap=False, max_depth=20, min_samples_leaf=2, min_samples_split=30, n_estimators=250; total time=   3.3s\n",
      "[CV] END bootstrap=False, max_depth=20, min_samples_leaf=2, min_samples_split=30, n_estimators=250; total time=   3.4s\n",
      "[CV] END bootstrap=False, max_depth=20, min_samples_leaf=2, min_samples_split=25, n_estimators=750; total time=  10.1s\n",
      "[CV] END bootstrap=False, max_depth=20, min_samples_leaf=2, min_samples_split=30, n_estimators=250; total time=   3.7s\n",
      "[CV] END bootstrap=False, max_depth=20, min_samples_leaf=2, min_samples_split=30, n_estimators=250; total time=   3.7s\n",
      "[CV] END bootstrap=False, max_depth=20, min_samples_leaf=2, min_samples_split=25, n_estimators=750; total time=  10.4s\n",
      "[CV] END bootstrap=False, max_depth=20, min_samples_leaf=2, min_samples_split=30, n_estimators=250; total time=   3.5s\n",
      "[CV] END bootstrap=False, max_depth=20, min_samples_leaf=2, min_samples_split=30, n_estimators=500; total time=   6.7s\n",
      "[CV] END bootstrap=False, max_depth=20, min_samples_leaf=2, min_samples_split=30, n_estimators=500; total time=   6.7s\n",
      "[CV] END bootstrap=False, max_depth=20, min_samples_leaf=2, min_samples_split=30, n_estimators=500; total time=   7.6s\n",
      "[CV] END bootstrap=False, max_depth=20, min_samples_leaf=2, min_samples_split=30, n_estimators=500; total time=   7.7s\n",
      "[CV] END bootstrap=False, max_depth=20, min_samples_leaf=2, min_samples_split=30, n_estimators=500; total time=   8.5s\n",
      "[CV] END bootstrap=False, max_depth=20, min_samples_leaf=2, min_samples_split=30, n_estimators=750; total time=  12.3s\n",
      "[CV] END bootstrap=False, max_depth=20, min_samples_leaf=2, min_samples_split=30, n_estimators=750; total time=  11.8s\n",
      "[CV] END bootstrap=False, max_depth=20, min_samples_leaf=2, min_samples_split=30, n_estimators=750; total time=  12.0s\n",
      "[CV] END bootstrap=False, max_depth=20, min_samples_leaf=2, min_samples_split=30, n_estimators=750; total time=   9.9s\n",
      "[CV] END bootstrap=False, max_depth=20, min_samples_leaf=2, min_samples_split=30, n_estimators=750; total time=   8.0s\n"
     ]
    },
    {
     "data": {
      "text/plain": [
       "{'bootstrap': False,\n",
       " 'max_depth': 15,\n",
       " 'min_samples_leaf': 1,\n",
       " 'min_samples_split': 30,\n",
       " 'n_estimators': 750}"
      ]
     },
     "execution_count": 241,
     "metadata": {},
     "output_type": "execute_result"
    }
   ],
   "source": [
    "param_grid = [{\n",
    "    'n_estimators' : [250, 500, 750],\n",
    "    'max_depth': [10, 15, 20],\n",
    "    'min_samples_split' : [20, 25, 30],\n",
    "    'min_samples_leaf' : [1, 2],\n",
    "    'bootstrap' : [False]\n",
    "}]\n",
    "rf_cf_tuned = RandomForestClassifier(random_state=42)\n",
    "gs = GridSearchCV(rf_cf_tuned, param_grid=param_grid, scoring=\"roc_auc\", cv=5, verbose = 2, n_jobs=-1)\n",
    "gs.fit(X_train_r, y_train_r)\n",
    "gs.best_params_"
   ]
  },
  {
   "cell_type": "code",
   "execution_count": 242,
   "metadata": {},
   "outputs": [],
   "source": [
    "rf_cf_tuned = gs.best_estimator_\n",
    "rf_cf_tuned.fit(X_train_r, y_train_r)\n",
    "y_pred = rf_cf_tuned.predict_proba(X_train_r)[:, 1]\n",
    "auc_train = roc_auc_score(y_train_r, y_pred)\n",
    "cv_res = cross_validate(estimator=rf_cf_tuned, X=X_train_r, y=y_train_r, cv=5, scoring=scoring)\n",
    "auc_cv = cv_res[\"test_AUC\"].mean()\n",
    "acc_cv = cv_res[\"test_Accuracy\"].mean()\n",
    "\n",
    "df_tuned.loc[len(df_tuned)] = [str(rf_cf_tuned), auc_train, auc_cv, acc_cv]"
   ]
  },
  {
   "cell_type": "markdown",
   "metadata": {},
   "source": [
    "#### Random Forest Lable Econding"
   ]
  },
  {
   "cell_type": "markdown",
   "metadata": {},
   "source": [
    "Lable Encoding erzeugt wesentlich weniger Features. Wirkt sich das auf die Performance des Modells aus?"
   ]
  },
  {
   "cell_type": "code",
   "execution_count": 301,
   "metadata": {},
   "outputs": [
    {
     "name": "stdout",
     "output_type": "stream",
     "text": [
      "Fitting 5 folds for each of 10 candidates, totalling 50 fits\n",
      "[CV] END bootstrap=False, max_depth=15, min_samples_leaf=1, min_samples_split=9, n_estimators=550; total time=   8.5s\n",
      "[CV] END bootstrap=False, max_depth=15, min_samples_leaf=1, min_samples_split=9, n_estimators=550; total time=  11.6s\n",
      "[CV] END bootstrap=False, max_depth=15, min_samples_leaf=1, min_samples_split=9, n_estimators=550; total time=  12.9s\n",
      "[CV] END bootstrap=False, max_depth=15, min_samples_leaf=1, min_samples_split=9, n_estimators=550; total time=  11.8s\n",
      "[CV] END bootstrap=False, max_depth=15, min_samples_leaf=1, min_samples_split=9, n_estimators=550; total time=  12.3s\n",
      "[CV] END bootstrap=False, max_depth=10, min_samples_leaf=3, min_samples_split=16, n_estimators=325; total time=   5.0s\n",
      "[CV] END bootstrap=False, max_depth=10, min_samples_leaf=3, min_samples_split=16, n_estimators=325; total time=   5.1s\n",
      "[CV] END bootstrap=False, max_depth=10, min_samples_leaf=3, min_samples_split=16, n_estimators=325; total time=   5.0s\n",
      "[CV] END bootstrap=False, max_depth=10, min_samples_leaf=3, min_samples_split=16, n_estimators=325; total time=   5.2s\n",
      "[CV] END bootstrap=False, max_depth=10, min_samples_leaf=3, min_samples_split=16, n_estimators=325; total time=   6.1s\n",
      "[CV] END bootstrap=True, max_depth=10, min_samples_leaf=5, min_samples_split=30, n_estimators=100; total time=   2.3s\n",
      "[CV] END bootstrap=True, max_depth=10, min_samples_leaf=5, min_samples_split=30, n_estimators=100; total time=   1.5s\n",
      "[CV] END bootstrap=True, max_depth=10, min_samples_leaf=5, min_samples_split=30, n_estimators=100; total time=   2.2s\n",
      "[CV] END bootstrap=True, max_depth=10, min_samples_leaf=5, min_samples_split=30, n_estimators=100; total time=   1.1s\n",
      "[CV] END bootstrap=True, max_depth=10, min_samples_leaf=5, min_samples_split=30, n_estimators=100; total time=   1.5s\n",
      "[CV] END bootstrap=True, max_depth=15, min_samples_leaf=3, min_samples_split=30, n_estimators=325; total time=   4.9s\n",
      "[CV] END bootstrap=True, max_depth=15, min_samples_leaf=3, min_samples_split=30, n_estimators=325; total time=   4.3s\n",
      "[CV] END bootstrap=True, max_depth=15, min_samples_leaf=3, min_samples_split=30, n_estimators=325; total time=   3.7s\n",
      "[CV] END bootstrap=True, max_depth=15, min_samples_leaf=3, min_samples_split=30, n_estimators=325; total time=   3.7s\n",
      "[CV] END bootstrap=True, max_depth=15, min_samples_leaf=3, min_samples_split=30, n_estimators=325; total time=   4.1s\n",
      "[CV] END bootstrap=True, max_depth=15, min_samples_leaf=1, min_samples_split=23, n_estimators=775; total time=  11.0s\n",
      "[CV] END bootstrap=True, max_depth=15, min_samples_leaf=1, min_samples_split=23, n_estimators=775; total time=  11.7s\n",
      "[CV] END bootstrap=True, max_depth=15, min_samples_leaf=1, min_samples_split=23, n_estimators=775; total time=  12.6s\n",
      "[CV] END bootstrap=True, max_depth=15, min_samples_leaf=1, min_samples_split=23, n_estimators=775; total time=  10.5s\n",
      "[CV] END bootstrap=True, max_depth=15, min_samples_leaf=1, min_samples_split=23, n_estimators=775; total time=  11.0s\n",
      "[CV] END bootstrap=False, max_depth=10, min_samples_leaf=1, min_samples_split=23, n_estimators=100; total time=   5.8s\n",
      "[CV] END bootstrap=False, max_depth=10, min_samples_leaf=1, min_samples_split=23, n_estimators=100; total time=   6.6s\n",
      "[CV] END bootstrap=False, max_depth=10, min_samples_leaf=1, min_samples_split=23, n_estimators=100; total time=   4.3s\n",
      "[CV] END bootstrap=False, max_depth=10, min_samples_leaf=1, min_samples_split=23, n_estimators=100; total time=   8.1s\n",
      "[CV] END bootstrap=False, max_depth=10, min_samples_leaf=1, min_samples_split=23, n_estimators=100; total time=   5.8s\n",
      "[CV] END bootstrap=False, max_depth=20, min_samples_leaf=3, min_samples_split=23, n_estimators=100; total time=   5.9s\n",
      "[CV] END bootstrap=False, max_depth=20, min_samples_leaf=3, min_samples_split=23, n_estimators=100; total time=   3.9s\n",
      "[CV] END bootstrap=False, max_depth=20, min_samples_leaf=3, min_samples_split=23, n_estimators=100; total time=   2.4s\n",
      "[CV] END bootstrap=False, max_depth=20, min_samples_leaf=3, min_samples_split=23, n_estimators=100; total time=   2.3s\n",
      "[CV] END bootstrap=False, max_depth=20, min_samples_leaf=3, min_samples_split=23, n_estimators=100; total time=   2.2s\n",
      "[CV] END bootstrap=False, max_depth=10, min_samples_leaf=1, min_samples_split=16, n_estimators=100; total time=   1.9s\n",
      "[CV] END bootstrap=False, max_depth=10, min_samples_leaf=1, min_samples_split=16, n_estimators=100; total time=   1.7s\n",
      "[CV] END bootstrap=False, max_depth=10, min_samples_leaf=1, min_samples_split=16, n_estimators=100; total time=   1.7s\n",
      "[CV] END bootstrap=False, max_depth=10, min_samples_leaf=1, min_samples_split=16, n_estimators=100; total time=   1.7s\n",
      "[CV] END bootstrap=False, max_depth=10, min_samples_leaf=1, min_samples_split=16, n_estimators=100; total time=   1.8s\n",
      "[CV] END bootstrap=True, max_depth=15, min_samples_leaf=5, min_samples_split=23, n_estimators=775; total time=  10.8s\n",
      "[CV] END bootstrap=True, max_depth=15, min_samples_leaf=5, min_samples_split=23, n_estimators=775; total time=  11.9s\n",
      "[CV] END bootstrap=True, max_depth=15, min_samples_leaf=5, min_samples_split=23, n_estimators=775; total time=  11.1s\n",
      "[CV] END bootstrap=True, max_depth=15, min_samples_leaf=5, min_samples_split=23, n_estimators=775; total time=  15.4s\n",
      "[CV] END bootstrap=True, max_depth=15, min_samples_leaf=5, min_samples_split=23, n_estimators=775; total time=  13.0s\n",
      "[CV] END bootstrap=False, max_depth=15, min_samples_leaf=3, min_samples_split=9, n_estimators=325; total time=   8.6s\n",
      "[CV] END bootstrap=False, max_depth=15, min_samples_leaf=3, min_samples_split=9, n_estimators=325; total time=   6.7s\n",
      "[CV] END bootstrap=False, max_depth=15, min_samples_leaf=3, min_samples_split=9, n_estimators=325; total time=   6.5s\n",
      "[CV] END bootstrap=False, max_depth=15, min_samples_leaf=3, min_samples_split=9, n_estimators=325; total time=   7.5s\n",
      "[CV] END bootstrap=False, max_depth=15, min_samples_leaf=3, min_samples_split=9, n_estimators=325; total time=   6.8s\n"
     ]
    },
    {
     "data": {
      "text/plain": [
       "{'n_estimators': 100,\n",
       " 'min_samples_split': 23,\n",
       " 'min_samples_leaf': 1,\n",
       " 'max_depth': 10,\n",
       " 'bootstrap': False}"
      ]
     },
     "execution_count": 301,
     "metadata": {},
     "output_type": "execute_result"
    }
   ],
   "source": [
    "model_params = {\n",
    "    'n_estimators' : np.linspace(100, 1000, 5, dtype=int),\n",
    "    'max_depth': np.linspace(5, 20, 4, dtype=int),\n",
    "    'min_samples_split' : np.linspace(2, 30, 5, dtype=int),\n",
    "    'min_samples_leaf' : np.linspace(1, 5, 3, dtype=int),\n",
    "    'bootstrap' : [True, False]\n",
    "}\n",
    "rf_cf_lbl = RandomForestClassifier(random_state=42)\n",
    "rs = RandomizedSearchCV(rf_cf_lbl, param_distributions=model_params, scoring=\"roc_auc\", cv=5, verbose = 2)\n",
    "rs.fit(X_train_r_lbl, y_train_r)\n",
    "rs.best_params_"
   ]
  },
  {
   "cell_type": "code",
   "execution_count": 302,
   "metadata": {},
   "outputs": [
    {
     "name": "stdout",
     "output_type": "stream",
     "text": [
      "RandomForestClassifier(bootstrap=False, max_depth=10, min_samples_split=23,\n",
      "                       random_state=42) 0.9541516377548047 0.9176549654201068 0.8262834391052352\n"
     ]
    }
   ],
   "source": [
    "rf_cf_lbl = rs.best_estimator_\n",
    "rf_cf_lbl.fit(X_train_r_lbl, y_train_r)\n",
    "y_pred = rf_cf_lbl.predict_proba(X_train_r_lbl)[:, 1]\n",
    "auc_train = roc_auc_score(y_train_r, y_pred)\n",
    "cv_res = cross_validate(estimator=rf_cf_lbl, X=X_train_r_lbl, y=y_train_r, cv=5, scoring=scoring)\n",
    "auc_cv = cv_res[\"test_AUC\"].mean()\n",
    "acc_cv = cv_res[\"test_Accuracy\"].mean()\n",
    "\n",
    "print(str(rf_cf_lbl), auc_train, auc_cv, acc_cv)"
   ]
  },
  {
   "cell_type": "markdown",
   "metadata": {},
   "source": [
    "#### Logistic Regression"
   ]
  },
  {
   "cell_type": "code",
   "execution_count": 248,
   "metadata": {},
   "outputs": [
    {
     "name": "stdout",
     "output_type": "stream",
     "text": [
      "Fitting 5 folds for each of 10 candidates, totalling 50 fits\n",
      "[CV] END ...................C=0.575, penalty=l1, solver=saga; total time=   0.8s\n",
      "[CV] END ...................C=0.575, penalty=l1, solver=saga; total time=   0.4s\n",
      "[CV] END ...................C=0.575, penalty=l1, solver=saga; total time=   0.2s\n",
      "[CV] END ...................C=0.575, penalty=l1, solver=saga; total time=   0.4s\n",
      "[CV] END ...................C=0.575, penalty=l1, solver=saga; total time=   0.4s\n",
      "[CV] END ...............C=1.05, penalty=l2, solver=liblinear; total time=   0.1s\n",
      "[CV] END ...............C=1.05, penalty=l2, solver=liblinear; total time=   0.1s\n",
      "[CV] END ...............C=1.05, penalty=l2, solver=liblinear; total time=   0.0s\n",
      "[CV] END ...............C=1.05, penalty=l2, solver=liblinear; total time=   0.0s\n",
      "[CV] END ...............C=1.05, penalty=l2, solver=liblinear; total time=   0.1s\n",
      "[CV] END ....................C=0.1, penalty=l1, solver=lbfgs; total time=   0.0s\n",
      "[CV] END ....................C=0.1, penalty=l1, solver=lbfgs; total time=   0.0s\n",
      "[CV] END ....................C=0.1, penalty=l1, solver=lbfgs; total time=   0.0s\n",
      "[CV] END ....................C=0.1, penalty=l1, solver=lbfgs; total time=   0.0s\n",
      "[CV] END ....................C=0.1, penalty=l1, solver=lbfgs; total time=   0.0s\n",
      "[CV] END ....................C=2.0, penalty=l2, solver=lbfgs; total time=   0.1s\n"
     ]
    },
    {
     "name": "stderr",
     "output_type": "stream",
     "text": [
      "/Users/hammerer/opt/anaconda3/lib/python3.9/site-packages/sklearn/linear_model/_logistic.py:814: ConvergenceWarning: lbfgs failed to converge (status=1):\n",
      "STOP: TOTAL NO. of ITERATIONS REACHED LIMIT.\n",
      "\n",
      "Increase the number of iterations (max_iter) or scale the data as shown in:\n",
      "    https://scikit-learn.org/stable/modules/preprocessing.html\n",
      "Please also refer to the documentation for alternative solver options:\n",
      "    https://scikit-learn.org/stable/modules/linear_model.html#logistic-regression\n",
      "  n_iter_i = _check_optimize_result(\n",
      "/Users/hammerer/opt/anaconda3/lib/python3.9/site-packages/sklearn/linear_model/_logistic.py:814: ConvergenceWarning: lbfgs failed to converge (status=1):\n",
      "STOP: TOTAL NO. of ITERATIONS REACHED LIMIT.\n",
      "\n",
      "Increase the number of iterations (max_iter) or scale the data as shown in:\n",
      "    https://scikit-learn.org/stable/modules/preprocessing.html\n",
      "Please also refer to the documentation for alternative solver options:\n",
      "    https://scikit-learn.org/stable/modules/linear_model.html#logistic-regression\n",
      "  n_iter_i = _check_optimize_result(\n"
     ]
    },
    {
     "name": "stdout",
     "output_type": "stream",
     "text": [
      "[CV] END ....................C=2.0, penalty=l2, solver=lbfgs; total time=   0.1s\n",
      "[CV] END ....................C=2.0, penalty=l2, solver=lbfgs; total time=   0.1s\n"
     ]
    },
    {
     "name": "stderr",
     "output_type": "stream",
     "text": [
      "/Users/hammerer/opt/anaconda3/lib/python3.9/site-packages/sklearn/linear_model/_logistic.py:814: ConvergenceWarning: lbfgs failed to converge (status=1):\n",
      "STOP: TOTAL NO. of ITERATIONS REACHED LIMIT.\n",
      "\n",
      "Increase the number of iterations (max_iter) or scale the data as shown in:\n",
      "    https://scikit-learn.org/stable/modules/preprocessing.html\n",
      "Please also refer to the documentation for alternative solver options:\n",
      "    https://scikit-learn.org/stable/modules/linear_model.html#logistic-regression\n",
      "  n_iter_i = _check_optimize_result(\n",
      "/Users/hammerer/opt/anaconda3/lib/python3.9/site-packages/sklearn/linear_model/_logistic.py:814: ConvergenceWarning: lbfgs failed to converge (status=1):\n",
      "STOP: TOTAL NO. of ITERATIONS REACHED LIMIT.\n",
      "\n",
      "Increase the number of iterations (max_iter) or scale the data as shown in:\n",
      "    https://scikit-learn.org/stable/modules/preprocessing.html\n",
      "Please also refer to the documentation for alternative solver options:\n",
      "    https://scikit-learn.org/stable/modules/linear_model.html#logistic-regression\n",
      "  n_iter_i = _check_optimize_result(\n"
     ]
    },
    {
     "name": "stdout",
     "output_type": "stream",
     "text": [
      "[CV] END ....................C=2.0, penalty=l2, solver=lbfgs; total time=   0.1s\n",
      "[CV] END ....................C=2.0, penalty=l2, solver=lbfgs; total time=   0.1s\n"
     ]
    },
    {
     "name": "stderr",
     "output_type": "stream",
     "text": [
      "/Users/hammerer/opt/anaconda3/lib/python3.9/site-packages/sklearn/linear_model/_logistic.py:814: ConvergenceWarning: lbfgs failed to converge (status=1):\n",
      "STOP: TOTAL NO. of ITERATIONS REACHED LIMIT.\n",
      "\n",
      "Increase the number of iterations (max_iter) or scale the data as shown in:\n",
      "    https://scikit-learn.org/stable/modules/preprocessing.html\n",
      "Please also refer to the documentation for alternative solver options:\n",
      "    https://scikit-learn.org/stable/modules/linear_model.html#logistic-regression\n",
      "  n_iter_i = _check_optimize_result(\n",
      "/Users/hammerer/opt/anaconda3/lib/python3.9/site-packages/sklearn/linear_model/_logistic.py:814: ConvergenceWarning: lbfgs failed to converge (status=1):\n",
      "STOP: TOTAL NO. of ITERATIONS REACHED LIMIT.\n",
      "\n",
      "Increase the number of iterations (max_iter) or scale the data as shown in:\n",
      "    https://scikit-learn.org/stable/modules/preprocessing.html\n",
      "Please also refer to the documentation for alternative solver options:\n",
      "    https://scikit-learn.org/stable/modules/linear_model.html#logistic-regression\n",
      "  n_iter_i = _check_optimize_result(\n"
     ]
    },
    {
     "name": "stdout",
     "output_type": "stream",
     "text": [
      "[CV] END ...................C=1.05, penalty=l2, solver=lbfgs; total time=   0.1s\n",
      "[CV] END ...................C=1.05, penalty=l2, solver=lbfgs; total time=   0.1s\n"
     ]
    },
    {
     "name": "stderr",
     "output_type": "stream",
     "text": [
      "/Users/hammerer/opt/anaconda3/lib/python3.9/site-packages/sklearn/linear_model/_logistic.py:814: ConvergenceWarning: lbfgs failed to converge (status=1):\n",
      "STOP: TOTAL NO. of ITERATIONS REACHED LIMIT.\n",
      "\n",
      "Increase the number of iterations (max_iter) or scale the data as shown in:\n",
      "    https://scikit-learn.org/stable/modules/preprocessing.html\n",
      "Please also refer to the documentation for alternative solver options:\n",
      "    https://scikit-learn.org/stable/modules/linear_model.html#logistic-regression\n",
      "  n_iter_i = _check_optimize_result(\n",
      "/Users/hammerer/opt/anaconda3/lib/python3.9/site-packages/sklearn/linear_model/_logistic.py:814: ConvergenceWarning: lbfgs failed to converge (status=1):\n",
      "STOP: TOTAL NO. of ITERATIONS REACHED LIMIT.\n",
      "\n",
      "Increase the number of iterations (max_iter) or scale the data as shown in:\n",
      "    https://scikit-learn.org/stable/modules/preprocessing.html\n",
      "Please also refer to the documentation for alternative solver options:\n",
      "    https://scikit-learn.org/stable/modules/linear_model.html#logistic-regression\n",
      "  n_iter_i = _check_optimize_result(\n"
     ]
    },
    {
     "name": "stdout",
     "output_type": "stream",
     "text": [
      "[CV] END ...................C=1.05, penalty=l2, solver=lbfgs; total time=   0.1s\n",
      "[CV] END ...................C=1.05, penalty=l2, solver=lbfgs; total time=   0.1s\n"
     ]
    },
    {
     "name": "stderr",
     "output_type": "stream",
     "text": [
      "/Users/hammerer/opt/anaconda3/lib/python3.9/site-packages/sklearn/linear_model/_logistic.py:814: ConvergenceWarning: lbfgs failed to converge (status=1):\n",
      "STOP: TOTAL NO. of ITERATIONS REACHED LIMIT.\n",
      "\n",
      "Increase the number of iterations (max_iter) or scale the data as shown in:\n",
      "    https://scikit-learn.org/stable/modules/preprocessing.html\n",
      "Please also refer to the documentation for alternative solver options:\n",
      "    https://scikit-learn.org/stable/modules/linear_model.html#logistic-regression\n",
      "  n_iter_i = _check_optimize_result(\n",
      "/Users/hammerer/opt/anaconda3/lib/python3.9/site-packages/sklearn/linear_model/_logistic.py:814: ConvergenceWarning: lbfgs failed to converge (status=1):\n",
      "STOP: TOTAL NO. of ITERATIONS REACHED LIMIT.\n",
      "\n",
      "Increase the number of iterations (max_iter) or scale the data as shown in:\n",
      "    https://scikit-learn.org/stable/modules/preprocessing.html\n",
      "Please also refer to the documentation for alternative solver options:\n",
      "    https://scikit-learn.org/stable/modules/linear_model.html#logistic-regression\n",
      "  n_iter_i = _check_optimize_result(\n"
     ]
    },
    {
     "name": "stdout",
     "output_type": "stream",
     "text": [
      "[CV] END ...................C=1.05, penalty=l2, solver=lbfgs; total time=   0.1s\n",
      "[CV] END ................C=0.1, penalty=l2, solver=liblinear; total time=   0.0s\n",
      "[CV] END ................C=0.1, penalty=l2, solver=liblinear; total time=   0.0s\n",
      "[CV] END ................C=0.1, penalty=l2, solver=liblinear; total time=   0.0s\n",
      "[CV] END ................C=0.1, penalty=l2, solver=liblinear; total time=   0.0s\n",
      "[CV] END ................C=0.1, penalty=l2, solver=liblinear; total time=   0.0s\n",
      "[CV] END ..................C=0.575, penalty=l1, solver=lbfgs; total time=   0.0s\n",
      "[CV] END ..................C=0.575, penalty=l1, solver=lbfgs; total time=   0.0s\n",
      "[CV] END ..................C=0.575, penalty=l1, solver=lbfgs; total time=   0.0s\n",
      "[CV] END ..................C=0.575, penalty=l1, solver=lbfgs; total time=   0.0s\n",
      "[CV] END ..................C=0.575, penalty=l1, solver=lbfgs; total time=   0.0s\n"
     ]
    },
    {
     "name": "stderr",
     "output_type": "stream",
     "text": [
      "/Users/hammerer/opt/anaconda3/lib/python3.9/site-packages/sklearn/linear_model/_logistic.py:814: ConvergenceWarning: lbfgs failed to converge (status=1):\n",
      "STOP: TOTAL NO. of ITERATIONS REACHED LIMIT.\n",
      "\n",
      "Increase the number of iterations (max_iter) or scale the data as shown in:\n",
      "    https://scikit-learn.org/stable/modules/preprocessing.html\n",
      "Please also refer to the documentation for alternative solver options:\n",
      "    https://scikit-learn.org/stable/modules/linear_model.html#logistic-regression\n",
      "  n_iter_i = _check_optimize_result(\n",
      "/Users/hammerer/opt/anaconda3/lib/python3.9/site-packages/sklearn/linear_model/_logistic.py:814: ConvergenceWarning: lbfgs failed to converge (status=1):\n",
      "STOP: TOTAL NO. of ITERATIONS REACHED LIMIT.\n",
      "\n",
      "Increase the number of iterations (max_iter) or scale the data as shown in:\n",
      "    https://scikit-learn.org/stable/modules/preprocessing.html\n",
      "Please also refer to the documentation for alternative solver options:\n",
      "    https://scikit-learn.org/stable/modules/linear_model.html#logistic-regression\n",
      "  n_iter_i = _check_optimize_result(\n",
      "/Users/hammerer/opt/anaconda3/lib/python3.9/site-packages/sklearn/linear_model/_logistic.py:814: ConvergenceWarning: lbfgs failed to converge (status=1):\n",
      "STOP: TOTAL NO. of ITERATIONS REACHED LIMIT.\n",
      "\n",
      "Increase the number of iterations (max_iter) or scale the data as shown in:\n",
      "    https://scikit-learn.org/stable/modules/preprocessing.html\n",
      "Please also refer to the documentation for alternative solver options:\n",
      "    https://scikit-learn.org/stable/modules/linear_model.html#logistic-regression\n",
      "  n_iter_i = _check_optimize_result(\n"
     ]
    },
    {
     "name": "stdout",
     "output_type": "stream",
     "text": [
      "[CV] END ..................C=0.575, penalty=l2, solver=lbfgs; total time=   0.1s\n",
      "[CV] END ..................C=0.575, penalty=l2, solver=lbfgs; total time=   0.1s\n",
      "[CV] END ..................C=0.575, penalty=l2, solver=lbfgs; total time=   0.1s\n"
     ]
    },
    {
     "name": "stderr",
     "output_type": "stream",
     "text": [
      "/Users/hammerer/opt/anaconda3/lib/python3.9/site-packages/sklearn/linear_model/_logistic.py:814: ConvergenceWarning: lbfgs failed to converge (status=1):\n",
      "STOP: TOTAL NO. of ITERATIONS REACHED LIMIT.\n",
      "\n",
      "Increase the number of iterations (max_iter) or scale the data as shown in:\n",
      "    https://scikit-learn.org/stable/modules/preprocessing.html\n",
      "Please also refer to the documentation for alternative solver options:\n",
      "    https://scikit-learn.org/stable/modules/linear_model.html#logistic-regression\n",
      "  n_iter_i = _check_optimize_result(\n",
      "/Users/hammerer/opt/anaconda3/lib/python3.9/site-packages/sklearn/linear_model/_logistic.py:814: ConvergenceWarning: lbfgs failed to converge (status=1):\n",
      "STOP: TOTAL NO. of ITERATIONS REACHED LIMIT.\n",
      "\n",
      "Increase the number of iterations (max_iter) or scale the data as shown in:\n",
      "    https://scikit-learn.org/stable/modules/preprocessing.html\n",
      "Please also refer to the documentation for alternative solver options:\n",
      "    https://scikit-learn.org/stable/modules/linear_model.html#logistic-regression\n",
      "  n_iter_i = _check_optimize_result(\n"
     ]
    },
    {
     "name": "stdout",
     "output_type": "stream",
     "text": [
      "[CV] END ..................C=0.575, penalty=l2, solver=lbfgs; total time=   0.1s\n",
      "[CV] END ..................C=0.575, penalty=l2, solver=lbfgs; total time=   0.1s\n",
      "[CV] END ..................C=1.525, penalty=l1, solver=lbfgs; total time=   0.0s\n",
      "[CV] END ..................C=1.525, penalty=l1, solver=lbfgs; total time=   0.0s\n",
      "[CV] END ..................C=1.525, penalty=l1, solver=lbfgs; total time=   0.0s\n",
      "[CV] END ..................C=1.525, penalty=l1, solver=lbfgs; total time=   0.0s\n",
      "[CV] END ..................C=1.525, penalty=l1, solver=lbfgs; total time=   0.0s\n",
      "[CV] END ...............C=1.05, penalty=l1, solver=liblinear; total time=   0.9s\n",
      "[CV] END ...............C=1.05, penalty=l1, solver=liblinear; total time=   0.9s\n",
      "[CV] END ...............C=1.05, penalty=l1, solver=liblinear; total time=   0.8s\n",
      "[CV] END ...............C=1.05, penalty=l1, solver=liblinear; total time=   0.9s\n",
      "[CV] END ...............C=1.05, penalty=l1, solver=liblinear; total time=   0.7s\n"
     ]
    },
    {
     "name": "stderr",
     "output_type": "stream",
     "text": [
      "/Users/hammerer/opt/anaconda3/lib/python3.9/site-packages/sklearn/model_selection/_validation.py:372: FitFailedWarning: \n",
      "15 fits failed out of a total of 50.\n",
      "The score on these train-test partitions for these parameters will be set to nan.\n",
      "If these failures are not expected, you can try to debug them by setting error_score='raise'.\n",
      "\n",
      "Below are more details about the failures:\n",
      "--------------------------------------------------------------------------------\n",
      "15 fits failed with the following error:\n",
      "Traceback (most recent call last):\n",
      "  File \"/Users/hammerer/opt/anaconda3/lib/python3.9/site-packages/sklearn/model_selection/_validation.py\", line 680, in _fit_and_score\n",
      "    estimator.fit(X_train, y_train, **fit_params)\n",
      "  File \"/Users/hammerer/opt/anaconda3/lib/python3.9/site-packages/sklearn/linear_model/_logistic.py\", line 1461, in fit\n",
      "    solver = _check_solver(self.solver, self.penalty, self.dual)\n",
      "  File \"/Users/hammerer/opt/anaconda3/lib/python3.9/site-packages/sklearn/linear_model/_logistic.py\", line 447, in _check_solver\n",
      "    raise ValueError(\n",
      "ValueError: Solver lbfgs supports only 'l2' or 'none' penalties, got l1 penalty.\n",
      "\n",
      "  warnings.warn(some_fits_failed_message, FitFailedWarning)\n",
      "/Users/hammerer/opt/anaconda3/lib/python3.9/site-packages/sklearn/model_selection/_search.py:969: UserWarning: One or more of the test scores are non-finite: [0.91858478 0.91786275        nan 0.91766462 0.9178946  0.91601902\n",
      "        nan 0.91794251        nan 0.91824018]\n",
      "  warnings.warn(\n"
     ]
    },
    {
     "data": {
      "text/plain": [
       "{'solver': 'saga', 'penalty': 'l1', 'C': 0.575}"
      ]
     },
     "execution_count": 248,
     "metadata": {},
     "output_type": "execute_result"
    }
   ],
   "source": [
    "model_params = {\n",
    "    'penalty' : ['l1', 'l2'],\n",
    "    'C': np.linspace(0.1, 2, 5, dtype=float),\n",
    "    'solver' : ['liblinear', 'saga', 'lbfgs']\n",
    "}\n",
    "lr_cf_tuned = LogisticRegression(random_state=42)\n",
    "rs = RandomizedSearchCV(lr_cf_tuned, param_distributions=model_params, scoring=\"roc_auc\", cv=5, verbose = 2)\n",
    "rs.fit(X_train_r, y_train_r)\n",
    "rs.best_params_"
   ]
  },
  {
   "cell_type": "code",
   "execution_count": 249,
   "metadata": {},
   "outputs": [
    {
     "name": "stdout",
     "output_type": "stream",
     "text": [
      "Fitting 5 folds for each of 8 candidates, totalling 40 fits\n"
     ]
    },
    {
     "name": "stderr",
     "output_type": "stream",
     "text": [
      "/Users/hammerer/opt/anaconda3/lib/python3.9/site-packages/sklearn/linear_model/_logistic.py:814: ConvergenceWarning: lbfgs failed to converge (status=1):\n",
      "STOP: TOTAL NO. of ITERATIONS REACHED LIMIT.\n",
      "\n",
      "Increase the number of iterations (max_iter) or scale the data as shown in:\n",
      "    https://scikit-learn.org/stable/modules/preprocessing.html\n",
      "Please also refer to the documentation for alternative solver options:\n",
      "    https://scikit-learn.org/stable/modules/linear_model.html#logistic-regression\n",
      "  n_iter_i = _check_optimize_result(\n",
      "/Users/hammerer/opt/anaconda3/lib/python3.9/site-packages/sklearn/linear_model/_logistic.py:814: ConvergenceWarning: lbfgs failed to converge (status=1):\n",
      "STOP: TOTAL NO. of ITERATIONS REACHED LIMIT.\n",
      "\n",
      "Increase the number of iterations (max_iter) or scale the data as shown in:\n",
      "    https://scikit-learn.org/stable/modules/preprocessing.html\n",
      "Please also refer to the documentation for alternative solver options:\n",
      "    https://scikit-learn.org/stable/modules/linear_model.html#logistic-regression\n",
      "  n_iter_i = _check_optimize_result(\n",
      "/Users/hammerer/opt/anaconda3/lib/python3.9/site-packages/sklearn/linear_model/_logistic.py:814: ConvergenceWarning: lbfgs failed to converge (status=1):\n",
      "STOP: TOTAL NO. of ITERATIONS REACHED LIMIT.\n",
      "\n",
      "Increase the number of iterations (max_iter) or scale the data as shown in:\n",
      "    https://scikit-learn.org/stable/modules/preprocessing.html\n",
      "Please also refer to the documentation for alternative solver options:\n",
      "    https://scikit-learn.org/stable/modules/linear_model.html#logistic-regression\n",
      "  n_iter_i = _check_optimize_result(\n",
      "/Users/hammerer/opt/anaconda3/lib/python3.9/site-packages/sklearn/linear_model/_logistic.py:814: ConvergenceWarning: lbfgs failed to converge (status=1):\n",
      "STOP: TOTAL NO. of ITERATIONS REACHED LIMIT.\n",
      "\n",
      "Increase the number of iterations (max_iter) or scale the data as shown in:\n",
      "    https://scikit-learn.org/stable/modules/preprocessing.html\n",
      "Please also refer to the documentation for alternative solver options:\n",
      "    https://scikit-learn.org/stable/modules/linear_model.html#logistic-regression\n",
      "  n_iter_i = _check_optimize_result(\n",
      "/Users/hammerer/opt/anaconda3/lib/python3.9/site-packages/sklearn/linear_model/_logistic.py:814: ConvergenceWarning: lbfgs failed to converge (status=1):\n",
      "STOP: TOTAL NO. of ITERATIONS REACHED LIMIT.\n",
      "\n",
      "Increase the number of iterations (max_iter) or scale the data as shown in:\n",
      "    https://scikit-learn.org/stable/modules/preprocessing.html\n",
      "Please also refer to the documentation for alternative solver options:\n",
      "    https://scikit-learn.org/stable/modules/linear_model.html#logistic-regression\n",
      "  n_iter_i = _check_optimize_result(\n",
      "/Users/hammerer/opt/anaconda3/lib/python3.9/site-packages/sklearn/linear_model/_logistic.py:814: ConvergenceWarning: lbfgs failed to converge (status=1):\n",
      "STOP: TOTAL NO. of ITERATIONS REACHED LIMIT.\n",
      "\n",
      "Increase the number of iterations (max_iter) or scale the data as shown in:\n",
      "    https://scikit-learn.org/stable/modules/preprocessing.html\n",
      "Please also refer to the documentation for alternative solver options:\n",
      "    https://scikit-learn.org/stable/modules/linear_model.html#logistic-regression\n",
      "  n_iter_i = _check_optimize_result(\n",
      "/Users/hammerer/opt/anaconda3/lib/python3.9/site-packages/sklearn/linear_model/_logistic.py:814: ConvergenceWarning: lbfgs failed to converge (status=1):\n",
      "STOP: TOTAL NO. of ITERATIONS REACHED LIMIT.\n",
      "\n",
      "Increase the number of iterations (max_iter) or scale the data as shown in:\n",
      "    https://scikit-learn.org/stable/modules/preprocessing.html\n",
      "Please also refer to the documentation for alternative solver options:\n",
      "    https://scikit-learn.org/stable/modules/linear_model.html#logistic-regression\n",
      "  n_iter_i = _check_optimize_result(\n",
      "/Users/hammerer/opt/anaconda3/lib/python3.9/site-packages/sklearn/linear_model/_logistic.py:814: ConvergenceWarning: lbfgs failed to converge (status=1):\n",
      "STOP: TOTAL NO. of ITERATIONS REACHED LIMIT.\n",
      "\n",
      "Increase the number of iterations (max_iter) or scale the data as shown in:\n",
      "    https://scikit-learn.org/stable/modules/preprocessing.html\n",
      "Please also refer to the documentation for alternative solver options:\n",
      "    https://scikit-learn.org/stable/modules/linear_model.html#logistic-regression\n",
      "  n_iter_i = _check_optimize_result(\n",
      "/Users/hammerer/opt/anaconda3/lib/python3.9/site-packages/sklearn/linear_model/_logistic.py:814: ConvergenceWarning: lbfgs failed to converge (status=1):\n",
      "STOP: TOTAL NO. of ITERATIONS REACHED LIMIT.\n",
      "\n",
      "Increase the number of iterations (max_iter) or scale the data as shown in:\n",
      "    https://scikit-learn.org/stable/modules/preprocessing.html\n",
      "Please also refer to the documentation for alternative solver options:\n",
      "    https://scikit-learn.org/stable/modules/linear_model.html#logistic-regression\n",
      "  n_iter_i = _check_optimize_result(\n",
      "/Users/hammerer/opt/anaconda3/lib/python3.9/site-packages/sklearn/linear_model/_logistic.py:814: ConvergenceWarning: lbfgs failed to converge (status=1):\n",
      "STOP: TOTAL NO. of ITERATIONS REACHED LIMIT.\n",
      "\n",
      "Increase the number of iterations (max_iter) or scale the data as shown in:\n",
      "    https://scikit-learn.org/stable/modules/preprocessing.html\n",
      "Please also refer to the documentation for alternative solver options:\n",
      "    https://scikit-learn.org/stable/modules/linear_model.html#logistic-regression\n",
      "  n_iter_i = _check_optimize_result(\n",
      "/Users/hammerer/opt/anaconda3/lib/python3.9/site-packages/sklearn/linear_model/_sag.py:352: ConvergenceWarning: The max_iter was reached which means the coef_ did not converge\n",
      "  warnings.warn(\n",
      "/Users/hammerer/opt/anaconda3/lib/python3.9/site-packages/sklearn/linear_model/_sag.py:352: ConvergenceWarning: The max_iter was reached which means the coef_ did not converge\n",
      "  warnings.warn(\n",
      "/Users/hammerer/opt/anaconda3/lib/python3.9/site-packages/sklearn/model_selection/_validation.py:372: FitFailedWarning: \n",
      "10 fits failed out of a total of 40.\n",
      "The score on these train-test partitions for these parameters will be set to nan.\n",
      "If these failures are not expected, you can try to debug them by setting error_score='raise'.\n",
      "\n",
      "Below are more details about the failures:\n",
      "--------------------------------------------------------------------------------\n",
      "10 fits failed with the following error:\n",
      "Traceback (most recent call last):\n",
      "  File \"/Users/hammerer/opt/anaconda3/lib/python3.9/site-packages/sklearn/model_selection/_validation.py\", line 680, in _fit_and_score\n",
      "    estimator.fit(X_train, y_train, **fit_params)\n",
      "  File \"/Users/hammerer/opt/anaconda3/lib/python3.9/site-packages/sklearn/linear_model/_logistic.py\", line 1461, in fit\n",
      "    solver = _check_solver(self.solver, self.penalty, self.dual)\n",
      "  File \"/Users/hammerer/opt/anaconda3/lib/python3.9/site-packages/sklearn/linear_model/_logistic.py\", line 447, in _check_solver\n",
      "    raise ValueError(\n",
      "ValueError: Solver lbfgs supports only 'l2' or 'none' penalties, got l1 penalty.\n",
      "\n",
      "  warnings.warn(some_fits_failed_message, FitFailedWarning)\n",
      "/Users/hammerer/opt/anaconda3/lib/python3.9/site-packages/sklearn/model_selection/_search.py:969: UserWarning: One or more of the test scores are non-finite: [       nan 0.91865363 0.9179829  0.91798601        nan 0.91856923\n",
      " 0.91795761 0.91795495]\n",
      "  warnings.warn(\n"
     ]
    },
    {
     "data": {
      "text/plain": [
       "{'C': 0.5, 'penalty': 'l1', 'solver': 'saga'}"
      ]
     },
     "execution_count": 249,
     "metadata": {},
     "output_type": "execute_result"
    }
   ],
   "source": [
    "param_grid = [{\n",
    "    'penalty' : ['l1', 'l2'],\n",
    "    'C': [0.5, 0.6],\n",
    "    'solver': ['lbfgs', 'saga']\n",
    "}]\n",
    "\n",
    "lr_cf_tuned = LogisticRegression(random_state=42)\n",
    "gs = GridSearchCV(lr_cf_tuned, param_grid=param_grid, scoring=\"roc_auc\", cv=5, verbose=1, n_jobs=-1)\n",
    "gs.fit(X_train_r, y_train_r)\n",
    "gs.best_params_"
   ]
  },
  {
   "cell_type": "code",
   "execution_count": 251,
   "metadata": {},
   "outputs": [],
   "source": [
    "lr_cf_tuned = gs.best_estimator_\n",
    "\n",
    "lr_cf_tuned.fit(X_train_r, y_train_r)\n",
    "y_pred = lr_cf_tuned.predict_proba(X_train_r)[:, 1]\n",
    "\n",
    "auc_train = roc_auc_score(y_train_r, y_pred)\n",
    "cv_res = cross_validate(estimator=lr_cf_tuned, X=X_train_r, y=y_train_r, cv=5, scoring=scoring)\n",
    "auc_cv = cv_res[\"test_AUC\"].mean()\n",
    "acc_cv = cv_res[\"test_Accuracy\"].mean()\n",
    "\n",
    "df_tuned.loc[len(df_tuned)] = [lr_cf, auc_train, auc_cv, acc_cv]"
   ]
  },
  {
   "cell_type": "markdown",
   "metadata": {},
   "source": [
    "#### SVM"
   ]
  },
  {
   "cell_type": "code",
   "execution_count": 259,
   "metadata": {},
   "outputs": [
    {
     "name": "stdout",
     "output_type": "stream",
     "text": [
      "Fitting 5 folds for each of 6 candidates, totalling 30 fits\n",
      "[CV] END ..................................C=0.1, gamma=auto; total time=  36.9s\n",
      "[CV] END ..................................C=0.1, gamma=auto; total time=  37.4s\n",
      "[CV] END ..................................C=0.1, gamma=auto; total time=  38.0s\n",
      "[CV] END ..................................C=0.1, gamma=auto; total time=  38.4s\n",
      "[CV] END .................................C=0.1, gamma=scale; total time=  27.2s\n",
      "[CV] END .................................C=0.1, gamma=scale; total time=  28.4s\n",
      "[CV] END .................................C=0.1, gamma=scale; total time=  28.3s\n",
      "[CV] END ..................................C=0.1, gamma=auto; total time=  31.9s\n",
      "[CV] END ....................................C=1, gamma=auto; total time=  23.6s\n",
      "[CV] END ....................................C=1, gamma=auto; total time=  22.6s\n",
      "[CV] END .................................C=0.1, gamma=scale; total time=  27.6s\n",
      "[CV] END .................................C=0.1, gamma=scale; total time=  28.8s\n",
      "[CV] END ....................................C=1, gamma=auto; total time=  24.3s\n",
      "[CV] END ....................................C=1, gamma=auto; total time=  23.7s\n",
      "[CV] END ....................................C=1, gamma=auto; total time=  23.5s\n",
      "[CV] END ...................................C=1, gamma=scale; total time=  21.8s\n",
      "[CV] END ...................................C=1, gamma=scale; total time=  21.5s\n",
      "[CV] END ...................................C=1, gamma=scale; total time=  21.0s\n",
      "[CV] END ...................................C=1, gamma=scale; total time=  20.8s\n",
      "[CV] END ...................................C=1, gamma=scale; total time=  21.3s\n",
      "[CV] END ...................................C=10, gamma=auto; total time=  18.9s\n",
      "[CV] END ...................................C=10, gamma=auto; total time=  19.3s\n",
      "[CV] END ...................................C=10, gamma=auto; total time=  19.0s\n",
      "[CV] END ...................................C=10, gamma=auto; total time=  18.6s\n",
      "[CV] END ...................................C=10, gamma=auto; total time=  19.3s\n",
      "[CV] END ..................................C=10, gamma=scale; total time=  19.5s\n",
      "[CV] END ..................................C=10, gamma=scale; total time=  19.4s\n",
      "[CV] END ..................................C=10, gamma=scale; total time=  18.9s\n",
      "[CV] END ..................................C=10, gamma=scale; total time=  11.3s\n",
      "[CV] END ..................................C=10, gamma=scale; total time=  11.4s\n"
     ]
    },
    {
     "data": {
      "text/plain": [
       "{'C': 10, 'gamma': 'auto'}"
      ]
     },
     "execution_count": 259,
     "metadata": {},
     "output_type": "execute_result"
    }
   ],
   "source": [
    "param_grid = [{\n",
    "    'C': [0.1, 1, 10],\n",
    "    'gamma': ['auto', 'scale']\n",
    "}]\n",
    "\n",
    "svm_cf_tuned = SVC(probability=True, random_state=42, kernel=\"rbf\")\n",
    "gs = GridSearchCV(svm_cf_tuned, param_grid=param_grid, scoring=\"roc_auc\", cv=5, verbose=2, n_jobs=-1)\n",
    "gs.fit(X_train_r, y_train_r)\n",
    "gs.best_params_"
   ]
  },
  {
   "cell_type": "code",
   "execution_count": 335,
   "metadata": {},
   "outputs": [],
   "source": [
    "svm_cf_tuned = gs.best_estimator_\n",
    "\n",
    "svm_cf_tuned.fit(X_train_r, y_train_r)\n",
    "y_pred = svm_cf_tuned.predict_proba(X_train_r)[:, 1]\n",
    "\n",
    "auc_train = roc_auc_score(y_train_r, y_pred)\n",
    "cv_res = cross_validate(estimator=svm_cf_tuned, X=X_train_r, y=y_train_r, cv=5, scoring=scoring, n_jobs=-1)\n",
    "auc_cv = cv_res[\"test_AUC\"].mean()\n",
    "acc_cv = cv_res[\"test_Accuracy\"].mean()\n",
    "\n",
    "df_tuned.loc[len(df_tuned)] = [svm_cf_tuned, auc_train, auc_cv, acc_cv]"
   ]
  },
  {
   "cell_type": "markdown",
   "metadata": {},
   "source": [
    "#### XGBoost"
   ]
  },
  {
   "cell_type": "code",
   "execution_count": 254,
   "metadata": {},
   "outputs": [
    {
     "name": "stdout",
     "output_type": "stream",
     "text": [
      "Fitting 5 folds for each of 10 candidates, totalling 50 fits\n",
      "[18:45:24] WARNING: /var/folders/sy/f16zz6x50xz3113nwtb9bvq00000gp/T/abs_44tbtwf8c1/croots/recipe/xgboost-split_1659548960882/work/src/learner.cc:1115: Starting in XGBoost 1.3.0, the default evaluation metric used with the objective 'binary:logistic' was changed from 'error' to 'logloss'. Explicitly set eval_metric if you'd like to restore the old behavior.\n",
      "[CV] END ....learning_rate=0, max_depth=20, n_estimators=100; total time=   5.1s\n",
      "[18:45:29] WARNING: /var/folders/sy/f16zz6x50xz3113nwtb9bvq00000gp/T/abs_44tbtwf8c1/croots/recipe/xgboost-split_1659548960882/work/src/learner.cc:1115: Starting in XGBoost 1.3.0, the default evaluation metric used with the objective 'binary:logistic' was changed from 'error' to 'logloss'. Explicitly set eval_metric if you'd like to restore the old behavior.\n",
      "[CV] END ....learning_rate=0, max_depth=20, n_estimators=100; total time=   4.9s\n",
      "[18:45:34] WARNING: /var/folders/sy/f16zz6x50xz3113nwtb9bvq00000gp/T/abs_44tbtwf8c1/croots/recipe/xgboost-split_1659548960882/work/src/learner.cc:1115: Starting in XGBoost 1.3.0, the default evaluation metric used with the objective 'binary:logistic' was changed from 'error' to 'logloss'. Explicitly set eval_metric if you'd like to restore the old behavior.\n",
      "[CV] END ....learning_rate=0, max_depth=20, n_estimators=100; total time=   5.0s\n",
      "[18:45:39] WARNING: /var/folders/sy/f16zz6x50xz3113nwtb9bvq00000gp/T/abs_44tbtwf8c1/croots/recipe/xgboost-split_1659548960882/work/src/learner.cc:1115: Starting in XGBoost 1.3.0, the default evaluation metric used with the objective 'binary:logistic' was changed from 'error' to 'logloss'. Explicitly set eval_metric if you'd like to restore the old behavior.\n",
      "[CV] END ....learning_rate=0, max_depth=20, n_estimators=100; total time=   5.0s\n",
      "[18:45:44] WARNING: /var/folders/sy/f16zz6x50xz3113nwtb9bvq00000gp/T/abs_44tbtwf8c1/croots/recipe/xgboost-split_1659548960882/work/src/learner.cc:1115: Starting in XGBoost 1.3.0, the default evaluation metric used with the objective 'binary:logistic' was changed from 'error' to 'logloss'. Explicitly set eval_metric if you'd like to restore the old behavior.\n",
      "[CV] END ....learning_rate=0, max_depth=20, n_estimators=100; total time=   5.2s\n",
      "[18:45:49] WARNING: /var/folders/sy/f16zz6x50xz3113nwtb9bvq00000gp/T/abs_44tbtwf8c1/croots/recipe/xgboost-split_1659548960882/work/src/learner.cc:1115: Starting in XGBoost 1.3.0, the default evaluation metric used with the objective 'binary:logistic' was changed from 'error' to 'logloss'. Explicitly set eval_metric if you'd like to restore the old behavior.\n",
      "[CV] END .....learning_rate=1, max_depth=5, n_estimators=200; total time=   3.2s\n",
      "[18:45:52] WARNING: /var/folders/sy/f16zz6x50xz3113nwtb9bvq00000gp/T/abs_44tbtwf8c1/croots/recipe/xgboost-split_1659548960882/work/src/learner.cc:1115: Starting in XGBoost 1.3.0, the default evaluation metric used with the objective 'binary:logistic' was changed from 'error' to 'logloss'. Explicitly set eval_metric if you'd like to restore the old behavior.\n",
      "[CV] END .....learning_rate=1, max_depth=5, n_estimators=200; total time=   3.1s\n",
      "[18:45:55] WARNING: /var/folders/sy/f16zz6x50xz3113nwtb9bvq00000gp/T/abs_44tbtwf8c1/croots/recipe/xgboost-split_1659548960882/work/src/learner.cc:1115: Starting in XGBoost 1.3.0, the default evaluation metric used with the objective 'binary:logistic' was changed from 'error' to 'logloss'. Explicitly set eval_metric if you'd like to restore the old behavior.\n",
      "[CV] END .....learning_rate=1, max_depth=5, n_estimators=200; total time=   3.1s\n",
      "[18:45:58] WARNING: /var/folders/sy/f16zz6x50xz3113nwtb9bvq00000gp/T/abs_44tbtwf8c1/croots/recipe/xgboost-split_1659548960882/work/src/learner.cc:1115: Starting in XGBoost 1.3.0, the default evaluation metric used with the objective 'binary:logistic' was changed from 'error' to 'logloss'. Explicitly set eval_metric if you'd like to restore the old behavior.\n",
      "[CV] END .....learning_rate=1, max_depth=5, n_estimators=200; total time=   3.1s\n",
      "[18:46:01] WARNING: /var/folders/sy/f16zz6x50xz3113nwtb9bvq00000gp/T/abs_44tbtwf8c1/croots/recipe/xgboost-split_1659548960882/work/src/learner.cc:1115: Starting in XGBoost 1.3.0, the default evaluation metric used with the objective 'binary:logistic' was changed from 'error' to 'logloss'. Explicitly set eval_metric if you'd like to restore the old behavior.\n",
      "[CV] END .....learning_rate=1, max_depth=5, n_estimators=200; total time=   3.3s\n",
      "[18:46:05] WARNING: /var/folders/sy/f16zz6x50xz3113nwtb9bvq00000gp/T/abs_44tbtwf8c1/croots/recipe/xgboost-split_1659548960882/work/src/learner.cc:1115: Starting in XGBoost 1.3.0, the default evaluation metric used with the objective 'binary:logistic' was changed from 'error' to 'logloss'. Explicitly set eval_metric if you'd like to restore the old behavior.\n",
      "[CV] END ....learning_rate=0, max_depth=15, n_estimators=400; total time=  16.8s\n",
      "[18:46:21] WARNING: /var/folders/sy/f16zz6x50xz3113nwtb9bvq00000gp/T/abs_44tbtwf8c1/croots/recipe/xgboost-split_1659548960882/work/src/learner.cc:1115: Starting in XGBoost 1.3.0, the default evaluation metric used with the objective 'binary:logistic' was changed from 'error' to 'logloss'. Explicitly set eval_metric if you'd like to restore the old behavior.\n",
      "[CV] END ....learning_rate=0, max_depth=15, n_estimators=400; total time=  17.4s\n",
      "[18:46:39] WARNING: /var/folders/sy/f16zz6x50xz3113nwtb9bvq00000gp/T/abs_44tbtwf8c1/croots/recipe/xgboost-split_1659548960882/work/src/learner.cc:1115: Starting in XGBoost 1.3.0, the default evaluation metric used with the objective 'binary:logistic' was changed from 'error' to 'logloss'. Explicitly set eval_metric if you'd like to restore the old behavior.\n",
      "[CV] END ....learning_rate=0, max_depth=15, n_estimators=400; total time=  18.0s\n",
      "[18:46:57] WARNING: /var/folders/sy/f16zz6x50xz3113nwtb9bvq00000gp/T/abs_44tbtwf8c1/croots/recipe/xgboost-split_1659548960882/work/src/learner.cc:1115: Starting in XGBoost 1.3.0, the default evaluation metric used with the objective 'binary:logistic' was changed from 'error' to 'logloss'. Explicitly set eval_metric if you'd like to restore the old behavior.\n",
      "[CV] END ....learning_rate=0, max_depth=15, n_estimators=400; total time=  17.5s\n",
      "[18:47:14] WARNING: /var/folders/sy/f16zz6x50xz3113nwtb9bvq00000gp/T/abs_44tbtwf8c1/croots/recipe/xgboost-split_1659548960882/work/src/learner.cc:1115: Starting in XGBoost 1.3.0, the default evaluation metric used with the objective 'binary:logistic' was changed from 'error' to 'logloss'. Explicitly set eval_metric if you'd like to restore the old behavior.\n",
      "[CV] END ....learning_rate=0, max_depth=15, n_estimators=400; total time=  18.5s\n",
      "[18:47:33] WARNING: /var/folders/sy/f16zz6x50xz3113nwtb9bvq00000gp/T/abs_44tbtwf8c1/croots/recipe/xgboost-split_1659548960882/work/src/learner.cc:1115: Starting in XGBoost 1.3.0, the default evaluation metric used with the objective 'binary:logistic' was changed from 'error' to 'logloss'. Explicitly set eval_metric if you'd like to restore the old behavior.\n",
      "[CV] END ....learning_rate=0, max_depth=20, n_estimators=300; total time=  15.5s\n",
      "[18:47:48] WARNING: /var/folders/sy/f16zz6x50xz3113nwtb9bvq00000gp/T/abs_44tbtwf8c1/croots/recipe/xgboost-split_1659548960882/work/src/learner.cc:1115: Starting in XGBoost 1.3.0, the default evaluation metric used with the objective 'binary:logistic' was changed from 'error' to 'logloss'. Explicitly set eval_metric if you'd like to restore the old behavior.\n",
      "[CV] END ....learning_rate=0, max_depth=20, n_estimators=300; total time=  16.3s\n",
      "[18:48:05] WARNING: /var/folders/sy/f16zz6x50xz3113nwtb9bvq00000gp/T/abs_44tbtwf8c1/croots/recipe/xgboost-split_1659548960882/work/src/learner.cc:1115: Starting in XGBoost 1.3.0, the default evaluation metric used with the objective 'binary:logistic' was changed from 'error' to 'logloss'. Explicitly set eval_metric if you'd like to restore the old behavior.\n",
      "[CV] END ....learning_rate=0, max_depth=20, n_estimators=300; total time=  17.1s\n",
      "[18:48:22] WARNING: /var/folders/sy/f16zz6x50xz3113nwtb9bvq00000gp/T/abs_44tbtwf8c1/croots/recipe/xgboost-split_1659548960882/work/src/learner.cc:1115: Starting in XGBoost 1.3.0, the default evaluation metric used with the objective 'binary:logistic' was changed from 'error' to 'logloss'. Explicitly set eval_metric if you'd like to restore the old behavior.\n",
      "[CV] END ....learning_rate=0, max_depth=20, n_estimators=300; total time=  16.6s\n",
      "[18:48:38] WARNING: /var/folders/sy/f16zz6x50xz3113nwtb9bvq00000gp/T/abs_44tbtwf8c1/croots/recipe/xgboost-split_1659548960882/work/src/learner.cc:1115: Starting in XGBoost 1.3.0, the default evaluation metric used with the objective 'binary:logistic' was changed from 'error' to 'logloss'. Explicitly set eval_metric if you'd like to restore the old behavior.\n",
      "[CV] END ....learning_rate=0, max_depth=20, n_estimators=300; total time=  17.0s\n",
      "[18:48:55] WARNING: /var/folders/sy/f16zz6x50xz3113nwtb9bvq00000gp/T/abs_44tbtwf8c1/croots/recipe/xgboost-split_1659548960882/work/src/learner.cc:1115: Starting in XGBoost 1.3.0, the default evaluation metric used with the objective 'binary:logistic' was changed from 'error' to 'logloss'. Explicitly set eval_metric if you'd like to restore the old behavior.\n",
      "[CV] END ....learning_rate=0, max_depth=10, n_estimators=400; total time=  12.8s\n",
      "[18:49:08] WARNING: /var/folders/sy/f16zz6x50xz3113nwtb9bvq00000gp/T/abs_44tbtwf8c1/croots/recipe/xgboost-split_1659548960882/work/src/learner.cc:1115: Starting in XGBoost 1.3.0, the default evaluation metric used with the objective 'binary:logistic' was changed from 'error' to 'logloss'. Explicitly set eval_metric if you'd like to restore the old behavior.\n",
      "[CV] END ....learning_rate=0, max_depth=10, n_estimators=400; total time=  14.1s\n",
      "[18:49:22] WARNING: /var/folders/sy/f16zz6x50xz3113nwtb9bvq00000gp/T/abs_44tbtwf8c1/croots/recipe/xgboost-split_1659548960882/work/src/learner.cc:1115: Starting in XGBoost 1.3.0, the default evaluation metric used with the objective 'binary:logistic' was changed from 'error' to 'logloss'. Explicitly set eval_metric if you'd like to restore the old behavior.\n",
      "[CV] END ....learning_rate=0, max_depth=10, n_estimators=400; total time=  13.1s\n",
      "[18:49:35] WARNING: /var/folders/sy/f16zz6x50xz3113nwtb9bvq00000gp/T/abs_44tbtwf8c1/croots/recipe/xgboost-split_1659548960882/work/src/learner.cc:1115: Starting in XGBoost 1.3.0, the default evaluation metric used with the objective 'binary:logistic' was changed from 'error' to 'logloss'. Explicitly set eval_metric if you'd like to restore the old behavior.\n",
      "[CV] END ....learning_rate=0, max_depth=10, n_estimators=400; total time=  13.4s\n",
      "[18:49:49] WARNING: /var/folders/sy/f16zz6x50xz3113nwtb9bvq00000gp/T/abs_44tbtwf8c1/croots/recipe/xgboost-split_1659548960882/work/src/learner.cc:1115: Starting in XGBoost 1.3.0, the default evaluation metric used with the objective 'binary:logistic' was changed from 'error' to 'logloss'. Explicitly set eval_metric if you'd like to restore the old behavior.\n",
      "[CV] END ....learning_rate=0, max_depth=10, n_estimators=400; total time=  14.6s\n",
      "[18:50:03] WARNING: /var/folders/sy/f16zz6x50xz3113nwtb9bvq00000gp/T/abs_44tbtwf8c1/croots/recipe/xgboost-split_1659548960882/work/src/learner.cc:1115: Starting in XGBoost 1.3.0, the default evaluation metric used with the objective 'binary:logistic' was changed from 'error' to 'logloss'. Explicitly set eval_metric if you'd like to restore the old behavior.\n",
      "[CV] END ....learning_rate=1, max_depth=20, n_estimators=400; total time=  12.0s\n",
      "[18:50:15] WARNING: /var/folders/sy/f16zz6x50xz3113nwtb9bvq00000gp/T/abs_44tbtwf8c1/croots/recipe/xgboost-split_1659548960882/work/src/learner.cc:1115: Starting in XGBoost 1.3.0, the default evaluation metric used with the objective 'binary:logistic' was changed from 'error' to 'logloss'. Explicitly set eval_metric if you'd like to restore the old behavior.\n",
      "[CV] END ....learning_rate=1, max_depth=20, n_estimators=400; total time=  12.2s\n",
      "[18:50:28] WARNING: /var/folders/sy/f16zz6x50xz3113nwtb9bvq00000gp/T/abs_44tbtwf8c1/croots/recipe/xgboost-split_1659548960882/work/src/learner.cc:1115: Starting in XGBoost 1.3.0, the default evaluation metric used with the objective 'binary:logistic' was changed from 'error' to 'logloss'. Explicitly set eval_metric if you'd like to restore the old behavior.\n",
      "[CV] END ....learning_rate=1, max_depth=20, n_estimators=400; total time=  12.6s\n",
      "[18:50:40] WARNING: /var/folders/sy/f16zz6x50xz3113nwtb9bvq00000gp/T/abs_44tbtwf8c1/croots/recipe/xgboost-split_1659548960882/work/src/learner.cc:1115: Starting in XGBoost 1.3.0, the default evaluation metric used with the objective 'binary:logistic' was changed from 'error' to 'logloss'. Explicitly set eval_metric if you'd like to restore the old behavior.\n",
      "[CV] END ....learning_rate=1, max_depth=20, n_estimators=400; total time=  11.5s\n",
      "[18:50:52] WARNING: /var/folders/sy/f16zz6x50xz3113nwtb9bvq00000gp/T/abs_44tbtwf8c1/croots/recipe/xgboost-split_1659548960882/work/src/learner.cc:1115: Starting in XGBoost 1.3.0, the default evaluation metric used with the objective 'binary:logistic' was changed from 'error' to 'logloss'. Explicitly set eval_metric if you'd like to restore the old behavior.\n",
      "[CV] END ....learning_rate=1, max_depth=20, n_estimators=400; total time=  11.9s\n",
      "[18:51:04] WARNING: /var/folders/sy/f16zz6x50xz3113nwtb9bvq00000gp/T/abs_44tbtwf8c1/croots/recipe/xgboost-split_1659548960882/work/src/learner.cc:1115: Starting in XGBoost 1.3.0, the default evaluation metric used with the objective 'binary:logistic' was changed from 'error' to 'logloss'. Explicitly set eval_metric if you'd like to restore the old behavior.\n",
      "[CV] END ....learning_rate=0, max_depth=15, n_estimators=200; total time=  10.2s\n",
      "[18:51:14] WARNING: /var/folders/sy/f16zz6x50xz3113nwtb9bvq00000gp/T/abs_44tbtwf8c1/croots/recipe/xgboost-split_1659548960882/work/src/learner.cc:1115: Starting in XGBoost 1.3.0, the default evaluation metric used with the objective 'binary:logistic' was changed from 'error' to 'logloss'. Explicitly set eval_metric if you'd like to restore the old behavior.\n",
      "[CV] END ....learning_rate=0, max_depth=15, n_estimators=200; total time=   9.6s\n",
      "[18:51:23] WARNING: /var/folders/sy/f16zz6x50xz3113nwtb9bvq00000gp/T/abs_44tbtwf8c1/croots/recipe/xgboost-split_1659548960882/work/src/learner.cc:1115: Starting in XGBoost 1.3.0, the default evaluation metric used with the objective 'binary:logistic' was changed from 'error' to 'logloss'. Explicitly set eval_metric if you'd like to restore the old behavior.\n",
      "[CV] END ....learning_rate=0, max_depth=15, n_estimators=200; total time=   9.6s\n",
      "[18:51:33] WARNING: /var/folders/sy/f16zz6x50xz3113nwtb9bvq00000gp/T/abs_44tbtwf8c1/croots/recipe/xgboost-split_1659548960882/work/src/learner.cc:1115: Starting in XGBoost 1.3.0, the default evaluation metric used with the objective 'binary:logistic' was changed from 'error' to 'logloss'. Explicitly set eval_metric if you'd like to restore the old behavior.\n",
      "[CV] END ....learning_rate=0, max_depth=15, n_estimators=200; total time=   9.4s\n",
      "[18:51:42] WARNING: /var/folders/sy/f16zz6x50xz3113nwtb9bvq00000gp/T/abs_44tbtwf8c1/croots/recipe/xgboost-split_1659548960882/work/src/learner.cc:1115: Starting in XGBoost 1.3.0, the default evaluation metric used with the objective 'binary:logistic' was changed from 'error' to 'logloss'. Explicitly set eval_metric if you'd like to restore the old behavior.\n",
      "[CV] END ....learning_rate=0, max_depth=15, n_estimators=200; total time=   9.9s\n",
      "[18:51:52] WARNING: /var/folders/sy/f16zz6x50xz3113nwtb9bvq00000gp/T/abs_44tbtwf8c1/croots/recipe/xgboost-split_1659548960882/work/src/learner.cc:1115: Starting in XGBoost 1.3.0, the default evaluation metric used with the objective 'binary:logistic' was changed from 'error' to 'logloss'. Explicitly set eval_metric if you'd like to restore the old behavior.\n",
      "[CV] END .....learning_rate=0, max_depth=5, n_estimators=300; total time=   5.3s\n",
      "[18:51:58] WARNING: /var/folders/sy/f16zz6x50xz3113nwtb9bvq00000gp/T/abs_44tbtwf8c1/croots/recipe/xgboost-split_1659548960882/work/src/learner.cc:1115: Starting in XGBoost 1.3.0, the default evaluation metric used with the objective 'binary:logistic' was changed from 'error' to 'logloss'. Explicitly set eval_metric if you'd like to restore the old behavior.\n",
      "[CV] END .....learning_rate=0, max_depth=5, n_estimators=300; total time=   5.3s\n",
      "[18:52:03] WARNING: /var/folders/sy/f16zz6x50xz3113nwtb9bvq00000gp/T/abs_44tbtwf8c1/croots/recipe/xgboost-split_1659548960882/work/src/learner.cc:1115: Starting in XGBoost 1.3.0, the default evaluation metric used with the objective 'binary:logistic' was changed from 'error' to 'logloss'. Explicitly set eval_metric if you'd like to restore the old behavior.\n",
      "[CV] END .....learning_rate=0, max_depth=5, n_estimators=300; total time=   5.2s\n",
      "[18:52:08] WARNING: /var/folders/sy/f16zz6x50xz3113nwtb9bvq00000gp/T/abs_44tbtwf8c1/croots/recipe/xgboost-split_1659548960882/work/src/learner.cc:1115: Starting in XGBoost 1.3.0, the default evaluation metric used with the objective 'binary:logistic' was changed from 'error' to 'logloss'. Explicitly set eval_metric if you'd like to restore the old behavior.\n",
      "[CV] END .....learning_rate=0, max_depth=5, n_estimators=300; total time=   5.3s\n",
      "[18:52:13] WARNING: /var/folders/sy/f16zz6x50xz3113nwtb9bvq00000gp/T/abs_44tbtwf8c1/croots/recipe/xgboost-split_1659548960882/work/src/learner.cc:1115: Starting in XGBoost 1.3.0, the default evaluation metric used with the objective 'binary:logistic' was changed from 'error' to 'logloss'. Explicitly set eval_metric if you'd like to restore the old behavior.\n",
      "[CV] END .....learning_rate=0, max_depth=5, n_estimators=300; total time=   5.1s\n",
      "[18:52:18] WARNING: /var/folders/sy/f16zz6x50xz3113nwtb9bvq00000gp/T/abs_44tbtwf8c1/croots/recipe/xgboost-split_1659548960882/work/src/learner.cc:1115: Starting in XGBoost 1.3.0, the default evaluation metric used with the objective 'binary:logistic' was changed from 'error' to 'logloss'. Explicitly set eval_metric if you'd like to restore the old behavior.\n",
      "[CV] END ....learning_rate=0, max_depth=15, n_estimators=300; total time=  14.1s\n",
      "[18:52:32] WARNING: /var/folders/sy/f16zz6x50xz3113nwtb9bvq00000gp/T/abs_44tbtwf8c1/croots/recipe/xgboost-split_1659548960882/work/src/learner.cc:1115: Starting in XGBoost 1.3.0, the default evaluation metric used with the objective 'binary:logistic' was changed from 'error' to 'logloss'. Explicitly set eval_metric if you'd like to restore the old behavior.\n",
      "[CV] END ....learning_rate=0, max_depth=15, n_estimators=300; total time=  15.0s\n",
      "[18:52:47] WARNING: /var/folders/sy/f16zz6x50xz3113nwtb9bvq00000gp/T/abs_44tbtwf8c1/croots/recipe/xgboost-split_1659548960882/work/src/learner.cc:1115: Starting in XGBoost 1.3.0, the default evaluation metric used with the objective 'binary:logistic' was changed from 'error' to 'logloss'. Explicitly set eval_metric if you'd like to restore the old behavior.\n",
      "[CV] END ....learning_rate=0, max_depth=15, n_estimators=300; total time=  14.7s\n",
      "[18:53:02] WARNING: /var/folders/sy/f16zz6x50xz3113nwtb9bvq00000gp/T/abs_44tbtwf8c1/croots/recipe/xgboost-split_1659548960882/work/src/learner.cc:1115: Starting in XGBoost 1.3.0, the default evaluation metric used with the objective 'binary:logistic' was changed from 'error' to 'logloss'. Explicitly set eval_metric if you'd like to restore the old behavior.\n",
      "[CV] END ....learning_rate=0, max_depth=15, n_estimators=300; total time=  14.8s\n",
      "[18:53:17] WARNING: /var/folders/sy/f16zz6x50xz3113nwtb9bvq00000gp/T/abs_44tbtwf8c1/croots/recipe/xgboost-split_1659548960882/work/src/learner.cc:1115: Starting in XGBoost 1.3.0, the default evaluation metric used with the objective 'binary:logistic' was changed from 'error' to 'logloss'. Explicitly set eval_metric if you'd like to restore the old behavior.\n",
      "[CV] END ....learning_rate=0, max_depth=15, n_estimators=300; total time=  15.5s\n",
      "[18:53:32] WARNING: /var/folders/sy/f16zz6x50xz3113nwtb9bvq00000gp/T/abs_44tbtwf8c1/croots/recipe/xgboost-split_1659548960882/work/src/learner.cc:1115: Starting in XGBoost 1.3.0, the default evaluation metric used with the objective 'binary:logistic' was changed from 'error' to 'logloss'. Explicitly set eval_metric if you'd like to restore the old behavior.\n",
      "[CV] END .....learning_rate=0, max_depth=5, n_estimators=400; total time=   7.1s\n",
      "[18:53:39] WARNING: /var/folders/sy/f16zz6x50xz3113nwtb9bvq00000gp/T/abs_44tbtwf8c1/croots/recipe/xgboost-split_1659548960882/work/src/learner.cc:1115: Starting in XGBoost 1.3.0, the default evaluation metric used with the objective 'binary:logistic' was changed from 'error' to 'logloss'. Explicitly set eval_metric if you'd like to restore the old behavior.\n",
      "[CV] END .....learning_rate=0, max_depth=5, n_estimators=400; total time=   7.3s\n",
      "[18:53:47] WARNING: /var/folders/sy/f16zz6x50xz3113nwtb9bvq00000gp/T/abs_44tbtwf8c1/croots/recipe/xgboost-split_1659548960882/work/src/learner.cc:1115: Starting in XGBoost 1.3.0, the default evaluation metric used with the objective 'binary:logistic' was changed from 'error' to 'logloss'. Explicitly set eval_metric if you'd like to restore the old behavior.\n",
      "[CV] END .....learning_rate=0, max_depth=5, n_estimators=400; total time=   7.3s\n",
      "[18:53:54] WARNING: /var/folders/sy/f16zz6x50xz3113nwtb9bvq00000gp/T/abs_44tbtwf8c1/croots/recipe/xgboost-split_1659548960882/work/src/learner.cc:1115: Starting in XGBoost 1.3.0, the default evaluation metric used with the objective 'binary:logistic' was changed from 'error' to 'logloss'. Explicitly set eval_metric if you'd like to restore the old behavior.\n",
      "[CV] END .....learning_rate=0, max_depth=5, n_estimators=400; total time=   7.3s\n",
      "[18:54:01] WARNING: /var/folders/sy/f16zz6x50xz3113nwtb9bvq00000gp/T/abs_44tbtwf8c1/croots/recipe/xgboost-split_1659548960882/work/src/learner.cc:1115: Starting in XGBoost 1.3.0, the default evaluation metric used with the objective 'binary:logistic' was changed from 'error' to 'logloss'. Explicitly set eval_metric if you'd like to restore the old behavior.\n",
      "[CV] END .....learning_rate=0, max_depth=5, n_estimators=400; total time=   7.6s\n",
      "[18:54:09] WARNING: /var/folders/sy/f16zz6x50xz3113nwtb9bvq00000gp/T/abs_44tbtwf8c1/croots/recipe/xgboost-split_1659548960882/work/src/learner.cc:1115: Starting in XGBoost 1.3.0, the default evaluation metric used with the objective 'binary:logistic' was changed from 'error' to 'logloss'. Explicitly set eval_metric if you'd like to restore the old behavior.\n"
     ]
    },
    {
     "data": {
      "text/plain": [
       "{'n_estimators': 200, 'max_depth': 5, 'learning_rate': 1}"
      ]
     },
     "execution_count": 254,
     "metadata": {},
     "output_type": "execute_result"
    }
   ],
   "source": [
    "model_params = {\n",
    "    'n_estimators' : np.linspace(100, 400, 4, dtype=int),\n",
    "    'max_depth': np.linspace(5, 20, 4, dtype=int),\n",
    "    'learning_rate' : np.linspace(0.1, 1, 4, dtype=int)\n",
    "}\n",
    "xgb_cf_tuned = XGBClassifier(use_label_encoder=False)\n",
    "rs = RandomizedSearchCV(xgb_cf_tuned, param_distributions=model_params, scoring=\"roc_auc\", cv=5, verbose = 2)\n",
    "rs.fit(X_train_r, y_train_r)\n",
    "rs.best_params_"
   ]
  },
  {
   "cell_type": "code",
   "execution_count": 255,
   "metadata": {},
   "outputs": [
    {
     "name": "stdout",
     "output_type": "stream",
     "text": [
      "Fitting 5 folds for each of 12 candidates, totalling 60 fits\n"
     ]
    },
    {
     "name": "stderr",
     "output_type": "stream",
     "text": [
      "/Users/hammerer/opt/anaconda3/lib/python3.9/site-packages/xgboost/compat.py:36: FutureWarning: pandas.Int64Index is deprecated and will be removed from pandas in a future version. Use pandas.Index with the appropriate dtype instead.\n",
      "  from pandas import MultiIndex, Int64Index\n",
      "/Users/hammerer/opt/anaconda3/lib/python3.9/site-packages/xgboost/compat.py:36: FutureWarning: pandas.Int64Index is deprecated and will be removed from pandas in a future version. Use pandas.Index with the appropriate dtype instead.\n",
      "  from pandas import MultiIndex, Int64Index\n",
      "/Users/hammerer/opt/anaconda3/lib/python3.9/site-packages/xgboost/compat.py:36: FutureWarning: pandas.Int64Index is deprecated and will be removed from pandas in a future version. Use pandas.Index with the appropriate dtype instead.\n",
      "  from pandas import MultiIndex, Int64Index\n",
      "/Users/hammerer/opt/anaconda3/lib/python3.9/site-packages/xgboost/compat.py:36: FutureWarning: pandas.Int64Index is deprecated and will be removed from pandas in a future version. Use pandas.Index with the appropriate dtype instead.\n",
      "  from pandas import MultiIndex, Int64Index\n"
     ]
    },
    {
     "name": "stdout",
     "output_type": "stream",
     "text": [
      "[19:00:54] WARNING: /var/folders/sy/f16zz6x50xz3113nwtb9bvq00000gp/T/abs_44tbtwf8c1/croots/recipe/xgboost-split_1659548960882/work/src/learner.cc:1115: Starting in XGBoost 1.3.0, the default evaluation metric used with the objective 'binary:logistic' was changed from 'error' to 'logloss'. Explicitly set eval_metric if you'd like to restore the old behavior.\n",
      "[19:00:54] WARNING: /var/folders/sy/f16zz6x50xz3113nwtb9bvq00000gp/T/abs_44tbtwf8c1/croots/recipe/xgboost-split_1659548960882/work/src/learner.cc:1115: Starting in XGBoost 1.3.0, the default evaluation metric used with the objective 'binary:logistic' was changed from 'error' to 'logloss'. Explicitly set eval_metric if you'd like to restore the old behavior.\n",
      "[19:00:54] WARNING: /var/folders/sy/f16zz6x50xz3113nwtb9bvq00000gp/T/abs_44tbtwf8c1/croots/recipe/xgboost-split_1659548960882/work/src/learner.cc:1115: Starting in XGBoost 1.3.0, the default evaluation metric used with the objective 'binary:logistic' was changed from 'error' to 'logloss'. Explicitly set eval_metric if you'd like to restore the old behavior.\n",
      "[19:00:54] WARNING: /var/folders/sy/f16zz6x50xz3113nwtb9bvq00000gp/T/abs_44tbtwf8c1/croots/recipe/xgboost-split_1659548960882/work/src/learner.cc:1115: Starting in XGBoost 1.3.0, the default evaluation metric used with the objective 'binary:logistic' was changed from 'error' to 'logloss'. Explicitly set eval_metric if you'd like to restore the old behavior.\n",
      "[CV] END ...learning_rate=0.1, max_depth=5, n_estimators=100; total time=   5.6s\n",
      "[CV] END ...learning_rate=0.1, max_depth=5, n_estimators=100; total time=   5.7s\n",
      "[CV] END ...learning_rate=0.1, max_depth=5, n_estimators=100; total time=   5.7s\n",
      "[19:01:00] WARNING: /var/folders/sy/f16zz6x50xz3113nwtb9bvq00000gp/T/abs_44tbtwf8c1/croots/recipe/xgboost-split_1659548960882/work/src/learner.cc:1115: Starting in XGBoost 1.3.0, the default evaluation metric used with the objective 'binary:logistic' was changed from 'error' to 'logloss'. Explicitly set eval_metric if you'd like to restore the old behavior.\n",
      "[19:01:00] WARNING: /var/folders/sy/f16zz6x50xz3113nwtb9bvq00000gp/T/abs_44tbtwf8c1/croots/recipe/xgboost-split_1659548960882/work/src/learner.cc:1115: Starting in XGBoost 1.3.0, the default evaluation metric used with the objective 'binary:logistic' was changed from 'error' to 'logloss'. Explicitly set eval_metric if you'd like to restore the old behavior.\n",
      "[19:01:00] WARNING: /var/folders/sy/f16zz6x50xz3113nwtb9bvq00000gp/T/abs_44tbtwf8c1/croots/recipe/xgboost-split_1659548960882/work/src/learner.cc:1115: Starting in XGBoost 1.3.0, the default evaluation metric used with the objective 'binary:logistic' was changed from 'error' to 'logloss'. Explicitly set eval_metric if you'd like to restore the old behavior.\n",
      "[CV] END ...learning_rate=0.1, max_depth=5, n_estimators=100; total time=   5.9s\n",
      "[19:01:00] WARNING: /var/folders/sy/f16zz6x50xz3113nwtb9bvq00000gp/T/abs_44tbtwf8c1/croots/recipe/xgboost-split_1659548960882/work/src/learner.cc:1115: Starting in XGBoost 1.3.0, the default evaluation metric used with the objective 'binary:logistic' was changed from 'error' to 'logloss'. Explicitly set eval_metric if you'd like to restore the old behavior.\n",
      "[CV] END ...learning_rate=0.1, max_depth=5, n_estimators=100; total time=   5.9s\n",
      "[19:01:06] WARNING: /var/folders/sy/f16zz6x50xz3113nwtb9bvq00000gp/T/abs_44tbtwf8c1/croots/recipe/xgboost-split_1659548960882/work/src/learner.cc:1115: Starting in XGBoost 1.3.0, the default evaluation metric used with the objective 'binary:logistic' was changed from 'error' to 'logloss'. Explicitly set eval_metric if you'd like to restore the old behavior.\n",
      "[CV] END ...learning_rate=0.1, max_depth=5, n_estimators=200; total time=  11.8s\n",
      "[CV] END ...learning_rate=0.1, max_depth=5, n_estimators=200; total time=  11.7s\n",
      "[19:01:12] WARNING: /var/folders/sy/f16zz6x50xz3113nwtb9bvq00000gp/T/abs_44tbtwf8c1/croots/recipe/xgboost-split_1659548960882/work/src/learner.cc:1115: Starting in XGBoost 1.3.0, the default evaluation metric used with the objective 'binary:logistic' was changed from 'error' to 'logloss'. Explicitly set eval_metric if you'd like to restore the old behavior.\n",
      "[CV] END ...learning_rate=0.1, max_depth=5, n_estimators=200; total time=  11.9s\n",
      "[19:01:12] WARNING: /var/folders/sy/f16zz6x50xz3113nwtb9bvq00000gp/T/abs_44tbtwf8c1/croots/recipe/xgboost-split_1659548960882/work/src/learner.cc:1115: Starting in XGBoost 1.3.0, the default evaluation metric used with the objective 'binary:logistic' was changed from 'error' to 'logloss'. Explicitly set eval_metric if you'd like to restore the old behavior.\n",
      "[19:01:12] WARNING: /var/folders/sy/f16zz6x50xz3113nwtb9bvq00000gp/T/abs_44tbtwf8c1/croots/recipe/xgboost-split_1659548960882/work/src/learner.cc:1115: Starting in XGBoost 1.3.0, the default evaluation metric used with the objective 'binary:logistic' was changed from 'error' to 'logloss'. Explicitly set eval_metric if you'd like to restore the old behavior.\n",
      "[CV] END ...learning_rate=0.1, max_depth=5, n_estimators=200; total time=  11.6s\n",
      "[19:01:17] WARNING: /var/folders/sy/f16zz6x50xz3113nwtb9bvq00000gp/T/abs_44tbtwf8c1/croots/recipe/xgboost-split_1659548960882/work/src/learner.cc:1115: Starting in XGBoost 1.3.0, the default evaluation metric used with the objective 'binary:logistic' was changed from 'error' to 'logloss'. Explicitly set eval_metric if you'd like to restore the old behavior.\n",
      "[CV] END ...learning_rate=0.1, max_depth=5, n_estimators=200; total time=  11.8s\n",
      "[19:01:23] WARNING: /var/folders/sy/f16zz6x50xz3113nwtb9bvq00000gp/T/abs_44tbtwf8c1/croots/recipe/xgboost-split_1659548960882/work/src/learner.cc:1115: Starting in XGBoost 1.3.0, the default evaluation metric used with the objective 'binary:logistic' was changed from 'error' to 'logloss'. Explicitly set eval_metric if you'd like to restore the old behavior.\n",
      "[CV] END ...learning_rate=0.1, max_depth=5, n_estimators=300; total time=  17.8s\n",
      "[CV] END ...learning_rate=0.1, max_depth=5, n_estimators=300; total time=  17.8s\n",
      "[19:01:29] WARNING: /var/folders/sy/f16zz6x50xz3113nwtb9bvq00000gp/T/abs_44tbtwf8c1/croots/recipe/xgboost-split_1659548960882/work/src/learner.cc:1115: Starting in XGBoost 1.3.0, the default evaluation metric used with the objective 'binary:logistic' was changed from 'error' to 'logloss'. Explicitly set eval_metric if you'd like to restore the old behavior.\n",
      "[19:01:30] WARNING: /var/folders/sy/f16zz6x50xz3113nwtb9bvq00000gp/T/abs_44tbtwf8c1/croots/recipe/xgboost-split_1659548960882/work/src/learner.cc:1115: Starting in XGBoost 1.3.0, the default evaluation metric used with the objective 'binary:logistic' was changed from 'error' to 'logloss'. Explicitly set eval_metric if you'd like to restore the old behavior.\n",
      "[CV] END ...learning_rate=0.1, max_depth=5, n_estimators=300; total time=  17.3s\n",
      "[19:01:35] WARNING: /var/folders/sy/f16zz6x50xz3113nwtb9bvq00000gp/T/abs_44tbtwf8c1/croots/recipe/xgboost-split_1659548960882/work/src/learner.cc:1115: Starting in XGBoost 1.3.0, the default evaluation metric used with the objective 'binary:logistic' was changed from 'error' to 'logloss'. Explicitly set eval_metric if you'd like to restore the old behavior.\n",
      "[CV] END ...learning_rate=0.1, max_depth=5, n_estimators=300; total time=  17.2s\n",
      "[19:01:41] WARNING: /var/folders/sy/f16zz6x50xz3113nwtb9bvq00000gp/T/abs_44tbtwf8c1/croots/recipe/xgboost-split_1659548960882/work/src/learner.cc:1115: Starting in XGBoost 1.3.0, the default evaluation metric used with the objective 'binary:logistic' was changed from 'error' to 'logloss'. Explicitly set eval_metric if you'd like to restore the old behavior.\n",
      "[CV] END ..learning_rate=0.1, max_depth=10, n_estimators=100; total time=  13.1s\n",
      "[19:01:43] WARNING: /var/folders/sy/f16zz6x50xz3113nwtb9bvq00000gp/T/abs_44tbtwf8c1/croots/recipe/xgboost-split_1659548960882/work/src/learner.cc:1115: Starting in XGBoost 1.3.0, the default evaluation metric used with the objective 'binary:logistic' was changed from 'error' to 'logloss'. Explicitly set eval_metric if you'd like to restore the old behavior.\n",
      "[CV] END ...learning_rate=0.1, max_depth=5, n_estimators=300; total time=  16.9s\n",
      "[19:01:46] WARNING: /var/folders/sy/f16zz6x50xz3113nwtb9bvq00000gp/T/abs_44tbtwf8c1/croots/recipe/xgboost-split_1659548960882/work/src/learner.cc:1115: Starting in XGBoost 1.3.0, the default evaluation metric used with the objective 'binary:logistic' was changed from 'error' to 'logloss'. Explicitly set eval_metric if you'd like to restore the old behavior.\n",
      "[CV] END ..learning_rate=0.1, max_depth=10, n_estimators=100; total time=  12.8s\n",
      "[19:01:47] WARNING: /var/folders/sy/f16zz6x50xz3113nwtb9bvq00000gp/T/abs_44tbtwf8c1/croots/recipe/xgboost-split_1659548960882/work/src/learner.cc:1115: Starting in XGBoost 1.3.0, the default evaluation metric used with the objective 'binary:logistic' was changed from 'error' to 'logloss'. Explicitly set eval_metric if you'd like to restore the old behavior.\n",
      "[CV] END ..learning_rate=0.1, max_depth=10, n_estimators=100; total time=  12.1s\n",
      "[19:01:53] WARNING: /var/folders/sy/f16zz6x50xz3113nwtb9bvq00000gp/T/abs_44tbtwf8c1/croots/recipe/xgboost-split_1659548960882/work/src/learner.cc:1115: Starting in XGBoost 1.3.0, the default evaluation metric used with the objective 'binary:logistic' was changed from 'error' to 'logloss'. Explicitly set eval_metric if you'd like to restore the old behavior.\n",
      "[CV] END ..learning_rate=0.1, max_depth=10, n_estimators=100; total time=  12.2s\n",
      "[19:01:55] WARNING: /var/folders/sy/f16zz6x50xz3113nwtb9bvq00000gp/T/abs_44tbtwf8c1/croots/recipe/xgboost-split_1659548960882/work/src/learner.cc:1115: Starting in XGBoost 1.3.0, the default evaluation metric used with the objective 'binary:logistic' was changed from 'error' to 'logloss'. Explicitly set eval_metric if you'd like to restore the old behavior.\n",
      "[CV] END ..learning_rate=0.1, max_depth=10, n_estimators=100; total time=  12.0s\n",
      "[19:01:58] WARNING: /var/folders/sy/f16zz6x50xz3113nwtb9bvq00000gp/T/abs_44tbtwf8c1/croots/recipe/xgboost-split_1659548960882/work/src/learner.cc:1115: Starting in XGBoost 1.3.0, the default evaluation metric used with the objective 'binary:logistic' was changed from 'error' to 'logloss'. Explicitly set eval_metric if you'd like to restore the old behavior.\n",
      "[CV] END ..learning_rate=0.1, max_depth=10, n_estimators=200; total time=  23.7s\n",
      "[19:02:11] WARNING: /var/folders/sy/f16zz6x50xz3113nwtb9bvq00000gp/T/abs_44tbtwf8c1/croots/recipe/xgboost-split_1659548960882/work/src/learner.cc:1115: Starting in XGBoost 1.3.0, the default evaluation metric used with the objective 'binary:logistic' was changed from 'error' to 'logloss'. Explicitly set eval_metric if you'd like to restore the old behavior.\n",
      "[CV] END ..learning_rate=0.1, max_depth=10, n_estimators=200; total time=  23.4s\n",
      "[19:02:16] WARNING: /var/folders/sy/f16zz6x50xz3113nwtb9bvq00000gp/T/abs_44tbtwf8c1/croots/recipe/xgboost-split_1659548960882/work/src/learner.cc:1115: Starting in XGBoost 1.3.0, the default evaluation metric used with the objective 'binary:logistic' was changed from 'error' to 'logloss'. Explicitly set eval_metric if you'd like to restore the old behavior.\n",
      "[CV] END ..learning_rate=0.1, max_depth=10, n_estimators=200; total time=  23.8s\n",
      "[19:02:19] WARNING: /var/folders/sy/f16zz6x50xz3113nwtb9bvq00000gp/T/abs_44tbtwf8c1/croots/recipe/xgboost-split_1659548960882/work/src/learner.cc:1115: Starting in XGBoost 1.3.0, the default evaluation metric used with the objective 'binary:logistic' was changed from 'error' to 'logloss'. Explicitly set eval_metric if you'd like to restore the old behavior.\n",
      "[CV] END ..learning_rate=0.1, max_depth=10, n_estimators=200; total time=  23.9s\n",
      "[19:02:22] WARNING: /var/folders/sy/f16zz6x50xz3113nwtb9bvq00000gp/T/abs_44tbtwf8c1/croots/recipe/xgboost-split_1659548960882/work/src/learner.cc:1115: Starting in XGBoost 1.3.0, the default evaluation metric used with the objective 'binary:logistic' was changed from 'error' to 'logloss'. Explicitly set eval_metric if you'd like to restore the old behavior.\n",
      "[CV] END ..learning_rate=0.1, max_depth=10, n_estimators=200; total time=  23.9s\n",
      "[19:02:35] WARNING: /var/folders/sy/f16zz6x50xz3113nwtb9bvq00000gp/T/abs_44tbtwf8c1/croots/recipe/xgboost-split_1659548960882/work/src/learner.cc:1115: Starting in XGBoost 1.3.0, the default evaluation metric used with the objective 'binary:logistic' was changed from 'error' to 'logloss'. Explicitly set eval_metric if you'd like to restore the old behavior.\n",
      "[CV] END ..learning_rate=0.1, max_depth=10, n_estimators=300; total time=  35.5s\n",
      "[19:02:52] WARNING: /var/folders/sy/f16zz6x50xz3113nwtb9bvq00000gp/T/abs_44tbtwf8c1/croots/recipe/xgboost-split_1659548960882/work/src/learner.cc:1115: Starting in XGBoost 1.3.0, the default evaluation metric used with the objective 'binary:logistic' was changed from 'error' to 'logloss'. Explicitly set eval_metric if you'd like to restore the old behavior.\n",
      "[CV] END ..learning_rate=0.1, max_depth=10, n_estimators=300; total time=  35.7s\n",
      "[19:02:54] WARNING: /var/folders/sy/f16zz6x50xz3113nwtb9bvq00000gp/T/abs_44tbtwf8c1/croots/recipe/xgboost-split_1659548960882/work/src/learner.cc:1115: Starting in XGBoost 1.3.0, the default evaluation metric used with the objective 'binary:logistic' was changed from 'error' to 'logloss'. Explicitly set eval_metric if you'd like to restore the old behavior.\n",
      "[CV] END ..learning_rate=0.1, max_depth=10, n_estimators=300; total time=  36.4s\n",
      "[19:02:59] WARNING: /var/folders/sy/f16zz6x50xz3113nwtb9bvq00000gp/T/abs_44tbtwf8c1/croots/recipe/xgboost-split_1659548960882/work/src/learner.cc:1115: Starting in XGBoost 1.3.0, the default evaluation metric used with the objective 'binary:logistic' was changed from 'error' to 'logloss'. Explicitly set eval_metric if you'd like to restore the old behavior.\n",
      "[CV] END ...learning_rate=0.5, max_depth=5, n_estimators=100; total time=   6.0s\n",
      "[19:03:00] WARNING: /var/folders/sy/f16zz6x50xz3113nwtb9bvq00000gp/T/abs_44tbtwf8c1/croots/recipe/xgboost-split_1659548960882/work/src/learner.cc:1115: Starting in XGBoost 1.3.0, the default evaluation metric used with the objective 'binary:logistic' was changed from 'error' to 'logloss'. Explicitly set eval_metric if you'd like to restore the old behavior.\n",
      "[CV] END ...learning_rate=0.5, max_depth=5, n_estimators=100; total time=   6.2s\n",
      "[19:03:05] WARNING: /var/folders/sy/f16zz6x50xz3113nwtb9bvq00000gp/T/abs_44tbtwf8c1/croots/recipe/xgboost-split_1659548960882/work/src/learner.cc:1115: Starting in XGBoost 1.3.0, the default evaluation metric used with the objective 'binary:logistic' was changed from 'error' to 'logloss'. Explicitly set eval_metric if you'd like to restore the old behavior.\n",
      "[CV] END ...learning_rate=0.5, max_depth=5, n_estimators=100; total time=   6.1s\n",
      "[19:03:06] WARNING: /var/folders/sy/f16zz6x50xz3113nwtb9bvq00000gp/T/abs_44tbtwf8c1/croots/recipe/xgboost-split_1659548960882/work/src/learner.cc:1115: Starting in XGBoost 1.3.0, the default evaluation metric used with the objective 'binary:logistic' was changed from 'error' to 'logloss'. Explicitly set eval_metric if you'd like to restore the old behavior.\n",
      "[CV] END ...learning_rate=0.5, max_depth=5, n_estimators=100; total time=   6.3s\n",
      "[19:03:11] WARNING: /var/folders/sy/f16zz6x50xz3113nwtb9bvq00000gp/T/abs_44tbtwf8c1/croots/recipe/xgboost-split_1659548960882/work/src/learner.cc:1115: Starting in XGBoost 1.3.0, the default evaluation metric used with the objective 'binary:logistic' was changed from 'error' to 'logloss'. Explicitly set eval_metric if you'd like to restore the old behavior.\n",
      "[CV] END ...learning_rate=0.5, max_depth=5, n_estimators=100; total time=   6.6s\n",
      "[19:03:13] WARNING: /var/folders/sy/f16zz6x50xz3113nwtb9bvq00000gp/T/abs_44tbtwf8c1/croots/recipe/xgboost-split_1659548960882/work/src/learner.cc:1115: Starting in XGBoost 1.3.0, the default evaluation metric used with the objective 'binary:logistic' was changed from 'error' to 'logloss'. Explicitly set eval_metric if you'd like to restore the old behavior.\n",
      "[CV] END ..learning_rate=0.1, max_depth=10, n_estimators=300; total time=  38.8s\n",
      "[19:03:14] WARNING: /var/folders/sy/f16zz6x50xz3113nwtb9bvq00000gp/T/abs_44tbtwf8c1/croots/recipe/xgboost-split_1659548960882/work/src/learner.cc:1115: Starting in XGBoost 1.3.0, the default evaluation metric used with the objective 'binary:logistic' was changed from 'error' to 'logloss'. Explicitly set eval_metric if you'd like to restore the old behavior.\n",
      "[CV] END ...learning_rate=0.5, max_depth=5, n_estimators=200; total time=  12.8s\n",
      "[19:03:24] WARNING: /var/folders/sy/f16zz6x50xz3113nwtb9bvq00000gp/T/abs_44tbtwf8c1/croots/recipe/xgboost-split_1659548960882/work/src/learner.cc:1115: Starting in XGBoost 1.3.0, the default evaluation metric used with the objective 'binary:logistic' was changed from 'error' to 'logloss'. Explicitly set eval_metric if you'd like to restore the old behavior.\n",
      "[CV] END ...learning_rate=0.5, max_depth=5, n_estimators=200; total time=  12.7s\n",
      "[19:03:26] WARNING: /var/folders/sy/f16zz6x50xz3113nwtb9bvq00000gp/T/abs_44tbtwf8c1/croots/recipe/xgboost-split_1659548960882/work/src/learner.cc:1115: Starting in XGBoost 1.3.0, the default evaluation metric used with the objective 'binary:logistic' was changed from 'error' to 'logloss'. Explicitly set eval_metric if you'd like to restore the old behavior.\n",
      "[CV] END ...learning_rate=0.5, max_depth=5, n_estimators=200; total time=  12.6s\n",
      "[19:03:26] WARNING: /var/folders/sy/f16zz6x50xz3113nwtb9bvq00000gp/T/abs_44tbtwf8c1/croots/recipe/xgboost-split_1659548960882/work/src/learner.cc:1115: Starting in XGBoost 1.3.0, the default evaluation metric used with the objective 'binary:logistic' was changed from 'error' to 'logloss'. Explicitly set eval_metric if you'd like to restore the old behavior.\n",
      "[CV] END ..learning_rate=0.1, max_depth=10, n_estimators=300; total time=  40.1s\n",
      "[19:03:32] WARNING: /var/folders/sy/f16zz6x50xz3113nwtb9bvq00000gp/T/abs_44tbtwf8c1/croots/recipe/xgboost-split_1659548960882/work/src/learner.cc:1115: Starting in XGBoost 1.3.0, the default evaluation metric used with the objective 'binary:logistic' was changed from 'error' to 'logloss'. Explicitly set eval_metric if you'd like to restore the old behavior.\n",
      "[CV] END ...learning_rate=0.5, max_depth=5, n_estimators=200; total time=  12.4s\n",
      "[19:03:37] WARNING: /var/folders/sy/f16zz6x50xz3113nwtb9bvq00000gp/T/abs_44tbtwf8c1/croots/recipe/xgboost-split_1659548960882/work/src/learner.cc:1115: Starting in XGBoost 1.3.0, the default evaluation metric used with the objective 'binary:logistic' was changed from 'error' to 'logloss'. Explicitly set eval_metric if you'd like to restore the old behavior.\n",
      "[CV] END ...learning_rate=0.5, max_depth=5, n_estimators=200; total time=  12.7s\n",
      "[19:03:39] WARNING: /var/folders/sy/f16zz6x50xz3113nwtb9bvq00000gp/T/abs_44tbtwf8c1/croots/recipe/xgboost-split_1659548960882/work/src/learner.cc:1115: Starting in XGBoost 1.3.0, the default evaluation metric used with the objective 'binary:logistic' was changed from 'error' to 'logloss'. Explicitly set eval_metric if you'd like to restore the old behavior.\n",
      "[CV] END ...learning_rate=0.5, max_depth=5, n_estimators=300; total time=  18.6s\n",
      "[19:03:45] WARNING: /var/folders/sy/f16zz6x50xz3113nwtb9bvq00000gp/T/abs_44tbtwf8c1/croots/recipe/xgboost-split_1659548960882/work/src/learner.cc:1115: Starting in XGBoost 1.3.0, the default evaluation metric used with the objective 'binary:logistic' was changed from 'error' to 'logloss'. Explicitly set eval_metric if you'd like to restore the old behavior.\n",
      "[CV] END ...learning_rate=0.5, max_depth=5, n_estimators=300; total time=  19.2s\n",
      "[19:03:51] WARNING: /var/folders/sy/f16zz6x50xz3113nwtb9bvq00000gp/T/abs_44tbtwf8c1/croots/recipe/xgboost-split_1659548960882/work/src/learner.cc:1115: Starting in XGBoost 1.3.0, the default evaluation metric used with the objective 'binary:logistic' was changed from 'error' to 'logloss'. Explicitly set eval_metric if you'd like to restore the old behavior.\n",
      "[CV] END ...learning_rate=0.5, max_depth=5, n_estimators=300; total time=  18.9s\n",
      "[19:03:55] WARNING: /var/folders/sy/f16zz6x50xz3113nwtb9bvq00000gp/T/abs_44tbtwf8c1/croots/recipe/xgboost-split_1659548960882/work/src/learner.cc:1115: Starting in XGBoost 1.3.0, the default evaluation metric used with the objective 'binary:logistic' was changed from 'error' to 'logloss'. Explicitly set eval_metric if you'd like to restore the old behavior.\n",
      "[CV] END ...learning_rate=0.5, max_depth=5, n_estimators=300; total time=  19.0s\n",
      "[19:03:58] WARNING: /var/folders/sy/f16zz6x50xz3113nwtb9bvq00000gp/T/abs_44tbtwf8c1/croots/recipe/xgboost-split_1659548960882/work/src/learner.cc:1115: Starting in XGBoost 1.3.0, the default evaluation metric used with the objective 'binary:logistic' was changed from 'error' to 'logloss'. Explicitly set eval_metric if you'd like to restore the old behavior.\n",
      "[CV] END ...learning_rate=0.5, max_depth=5, n_estimators=300; total time=  18.6s\n",
      "[19:04:04] WARNING: /var/folders/sy/f16zz6x50xz3113nwtb9bvq00000gp/T/abs_44tbtwf8c1/croots/recipe/xgboost-split_1659548960882/work/src/learner.cc:1115: Starting in XGBoost 1.3.0, the default evaluation metric used with the objective 'binary:logistic' was changed from 'error' to 'logloss'. Explicitly set eval_metric if you'd like to restore the old behavior.\n",
      "[CV] END ..learning_rate=0.5, max_depth=10, n_estimators=100; total time=  13.6s\n",
      "[19:04:05] WARNING: /var/folders/sy/f16zz6x50xz3113nwtb9bvq00000gp/T/abs_44tbtwf8c1/croots/recipe/xgboost-split_1659548960882/work/src/learner.cc:1115: Starting in XGBoost 1.3.0, the default evaluation metric used with the objective 'binary:logistic' was changed from 'error' to 'logloss'. Explicitly set eval_metric if you'd like to restore the old behavior.\n",
      "[CV] END ..learning_rate=0.5, max_depth=10, n_estimators=100; total time=  13.1s\n",
      "[19:04:09] WARNING: /var/folders/sy/f16zz6x50xz3113nwtb9bvq00000gp/T/abs_44tbtwf8c1/croots/recipe/xgboost-split_1659548960882/work/src/learner.cc:1115: Starting in XGBoost 1.3.0, the default evaluation metric used with the objective 'binary:logistic' was changed from 'error' to 'logloss'. Explicitly set eval_metric if you'd like to restore the old behavior.\n",
      "[CV] END ..learning_rate=0.5, max_depth=10, n_estimators=100; total time=  12.9s\n",
      "[19:04:11] WARNING: /var/folders/sy/f16zz6x50xz3113nwtb9bvq00000gp/T/abs_44tbtwf8c1/croots/recipe/xgboost-split_1659548960882/work/src/learner.cc:1115: Starting in XGBoost 1.3.0, the default evaluation metric used with the objective 'binary:logistic' was changed from 'error' to 'logloss'. Explicitly set eval_metric if you'd like to restore the old behavior.\n",
      "[CV] END ..learning_rate=0.5, max_depth=10, n_estimators=100; total time=  12.4s\n",
      "[19:04:16] WARNING: /var/folders/sy/f16zz6x50xz3113nwtb9bvq00000gp/T/abs_44tbtwf8c1/croots/recipe/xgboost-split_1659548960882/work/src/learner.cc:1115: Starting in XGBoost 1.3.0, the default evaluation metric used with the objective 'binary:logistic' was changed from 'error' to 'logloss'. Explicitly set eval_metric if you'd like to restore the old behavior.\n",
      "[CV] END ..learning_rate=0.5, max_depth=10, n_estimators=100; total time=  12.6s\n",
      "[19:04:17] WARNING: /var/folders/sy/f16zz6x50xz3113nwtb9bvq00000gp/T/abs_44tbtwf8c1/croots/recipe/xgboost-split_1659548960882/work/src/learner.cc:1115: Starting in XGBoost 1.3.0, the default evaluation metric used with the objective 'binary:logistic' was changed from 'error' to 'logloss'. Explicitly set eval_metric if you'd like to restore the old behavior.\n",
      "[CV] END ..learning_rate=0.5, max_depth=10, n_estimators=200; total time=  24.1s\n",
      "[19:04:33] WARNING: /var/folders/sy/f16zz6x50xz3113nwtb9bvq00000gp/T/abs_44tbtwf8c1/croots/recipe/xgboost-split_1659548960882/work/src/learner.cc:1115: Starting in XGBoost 1.3.0, the default evaluation metric used with the objective 'binary:logistic' was changed from 'error' to 'logloss'. Explicitly set eval_metric if you'd like to restore the old behavior.\n",
      "[CV] END ..learning_rate=0.5, max_depth=10, n_estimators=200; total time=  24.2s\n",
      "[19:04:35] WARNING: /var/folders/sy/f16zz6x50xz3113nwtb9bvq00000gp/T/abs_44tbtwf8c1/croots/recipe/xgboost-split_1659548960882/work/src/learner.cc:1115: Starting in XGBoost 1.3.0, the default evaluation metric used with the objective 'binary:logistic' was changed from 'error' to 'logloss'. Explicitly set eval_metric if you'd like to restore the old behavior.\n",
      "[CV] END ..learning_rate=0.5, max_depth=10, n_estimators=200; total time=  24.8s\n",
      "[19:04:41] WARNING: /var/folders/sy/f16zz6x50xz3113nwtb9bvq00000gp/T/abs_44tbtwf8c1/croots/recipe/xgboost-split_1659548960882/work/src/learner.cc:1115: Starting in XGBoost 1.3.0, the default evaluation metric used with the objective 'binary:logistic' was changed from 'error' to 'logloss'. Explicitly set eval_metric if you'd like to restore the old behavior.\n",
      "[CV] END ..learning_rate=0.5, max_depth=10, n_estimators=200; total time=  24.5s\n",
      "[19:04:42] WARNING: /var/folders/sy/f16zz6x50xz3113nwtb9bvq00000gp/T/abs_44tbtwf8c1/croots/recipe/xgboost-split_1659548960882/work/src/learner.cc:1115: Starting in XGBoost 1.3.0, the default evaluation metric used with the objective 'binary:logistic' was changed from 'error' to 'logloss'. Explicitly set eval_metric if you'd like to restore the old behavior.\n",
      "[CV] END ..learning_rate=0.5, max_depth=10, n_estimators=200; total time=  25.0s\n",
      "[19:04:58] WARNING: /var/folders/sy/f16zz6x50xz3113nwtb9bvq00000gp/T/abs_44tbtwf8c1/croots/recipe/xgboost-split_1659548960882/work/src/learner.cc:1115: Starting in XGBoost 1.3.0, the default evaluation metric used with the objective 'binary:logistic' was changed from 'error' to 'logloss'. Explicitly set eval_metric if you'd like to restore the old behavior.\n",
      "[CV] END ..learning_rate=0.5, max_depth=10, n_estimators=300; total time=  36.0s\n",
      "[19:05:11] WARNING: /var/folders/sy/f16zz6x50xz3113nwtb9bvq00000gp/T/abs_44tbtwf8c1/croots/recipe/xgboost-split_1659548960882/work/src/learner.cc:1115: Starting in XGBoost 1.3.0, the default evaluation metric used with the objective 'binary:logistic' was changed from 'error' to 'logloss'. Explicitly set eval_metric if you'd like to restore the old behavior.\n",
      "[CV] END ..learning_rate=0.5, max_depth=10, n_estimators=300; total time=  36.5s\n",
      "[CV] END ..learning_rate=0.5, max_depth=10, n_estimators=300; total time=  36.3s\n",
      "[CV] END ..learning_rate=0.5, max_depth=10, n_estimators=300; total time=  29.2s\n",
      "[CV] END ..learning_rate=0.5, max_depth=10, n_estimators=300; total time=  19.6s\n",
      "[19:05:30] WARNING: /var/folders/sy/f16zz6x50xz3113nwtb9bvq00000gp/T/abs_44tbtwf8c1/croots/recipe/xgboost-split_1659548960882/work/src/learner.cc:1115: Starting in XGBoost 1.3.0, the default evaluation metric used with the objective 'binary:logistic' was changed from 'error' to 'logloss'. Explicitly set eval_metric if you'd like to restore the old behavior.\n"
     ]
    },
    {
     "data": {
      "text/plain": [
       "{'learning_rate': 0.1, 'max_depth': 5, 'n_estimators': 100}"
      ]
     },
     "execution_count": 255,
     "metadata": {},
     "output_type": "execute_result"
    }
   ],
   "source": [
    "param_grid = [{\n",
    "    \"n_estimators\":[100, 200, 300],\n",
    "    \"max_depth\": [5, 10],\n",
    "    \"learning_rate\": [0.1, 0.5]\n",
    "}]\n",
    "\n",
    "xgb_cf_tuned = XGBClassifier(use_label_encoder=False, objective='binary:logistic')\n",
    "gs = GridSearchCV(xgb_cf_tuned, param_grid=param_grid, scoring=\"roc_auc\", cv=5, verbose=2, n_jobs=-1)\n",
    "gs.fit(X_train_r, y_train_r)\n",
    "gs.best_params_"
   ]
  },
  {
   "cell_type": "code",
   "execution_count": 256,
   "metadata": {},
   "outputs": [
    {
     "name": "stdout",
     "output_type": "stream",
     "text": [
      "[19:06:36] WARNING: /var/folders/sy/f16zz6x50xz3113nwtb9bvq00000gp/T/abs_44tbtwf8c1/croots/recipe/xgboost-split_1659548960882/work/src/learner.cc:1115: Starting in XGBoost 1.3.0, the default evaluation metric used with the objective 'binary:logistic' was changed from 'error' to 'logloss'. Explicitly set eval_metric if you'd like to restore the old behavior.\n",
      "[19:06:38] WARNING: /var/folders/sy/f16zz6x50xz3113nwtb9bvq00000gp/T/abs_44tbtwf8c1/croots/recipe/xgboost-split_1659548960882/work/src/learner.cc:1115: Starting in XGBoost 1.3.0, the default evaluation metric used with the objective 'binary:logistic' was changed from 'error' to 'logloss'. Explicitly set eval_metric if you'd like to restore the old behavior.\n",
      "[19:06:40] WARNING: /var/folders/sy/f16zz6x50xz3113nwtb9bvq00000gp/T/abs_44tbtwf8c1/croots/recipe/xgboost-split_1659548960882/work/src/learner.cc:1115: Starting in XGBoost 1.3.0, the default evaluation metric used with the objective 'binary:logistic' was changed from 'error' to 'logloss'. Explicitly set eval_metric if you'd like to restore the old behavior.\n",
      "[19:06:42] WARNING: /var/folders/sy/f16zz6x50xz3113nwtb9bvq00000gp/T/abs_44tbtwf8c1/croots/recipe/xgboost-split_1659548960882/work/src/learner.cc:1115: Starting in XGBoost 1.3.0, the default evaluation metric used with the objective 'binary:logistic' was changed from 'error' to 'logloss'. Explicitly set eval_metric if you'd like to restore the old behavior.\n",
      "[19:06:44] WARNING: /var/folders/sy/f16zz6x50xz3113nwtb9bvq00000gp/T/abs_44tbtwf8c1/croots/recipe/xgboost-split_1659548960882/work/src/learner.cc:1115: Starting in XGBoost 1.3.0, the default evaluation metric used with the objective 'binary:logistic' was changed from 'error' to 'logloss'. Explicitly set eval_metric if you'd like to restore the old behavior.\n",
      "[19:06:45] WARNING: /var/folders/sy/f16zz6x50xz3113nwtb9bvq00000gp/T/abs_44tbtwf8c1/croots/recipe/xgboost-split_1659548960882/work/src/learner.cc:1115: Starting in XGBoost 1.3.0, the default evaluation metric used with the objective 'binary:logistic' was changed from 'error' to 'logloss'. Explicitly set eval_metric if you'd like to restore the old behavior.\n"
     ]
    }
   ],
   "source": [
    "xgb_cf = rs.best_estimator_\n",
    "\n",
    "xgb_cf_tuned.fit(X_train_r, y_train_r)\n",
    "y_pred = xgb_cf_tuned.predict_proba(X_train_r)[:, 1]\n",
    "auc_train = roc_auc_score(y_train_r, y_pred)\n",
    "cv_res = cross_validate(estimator=xgb_cf_tuned, X=X_train_r, y=y_train_r, cv=5, scoring=scoring)\n",
    "auc_cv = cv_res[\"test_AUC\"].mean()\n",
    "acc_cv = cv_res[\"test_Accuracy\"].mean()\n",
    "\n",
    "df_tuned.loc[len(df_tuned)] = [xgb_cf_tuned, auc_train, auc_cv, acc_cv]"
   ]
  },
  {
   "cell_type": "markdown",
   "metadata": {},
   "source": [
    "#### Model Score Comparison"
   ]
  },
  {
   "cell_type": "code",
   "execution_count": 336,
   "metadata": {},
   "outputs": [
    {
     "data": {
      "text/html": [
       "<div>\n",
       "<style scoped>\n",
       "    .dataframe tbody tr th:only-of-type {\n",
       "        vertical-align: middle;\n",
       "    }\n",
       "\n",
       "    .dataframe tbody tr th {\n",
       "        vertical-align: top;\n",
       "    }\n",
       "\n",
       "    .dataframe thead th {\n",
       "        text-align: right;\n",
       "    }\n",
       "</style>\n",
       "<table border=\"1\" class=\"dataframe\">\n",
       "  <thead>\n",
       "    <tr style=\"text-align: right;\">\n",
       "      <th></th>\n",
       "      <th>Model</th>\n",
       "      <th>AUC Train</th>\n",
       "      <th>AUC CV</th>\n",
       "      <th>ACC CV</th>\n",
       "    </tr>\n",
       "  </thead>\n",
       "  <tbody>\n",
       "    <tr>\n",
       "      <th>0</th>\n",
       "      <td>RandomForestClassifier(bootstrap=False, max_de...</td>\n",
       "      <td>0.967892</td>\n",
       "      <td>0.911201</td>\n",
       "      <td>0.825239</td>\n",
       "    </tr>\n",
       "    <tr>\n",
       "      <th>1</th>\n",
       "      <td>LogisticRegression(max_iter=1000, random_state...</td>\n",
       "      <td>0.922846</td>\n",
       "      <td>0.918654</td>\n",
       "      <td>0.826580</td>\n",
       "    </tr>\n",
       "    <tr>\n",
       "      <th>2</th>\n",
       "      <td>XGBClassifier(base_score=0.5, booster='gbtree'...</td>\n",
       "      <td>0.990137</td>\n",
       "      <td>0.914013</td>\n",
       "      <td>0.812576</td>\n",
       "    </tr>\n",
       "    <tr>\n",
       "      <th>3</th>\n",
       "      <td>SVC(probability=True, random_state=42)</td>\n",
       "      <td>0.931920</td>\n",
       "      <td>0.918766</td>\n",
       "      <td>0.831198</td>\n",
       "    </tr>\n",
       "    <tr>\n",
       "      <th>4</th>\n",
       "      <td>SVC(C=10, gamma='auto', probability=True, rand...</td>\n",
       "      <td>0.931920</td>\n",
       "      <td>0.918766</td>\n",
       "      <td>0.831198</td>\n",
       "    </tr>\n",
       "  </tbody>\n",
       "</table>\n",
       "</div>"
      ],
      "text/plain": [
       "                                               Model  AUC Train    AUC CV  \\\n",
       "0  RandomForestClassifier(bootstrap=False, max_de...   0.967892  0.911201   \n",
       "1  LogisticRegression(max_iter=1000, random_state...   0.922846  0.918654   \n",
       "2  XGBClassifier(base_score=0.5, booster='gbtree'...   0.990137  0.914013   \n",
       "3             SVC(probability=True, random_state=42)   0.931920  0.918766   \n",
       "4  SVC(C=10, gamma='auto', probability=True, rand...   0.931920  0.918766   \n",
       "\n",
       "     ACC CV  \n",
       "0  0.825239  \n",
       "1  0.826580  \n",
       "2  0.812576  \n",
       "3  0.831198  \n",
       "4  0.831198  "
      ]
     },
     "execution_count": 336,
     "metadata": {},
     "output_type": "execute_result"
    }
   ],
   "source": [
    "df_tuned.to_csv(\"pm2_tuned.csv\")\n",
    "df_tuned"
   ]
  },
  {
   "cell_type": "markdown",
   "metadata": {},
   "source": [
    "Das Parameter Tuning hat keine nenneswerte Verbesserungen der Modell-Performance ergeben - alle Modelle performen sehr ähnlich."
   ]
  },
  {
   "cell_type": "markdown",
   "metadata": {},
   "source": [
    "## Evaluation"
   ]
  },
  {
   "cell_type": "markdown",
   "metadata": {},
   "source": [
    "Überprüfung der Gute durch die Testdaten.\n",
    "\n",
    "- ROC curve (AUC Score)\n",
    "- Confusion Matrix (F1 Score)"
   ]
  },
  {
   "cell_type": "code",
   "execution_count": 337,
   "metadata": {},
   "outputs": [
    {
     "data": {
      "image/png": "[encoded data removed]",
      "text/plain": [
       "<Figure size 576x432 with 1 Axes>"
      ]
     },
     "metadata": {
      "needs_background": "light"
     },
     "output_type": "display_data"
    }
   ],
   "source": [
    "lr_disp = RocCurveDisplay.from_estimator(lr_cf_tuned, X_test, y_test_r)\n",
    "svm_disp = RocCurveDisplay.from_estimator(svm_cf_tuned, X_test, y_test_r, ax=lr_disp.ax_)\n",
    "dt_disp = RocCurveDisplay.from_estimator(dt_cf, X_test, y_test_r, ax=lr_disp.ax_)\n",
    "rf_disp = RocCurveDisplay.from_estimator(rf_cf_tuned, X_test, y_test_r, ax=lr_disp.ax_)\n",
    "xgb_disp = RocCurveDisplay.from_estimator(xgb_cf_tuned, X_test, y_test_r, ax=lr_disp.ax_)\n",
    "lr_disp.figure_.suptitle(\"ROC curve comparison\")\n",
    "lr_disp.figure_.set_size_inches(8, 6)\n",
    "plt.show()"
   ]
  },
  {
   "cell_type": "code",
   "execution_count": 304,
   "metadata": {},
   "outputs": [
    {
     "data": {
      "image/png": "[encoded data removed]",
      "text/plain": [
       "<Figure size 576x432 with 1 Axes>"
      ]
     },
     "metadata": {
      "needs_background": "light"
     },
     "output_type": "display_data"
    }
   ],
   "source": [
    "rf_lbl_disp = RocCurveDisplay.from_estimator(rf_cf_lbl, X_test_lbl, y_test_r)\n",
    "rf_lbl_disp.figure_.suptitle(\"ROC curve comparison - Label encoding\")\n",
    "rf_lbl_disp.figure_.set_size_inches(8, 6)\n",
    "plt.show()"
   ]
  },
  {
   "cell_type": "markdown",
   "metadata": {},
   "source": [
    "Welche Features waren wichtig für die Entscheidungen des RandomForest?"
   ]
  },
  {
   "cell_type": "code",
   "execution_count": 331,
   "metadata": {},
   "outputs": [
    {
     "data": {
      "image/png": "[encoded data removed]",
      "text/plain": [
       "<Figure size 864x576 with 1 Axes>"
      ]
     },
     "metadata": {
      "needs_background": "light"
     },
     "output_type": "display_data"
    }
   ],
   "source": [
    "feature_names = ['funder', 'installer', 'subvillage', 'lga', 'ward', 'management', 'basin', 'payment','water_quality', 'quantity',\n",
    "                    'source','waterpoint_type', 'extraction_type_class', 'region', 'region_code', 'district_code', 'wpt_name',\n",
    "                    \"amount_tsh\", \"population\", \"amount_per_capita\", 'gps_height', 'longitude', 'latitude', \"scheme_management\",\n",
    "                    \"date_recorded\", \"age\"]\n",
    "feature_scores = pd.Series(rf_cf_lbl.feature_importances_, index=feature_names).sort_values(ascending=False)\n",
    "f, ax = plt.subplots(figsize=(12, 8))\n",
    "ax = sns.barplot(x=feature_scores, y=feature_scores.index)\n",
    "ax.set_title(\"Feature Importance (Gain)\")\n",
    "ax.set_yticklabels(feature_scores.index)\n",
    "ax.set_xlabel(\"Feature importance score\")\n",
    "ax.set_ylabel(\"Features\")\n",
    "plt.show()"
   ]
  },
  {
   "cell_type": "code",
   "execution_count": 348,
   "metadata": {},
   "outputs": [
    {
     "data": {
      "image/png": "[encoded data removed]",
      "text/plain": [
       "<Figure size 432x288 with 2 Axes>"
      ]
     },
     "metadata": {
      "needs_background": "light"
     },
     "output_type": "display_data"
    },
    {
     "name": "stdout",
     "output_type": "stream",
     "text": [
      "LogisticRegression: \n",
      "               precision    recall  f1-score   support\n",
      "\n",
      "           0       0.98      0.74      0.84      8055\n",
      "           1       0.17      0.75      0.28       575\n",
      "\n",
      "    accuracy                           0.74      8630\n",
      "   macro avg       0.57      0.75      0.56      8630\n",
      "weighted avg       0.92      0.74      0.81      8630\n",
      "\n"
     ]
    },
    {
     "data": {
      "image/png": "[encoded data removed]",
      "text/plain": [
       "<Figure size 432x288 with 2 Axes>"
      ]
     },
     "metadata": {
      "needs_background": "light"
     },
     "output_type": "display_data"
    },
    {
     "name": "stdout",
     "output_type": "stream",
     "text": [
      "SVC: \n",
      "               precision    recall  f1-score   support\n",
      "\n",
      "           0       0.98      0.73      0.84      8055\n",
      "           1       0.18      0.79      0.29       575\n",
      "\n",
      "    accuracy                           0.74      8630\n",
      "   macro avg       0.58      0.76      0.56      8630\n",
      "weighted avg       0.93      0.74      0.80      8630\n",
      "\n"
     ]
    },
    {
     "data": {
      "image/png": "[encoded data removed]",
      "text/plain": [
       "<Figure size 432x288 with 2 Axes>"
      ]
     },
     "metadata": {
      "needs_background": "light"
     },
     "output_type": "display_data"
    },
    {
     "name": "stdout",
     "output_type": "stream",
     "text": [
      "DescisionTreeClassifier: \n",
      "               precision    recall  f1-score   support\n",
      "\n",
      "           0       0.97      0.72      0.83      8055\n",
      "           1       0.16      0.73      0.26       575\n",
      "\n",
      "    accuracy                           0.72      8630\n",
      "   macro avg       0.57      0.72      0.54      8630\n",
      "weighted avg       0.92      0.72      0.79      8630\n",
      "\n"
     ]
    },
    {
     "data": {
      "image/png": "[encoded data removed]",
      "text/plain": [
       "<Figure size 432x288 with 2 Axes>"
      ]
     },
     "metadata": {
      "needs_background": "light"
     },
     "output_type": "display_data"
    },
    {
     "name": "stdout",
     "output_type": "stream",
     "text": [
      "RandomForestClassifier: \n",
      "               precision    recall  f1-score   support\n",
      "\n",
      "           0       0.98      0.77      0.86      8055\n",
      "           1       0.19      0.78      0.31       575\n",
      "\n",
      "    accuracy                           0.77      8630\n",
      "   macro avg       0.59      0.77      0.59      8630\n",
      "weighted avg       0.93      0.77      0.82      8630\n",
      "\n"
     ]
    },
    {
     "data": {
      "image/png": "[encoded data removed]",
      "text/plain": [
       "<Figure size 432x288 with 2 Axes>"
      ]
     },
     "metadata": {
      "needs_background": "light"
     },
     "output_type": "display_data"
    },
    {
     "name": "stdout",
     "output_type": "stream",
     "text": [
      "XGBClassifier: \n",
      "               precision    recall  f1-score   support\n",
      "\n",
      "           0       0.98      0.74      0.84      8055\n",
      "           1       0.18      0.79      0.29       575\n",
      "\n",
      "    accuracy                           0.74      8630\n",
      "   macro avg       0.58      0.77      0.57      8630\n",
      "weighted avg       0.93      0.74      0.81      8630\n",
      "\n"
     ]
    }
   ],
   "source": [
    "predictions = lr_cf_tuned.predict(X_test)\n",
    "cm = confusion_matrix(y_test_r, predictions, labels=lr_cf_tuned.classes_)\n",
    "disp = ConfusionMatrixDisplay(confusion_matrix=cm, display_labels=['needs_no_rep', 'func_needs_rep'])\n",
    "disp.plot()\n",
    "plt.title('LogisticRegression')\n",
    "plt.show()\n",
    "print('LogisticRegression: \\n',classification_report(y_test_r, predictions))\n",
    "\n",
    "predictions = svm_cf_tuned.predict(X_test)\n",
    "cm = confusion_matrix(y_test_r, predictions, labels=svm_cf_tuned.classes_)\n",
    "disp = ConfusionMatrixDisplay(confusion_matrix=cm, display_labels=['needs_no_rep', 'func_needs_rep'])\n",
    "disp.plot()\n",
    "plt.title('SVC')\n",
    "plt.show()\n",
    "print('SVC: \\n',classification_report(y_test_r, predictions))\n",
    "\n",
    "predictions = dt_cf.predict(X_test)\n",
    "cm = confusion_matrix(y_test_r, predictions, labels=dt_cf.classes_)\n",
    "disp = ConfusionMatrixDisplay(confusion_matrix=cm, display_labels=['needs_no_rep', 'func_needs_rep'])\n",
    "disp.plot()\n",
    "plt.title('DescisionTreeClassifier')\n",
    "plt.show()\n",
    "print('DescisionTreeClassifier: \\n',classification_report(y_test_r, predictions))\n",
    "\n",
    "predictions = rf_cf_tuned.predict(X_test)\n",
    "cm = confusion_matrix(y_test_r, predictions, labels=rf_cf_tuned.classes_)\n",
    "disp = ConfusionMatrixDisplay(confusion_matrix=cm, display_labels=['needs_no_rep', 'func_needs_rep'])\n",
    "disp.plot()\n",
    "plt.title('RandomForestClassifier')\n",
    "plt.show()\n",
    "print('RandomForestClassifier: \\n',classification_report(y_test_r, predictions))\n",
    "\n",
    "predictions = xgb_cf_tuned.predict(X_test)\n",
    "cm = confusion_matrix(y_test_r, predictions, labels=xgb_cf_tuned.classes_)\n",
    "disp = ConfusionMatrixDisplay(confusion_matrix=cm, display_labels=['needs_no_rep', 'func_needs_rep'])\n",
    "disp.plot()\n",
    "plt.title('XGBClassifier')\n",
    "plt.show()\n",
    "print('XGBClassifier: \\n',classification_report(y_test_r, predictions))"
   ]
  },
  {
   "cell_type": "code",
   "execution_count": 295,
   "metadata": {},
   "outputs": [
    {
     "data": {
      "text/plain": [
       "0    0.933372\n",
       "1    0.066628\n",
       "Name: t_needs_rep, dtype: float64"
      ]
     },
     "execution_count": 295,
     "metadata": {},
     "output_type": "execute_result"
    }
   ],
   "source": [
    "df_test['t_needs_rep'].value_counts(normalize=True)"
   ]
  },
  {
   "cell_type": "markdown",
   "metadata": {},
   "source": [
    "Die AUC ergibt einen guten Wert, aber klassifiziert das Modell wie es soll? Muss eher Recall oder Precision priorisiert werden?\n",
    "\n",
    "-> aktuell wird ein relativ großer Anteil der wartungsbedürftigen Brunnen nicht erkannt, gleichzeitig werden aber trotzdem viele andere Brunnen für Wartung vorgemerkt.\n",
    "\n",
    "Nachfolgende Grafik visualisiert den Precision-Recall Trade-off."
   ]
  },
  {
   "cell_type": "code",
   "execution_count": 287,
   "metadata": {},
   "outputs": [
    {
     "data": {
      "text/plain": [
       "Text(0.5, 1.0, '2-class Precision-Recall curve')"
      ]
     },
     "execution_count": 287,
     "metadata": {},
     "output_type": "execute_result"
    },
    {
     "data": {
      "image/png": "[encoded data removed]",
      "text/plain": [
       "<Figure size 432x288 with 1 Axes>"
      ]
     },
     "metadata": {
      "needs_background": "light"
     },
     "output_type": "display_data"
    }
   ],
   "source": [
    "display = PrecisionRecallDisplay.from_estimator(\n",
    "    rf_cf_tuned, X_test, y_test_r\n",
    ")\n",
    "display.ax_.set_title(\"2-class Precision-Recall curve\")"
   ]
  }
 ],
 "metadata": {
  "colab": {
   "collapsed_sections": [
    "s9QK4M6bJG1C",
    "ipC-gfzyJG1f",
    "d9ImwcSDJG1f",
    "Cmef2rTsJG1h",
    "JyW8WC6hJG1j",
    "cJsudcKNJG1k",
    "etBpNARcJG1n",
    "WjosGzqvJG1p",
    "ZGbcckpOJG1q",
    "3O54UikJJG1r",
    "3Mrr3I-xJG1s",
    "h7AYHaeVJG1y",
    "4WH76QW9JG1z",
    "NlH2VvAuJG11"
   ],
   "name": "project2.ipynb",
   "provenance": []
  },
  "kernelspec": {
   "display_name": "Python 3 (ipykernel)",
   "language": "python",
   "name": "python3"
  },
  "language_info": {
   "codemirror_mode": {
    "name": "ipython",
    "version": 3
   },
   "file_extension": ".py",
   "mimetype": "text/x-python",
   "name": "python",
   "nbconvert_exporter": "python",
   "pygments_lexer": "ipython3",
   "version": "3.9.12"
  },
  "vscode": {
   "interpreter": {
    "hash": "af6a7de25dd7bd9a9e288da6c3d15d5d500c51449326063643a18fc796b35585"
   }
  }
 },
 "nbformat": 4,
 "nbformat_minor": 4
}
