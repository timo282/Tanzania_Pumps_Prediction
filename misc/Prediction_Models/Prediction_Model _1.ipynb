{
  "cells": [
    {
      "cell_type": "markdown",
      "metadata": {
        "id": "DhW1RO3DJG05"
      },
      "source": [
        "# Data Exploration Project - Pumps"
      ]
    },
    {
      "cell_type": "markdown",
      "metadata": {
        "id": "3mqm_gVtJG1B"
      },
      "source": [
        "## Business Understanding\n",
        "\n",
        "Daten über verschiedene Brunnen in einem afrikanischen Land.\n",
        "\n",
        "**Können wir vorhersagen welche Brunnen defekt, wartungsbedürftig oder voll funktional sind?**"
      ]
    },
    {
      "cell_type": "markdown",
      "metadata": {
        "id": "s9QK4M6bJG1C"
      },
      "source": [
        "## Data Understanding"
      ]
    },
    {
      "cell_type": "code",
      "execution_count": null,
      "metadata": {
        "colab": {
          "base_uri": "https://localhost:8080/"
        },
        "id": "ZxThrpAOJG1D",
        "outputId": "813156a8-80e8-4e76-b55b-7c5b99168ff9"
      },
      "outputs": [
        {
          "ename": "",
          "evalue": "",
          "output_type": "error",
          "traceback": [
            "\u001b[1;31mDer Kernel konnte nicht gestartet werden. \n",
            "\u001b[1;31mDer Kernel „base (Python 3.9.12)“ kann aufgrund eines Verbindungstimeouts nicht gestartet werden. \n",
            "Weitere Details finden Sie im Jupyter-<a href='command:jupyter.viewOutput'>Protokoll</a>."
          ]
        }
      ],
      "source": [
        "import pandas as pd\n",
        "import matplotlib.pyplot as plt \n",
        "import seaborn as sns\n",
        "import numpy as np\n",
        "from category_encoders import TargetEncoder, BinaryEncoder\n",
        "from sklearn.pipeline import Pipeline, make_pipeline\n",
        "from sklearn.preprocessing import OrdinalEncoder, LabelEncoder, StandardScaler, OneHotEncoder, MinMaxScaler\n",
        "from sklearn.impute import SimpleImputer\n",
        "from sklearn.compose import ColumnTransformer\n",
        "from sklearn.base import BaseEstimator, TransformerMixin\n",
        "from sklearn.tree import DecisionTreeClassifier\n",
        "from sklearn.model_selection import cross_validate"
      ]
    },
    {
      "cell_type": "markdown",
      "metadata": {
        "id": "1rejyUeKJG1F"
      },
      "source": [
        "Einlesen der Trainings- und Testdaten."
      ]
    },
    {
      "cell_type": "code",
      "execution_count": null,
      "metadata": {
        "id": "NWpTu_GUJG1H"
      },
      "outputs": [
        {
          "ename": "",
          "evalue": "",
          "output_type": "error",
          "traceback": [
            "\u001b[1;31mDer Kernel konnte nicht gestartet werden. \n",
            "\u001b[1;31mDer Kernel „base (Python 3.9.12)“ kann aufgrund eines Verbindungstimeouts nicht gestartet werden. \n",
            "Weitere Details finden Sie im Jupyter-<a href='command:jupyter.viewOutput'>Protokoll</a>."
          ]
        }
      ],
      "source": [
        "df_pump_train = pd.read_csv('pump_train.csv')\n",
        "df_pump_test = pd.read_csv('pump_test.csv')"
      ]
    },
    {
      "cell_type": "markdown",
      "metadata": {
        "id": "GYb79TGsJG1K"
      },
      "source": [
        "### Data Dictionary\n",
        "| Variable | Beschreibung |\n",
        "| -------- | ------------ |\n",
        "| amount_tsh | Total static head (amount water available to waterpoint) |\n",
        "| date_recorded | The date the row was entered |\n",
        "| funder | Who funded the well |\n",
        "| gps_height | Altitude of the well |\n",
        "| installer | Organization that installed the well |\n",
        "| longitude | GPS coordinate |\n",
        "| latitude | GPS coordinate |\n",
        "| wpt_name | Name of the waterpoint if there is one |\n",
        "| num_private | ? |\n",
        "| basin | Geographic water basin |\n",
        "| subvillage | Geographic location |\n",
        "| region | Geographic location |\n",
        "| region_code | Geographic location (coded) |\n",
        "| district_code | Geographic location (coded) |\n",
        "| lga | Geographic location |\n",
        "| ward | Geographic location |\n",
        "| population | Population around the well |\n",
        "| public_meeting | True/False |\n",
        "| recorded_by | Group entering this row of data \n",
        "| scheme_management | Who operates the waterpoint |\n",
        "| scheme_name | Who operates the waterpoint |\n",
        "| permit | If the waterpoint is permitted |\n",
        "| construction_year | Year the waterpoint was constructed \n",
        "| extraction_type | The kind of extraction the waterpoint uses \n",
        "| extraction_type_group | The kind of extraction the waterpoint uses |\n",
        "| extraction_type_class | The kind of extraction the waterpoint uses \n",
        "| management | How the waterpoint is managed |\n",
        "| management_group | How the waterpoint is managed |\n",
        "| payment | What the water costs |\n",
        "| payment_type | What the water costs |\n",
        "| water_quality | The quality of the water |\n",
        "| quality_group | The quality of the water |\n",
        "| quantity | The quantity of water |\n",
        "| quantity_group | The quantity of water |\n",
        "| source | The source of the water |\n",
        "| source_type | The source of the water |\n",
        "| source_class | The source of the water |\n",
        "| waterpoint_type | The kind of waterpoint |\n",
        "| waterpoint_type_group | The kind of waterpoint |\n",
        "| status_group | functional or non-functional or functional needs repair |"
      ]
    },
    {
      "cell_type": "markdown",
      "metadata": {
        "id": "vzPQZEd8JG1N"
      },
      "source": [
        "### Data Analysis"
      ]
    },
    {
      "cell_type": "markdown",
      "metadata": {
        "id": "8In45gg4JG1f"
      },
      "source": [
        "## Data Preparation"
      ]
    },
    {
      "cell_type": "markdown",
      "metadata": {
        "id": "NlH2VvAuJG11"
      },
      "source": [
        "## Pipeline"
      ]
    },
    {
      "cell_type": "markdown",
      "metadata": {
        "id": "EPAKPAhiJG11"
      },
      "source": [
        "[Categoric Encoder Package ->](https://contrib.scikit-learn.org/category_encoders/index.html)"
      ]
    },
    {
      "cell_type": "code",
      "execution_count": null,
      "metadata": {},
      "outputs": [
        {
          "ename": "",
          "evalue": "",
          "output_type": "error",
          "traceback": [
            "\u001b[1;31mDer Kernel konnte nicht gestartet werden. \n",
            "\u001b[1;31mDer Kernel „base (Python 3.9.12)“ kann aufgrund eines Verbindungstimeouts nicht gestartet werden. \n",
            "Weitere Details finden Sie im Jupyter-<a href='command:jupyter.viewOutput'>Protokoll</a>."
          ]
        }
      ],
      "source": [
        "class YesNoEncoder(BaseEstimator, TransformerMixin):\n",
        "    def __init__(self, add_column = True):\n",
        "        self.add_column = add_column\n",
        "    \n",
        "    def fit(self, X, y=None):\n",
        "        return self\n",
        "    \n",
        "    def transform(self, X, y=None):\n",
        "        if self.add_column:\n",
        "            has_name = np.where(X['wpt_name']!= 'none', 1, 0)\n",
        "            Xcopy = X\n",
        "            Xcopy['wpt_name'] = has_name\n",
        "        return Xcopy"
      ]
    },
    {
      "cell_type": "code",
      "execution_count": null,
      "metadata": {},
      "outputs": [
        {
          "ename": "",
          "evalue": "",
          "output_type": "error",
          "traceback": [
            "\u001b[1;31mDer Kernel konnte nicht gestartet werden. \n",
            "\u001b[1;31mDer Kernel „base (Python 3.9.12)“ kann aufgrund eines Verbindungstimeouts nicht gestartet werden. \n",
            "Weitere Details finden Sie im Jupyter-<a href='command:jupyter.viewOutput'>Protokoll</a>."
          ]
        }
      ],
      "source": [
        "class MngEncoder(BaseEstimator, TransformerMixin):\n",
        "    def __init__(self, add_column = True):\n",
        "        self.add_column = add_column\n",
        "    \n",
        "    def fit(self, X, y=None):\n",
        "        return self\n",
        "    \n",
        "    def transform(self, X, y=None):\n",
        "        if self.add_column:\n",
        "            has_name = np.where(X['management'] == 'vwc', 1, 0)\n",
        "            Xcopy = X\n",
        "            Xcopy['management'] = has_name\n",
        "        return Xcopy"
      ]
    },
    {
      "cell_type": "code",
      "execution_count": null,
      "metadata": {},
      "outputs": [
        {
          "ename": "",
          "evalue": "",
          "output_type": "error",
          "traceback": [
            "\u001b[1;31mDer Kernel konnte nicht gestartet werden. \n",
            "\u001b[1;31mDer Kernel „base (Python 3.9.12)“ kann aufgrund eines Verbindungstimeouts nicht gestartet werden. \n",
            "Weitere Details finden Sie im Jupyter-<a href='command:jupyter.viewOutput'>Protokoll</a>."
          ]
        }
      ],
      "source": [
        "class MyImputer(BaseEstimator, TransformerMixin):\n",
        "    def __init__(self, fill_value=\"other\"):\n",
        "        self.fill_value = fill_value\n",
        "        return None\n",
        "    \n",
        "    def fit(self, X, y=None):\n",
        "        return self\n",
        "    \n",
        "    def transform(self, X, y=None):\n",
        "        return np.array([self.fill_value if str(x)==str(np.nan) else x for x in X]).reshape(-1,1)"
      ]
    },
    {
      "cell_type": "code",
      "execution_count": null,
      "metadata": {},
      "outputs": [
        {
          "ename": "",
          "evalue": "",
          "output_type": "error",
          "traceback": [
            "\u001b[1;31mDer Kernel konnte nicht gestartet werden. \n",
            "\u001b[1;31mDer Kernel „base (Python 3.9.12)“ kann aufgrund eines Verbindungstimeouts nicht gestartet werden. \n",
            "Weitere Details finden Sie im Jupyter-<a href='command:jupyter.viewOutput'>Protokoll</a>."
          ]
        }
      ],
      "source": [
        "scheme_pipeline = Pipeline([\n",
        "('imputer', MyImputer(fill_value=\"other\")),\n",
        "('one_hot', OneHotEncoder())\n",
        "])"
      ]
    },
    {
      "cell_type": "code",
      "execution_count": null,
      "metadata": {},
      "outputs": [
        {
          "ename": "",
          "evalue": "",
          "output_type": "error",
          "traceback": [
            "\u001b[1;31mDer Kernel konnte nicht gestartet werden. \n",
            "\u001b[1;31mDer Kernel „base (Python 3.9.12)“ kann aufgrund eines Verbindungstimeouts nicht gestartet werden. \n",
            "Weitere Details finden Sie im Jupyter-<a href='command:jupyter.viewOutput'>Protokoll</a>."
          ]
        }
      ],
      "source": [
        "class YearAdder(BaseEstimator, TransformerMixin):\n",
        "    def __init__(self):\n",
        "        return None\n",
        "    \n",
        "    def fit(self, X, y=None):\n",
        "        return self\n",
        "    \n",
        "    def transform(self, X, y=None):\n",
        "        date_column = pd.Series(X)\n",
        "        return np.array(pd.DatetimeIndex(date_column).year).reshape(-1,1)\n",
        "        "
      ]
    },
    {
      "cell_type": "code",
      "execution_count": null,
      "metadata": {},
      "outputs": [
        {
          "ename": "",
          "evalue": "",
          "output_type": "error",
          "traceback": [
            "\u001b[1;31mDer Kernel konnte nicht gestartet werden. \n",
            "\u001b[1;31mDer Kernel „base (Python 3.9.12)“ kann aufgrund eines Verbindungstimeouts nicht gestartet werden. \n",
            "Weitere Details finden Sie im Jupyter-<a href='command:jupyter.viewOutput'>Protokoll</a>."
          ]
        }
      ],
      "source": [
        "year_pipeline = Pipeline([\n",
        "    (\"add_year\", YearAdder()),\n",
        "    #(\"ord_enc\", OrdinalEncoder(handle_unknown='use_encoded_value', unknown_value=-1)),\n",
        "    (\"scale\", MinMaxScaler())\n",
        "])"
      ]
    },
    {
      "cell_type": "code",
      "execution_count": null,
      "metadata": {},
      "outputs": [
        {
          "ename": "",
          "evalue": "",
          "output_type": "error",
          "traceback": [
            "\u001b[1;31mDer Kernel konnte nicht gestartet werden. \n",
            "\u001b[1;31mDer Kernel „base (Python 3.9.12)“ kann aufgrund eines Verbindungstimeouts nicht gestartet werden. \n",
            "Weitere Details finden Sie im Jupyter-<a href='command:jupyter.viewOutput'>Protokoll</a>."
          ]
        }
      ],
      "source": [
        "class AmountPerCapitaAdder(BaseEstimator, TransformerMixin):\n",
        "    def __init__(self):\n",
        "        return None\n",
        "    \n",
        "    def fit(self, X, y=None):\n",
        "        return self\n",
        "    \n",
        "    def transform(self, X, y=None):\n",
        "        date_column = pd.Series(X)\n",
        "        return np.array(pd.DatetimeIndex(date_column).year).reshape(-1,1)"
      ]
    },
    {
      "cell_type": "code",
      "execution_count": null,
      "metadata": {
        "colab": {
          "base_uri": "https://localhost:8080/",
          "height": 947
        },
        "id": "uO_zmkM9JG11",
        "outputId": "c2aab073-68d9-41e7-fa7e-49605825c5cf"
      },
      "outputs": [
        {
          "ename": "",
          "evalue": "",
          "output_type": "error",
          "traceback": [
            "\u001b[1;31mDer Kernel konnte nicht gestartet werden. \n",
            "\u001b[1;31mDer Kernel „base (Python 3.9.12)“ kann aufgrund eines Verbindungstimeouts nicht gestartet werden. \n",
            "Weitere Details finden Sie im Jupyter-<a href='command:jupyter.viewOutput'>Protokoll</a>."
          ]
        }
      ],
      "source": [
        "df_train = df_pump_train.copy()\n",
        "df_test = df_pump_test.copy()\n",
        "\n",
        "# add new target variables\n",
        "df_train[\"t_functional\"] = df_train[\"status_group\"].apply(lambda x: 0 if x==\"non functional\" else 1)\n",
        "df_train[\"t_needs_rep\"] = df_train[\"status_group\"].apply(lambda x: 1 if x==\"functional needs repair\" else 0)\n",
        "    #for test\n",
        "df_test[\"t_functional\"] = df_test[\"status_group\"].apply(lambda x: 0 if x==\"non functional\" else 1)\n",
        "df_test[\"t_needs_rep\"] = df_test[\"status_group\"].apply(lambda x: 1 if x==\"functional needs repair\" else 0)\n",
        "\n",
        "# drop outliers\n",
        "df_train = df_train.drop(df_train[df_train.longitude == 0].index)\n",
        "df_test = df_test.drop(df_test[df_test.longitude==0].index)\n",
        "# add new feature manually\n",
        "df_train[\"amount_per_capita\"] = df_train.apply(lambda x: x[\"amount_tsh\"]/x[\"population\"] if x[\"population\"] != 0 else 0, axis=1)\n",
        "\n",
        "df_test[\"amount_per_capita\"] = df_test.apply(lambda x: x[\"amount_tsh\"]/x[\"population\"] if x[\"population\"] != 0 else 0, axis=1)\n",
        "\n",
        "# transform dtypes manually\n",
        "df_train[\"district_code\"] = df_train[\"district_code\"].astype(\"category\")\n",
        "df_train[\"region_code\"] = df_train[\"region_code\"].astype(\"category\")\n",
        "\n",
        "df_test[\"district_code\"] = df_test[\"district_code\"].astype(\"category\")\n",
        "df_test[\"region_code\"] = df_test[\"region_code\"].astype(\"category\")\n",
        "\n",
        "\n",
        "y_train = df_train.loc[:,'status_group']\n",
        "le = LabelEncoder()\n",
        "y_train = le.fit_transform(y_train)\n",
        "\n",
        "\n",
        "#functional\n",
        "y_train_f = df_train[\"t_functional\"]\n",
        "le = LabelEncoder()\n",
        "y_train_f = le.fit_transform(y_train_f)\n",
        "y_test_f = df_test[\"t_functional\"]\n",
        "le = LabelEncoder()\n",
        "y_test_f = le.fit_transform(y_test_f)\n",
        "\n",
        "\n",
        "y_train_r = df_train[\"t_needs_rep\"]\n",
        "\n",
        "col_imp = Pipeline([\n",
        "    ('simp_inputer', SimpleImputer(strategy='constant', fill_value='Unknown')),\n",
        "    ('target_enc', TargetEncoder()),\n",
        "    ('min_max', MinMaxScaler())\n",
        "])\n",
        "\n",
        "target_enc_pipe = Pipeline([\n",
        "    ('target_enc', TargetEncoder()),\n",
        "    ('min_max', MinMaxScaler())\n",
        "])\n",
        "\n",
        "col_trans = ColumnTransformer(transformers=[\n",
        "    ['col_imp', col_imp, ['funder', 'installer', 'subvillage']],\n",
        "    ['target_enc', target_enc_pipe, ['lga', 'ward']],\n",
        "    ['oh_enc', OneHotEncoder(), ['basin', 'payment','water_quality', 'quantity','source','waterpoint_type', 'extraction_type_class']],\n",
        "    ['bin_enc', BinaryEncoder(), ['region', 'region_code', 'district_code']], # warum alle 3 ?\n",
        "    ['cust_trans', YesNoEncoder(), ['wpt_name']],\n",
        "    [\"num\", MinMaxScaler(), [\"amount_tsh\", \"population\", \"amount_per_capita\", 'gps_height', 'longitude', 'latitude']],\n",
        "    [\"scheme\", scheme_pipeline, \"scheme_management\"],\n",
        "    [\"year\",  year_pipeline, \"date_recorded\"],\n",
        "    ['Mng_ec', MngEncoder(), ['management']]\n",
        "], remainder='drop')"
      ]
    },
    {
      "cell_type": "code",
      "execution_count": null,
      "metadata": {},
      "outputs": [
        {
          "ename": "",
          "evalue": "",
          "output_type": "error",
          "traceback": [
            "\u001b[1;31mDer Kernel konnte nicht gestartet werden. \n",
            "\u001b[1;31mDer Kernel „base (Python 3.9.12)“ kann aufgrund eines Verbindungstimeouts nicht gestartet werden. \n",
            "Weitere Details finden Sie im Jupyter-<a href='command:jupyter.viewOutput'>Protokoll</a>."
          ]
        }
      ],
      "source": [
        "X_train_f = col_trans.fit_transform(X=df_train, y=y_train_f)\n",
        "\n",
        "X_test = col_trans.transform(X=df_test)"
      ]
    },
    {
      "cell_type": "markdown",
      "metadata": {},
      "source": [
        "Modelling for Functional vs non Functional"
      ]
    },
    {
      "cell_type": "code",
      "execution_count": null,
      "metadata": {},
      "outputs": [
        {
          "ename": "",
          "evalue": "",
          "output_type": "error",
          "traceback": [
            "\u001b[1;31mDer Kernel konnte nicht gestartet werden. \n",
            "\u001b[1;31mDer Kernel „base (Python 3.9.12)“ kann aufgrund eines Verbindungstimeouts nicht gestartet werden. \n",
            "Weitere Details finden Sie im Jupyter-<a href='command:jupyter.viewOutput'>Protokoll</a>."
          ]
        }
      ],
      "source": [
        "import pandas as pd\n",
        "from tqdm import tqdm\n",
        "\n",
        "from sklearn.linear_model import LogisticRegression\n",
        "from sklearn.tree import DecisionTreeClassifier\n",
        "from sklearn.ensemble import RandomForestClassifier\n",
        "from xgboost import XGBClassifier\n",
        "from sklearn.neighbors import KNeighborsClassifier\n",
        "from sklearn.model_selection import RandomizedSearchCV\n",
        "from sklearn.svm import SVC\n",
        "from sklearn.model_selection import GridSearchCV\n",
        "\n",
        "from sklearn import metrics\n",
        "from sklearn.metrics import RocCurveDisplay\n",
        "from sklearn.metrics import roc_auc_score\n",
        "from sklearn.model_selection import cross_validate\n",
        "from sklearn.metrics import precision_score\n",
        "from sklearn.metrics import recall_score\n",
        "from sklearn.metrics import classification_report"
      ]
    },
    {
      "cell_type": "code",
      "execution_count": null,
      "metadata": {},
      "outputs": [
        {
          "ename": "",
          "evalue": "",
          "output_type": "error",
          "traceback": [
            "\u001b[1;31mDer Kernel konnte nicht gestartet werden. \n",
            "\u001b[1;31mDer Kernel „base (Python 3.9.12)“ kann aufgrund eines Verbindungstimeouts nicht gestartet werden. \n",
            "Weitere Details finden Sie im Jupyter-<a href='command:jupyter.viewOutput'>Protokoll</a>."
          ]
        }
      ],
      "source": [
        "df_results = pd.DataFrame(data=[], columns=[\"Model\", \"AUC Train\", \"AUC CV\",\"Precsion\",\"Recall\"])\n"
      ]
    },
    {
      "cell_type": "markdown",
      "metadata": {},
      "source": [
        "Logistische Regression"
      ]
    },
    {
      "cell_type": "code",
      "execution_count": null,
      "metadata": {},
      "outputs": [
        {
          "ename": "",
          "evalue": "",
          "output_type": "error",
          "traceback": [
            "\u001b[1;31mDer Kernel konnte nicht gestartet werden. \n",
            "\u001b[1;31mDer Kernel „base (Python 3.9.12)“ kann aufgrund eines Verbindungstimeouts nicht gestartet werden. \n",
            "Weitere Details finden Sie im Jupyter-<a href='command:jupyter.viewOutput'>Protokoll</a>."
          ]
        }
      ],
      "source": [
        "lr_cf = LogisticRegression(solver=\"sag\", max_iter=1000, n_jobs= -1, class_weight='balanced')\n",
        "lr_cf.fit(X_train_f, y_train_f)\n",
        "y_pred_f = lr_cf.predict_log_proba(X_train_f)[:,1]\n",
        "\n",
        "auc_train_f = roc_auc_score(y_train_f, y_pred_f)\n",
        "cv_res = cross_validate(estimator=lr_cf, X=X_train_f, y=y_train_f, cv=5, scoring='roc_auc_ovr', n_jobs= -1)\n",
        "auc_cv = cv_res[\"test_score\"].mean()\n",
        "\n",
        "y_pred_f_bin = lr_cf.predict(X_train_f)\n",
        "precision = precision_score(y_train_f, y_pred_f_bin)\n",
        "recall = recall_score(y_train_f, y_pred_f_bin)\n",
        "\n",
        "df_results.loc[len(df_results)] = [lr_cf, auc_train_f, auc_cv, precision, recall]"
      ]
    },
    {
      "cell_type": "markdown",
      "metadata": {},
      "source": [
        "Decision Tree"
      ]
    },
    {
      "cell_type": "code",
      "execution_count": null,
      "metadata": {},
      "outputs": [
        {
          "ename": "",
          "evalue": "",
          "output_type": "error",
          "traceback": [
            "\u001b[1;31mDer Kernel konnte nicht gestartet werden. \n",
            "\u001b[1;31mDer Kernel „base (Python 3.9.12)“ kann aufgrund eines Verbindungstimeouts nicht gestartet werden. \n",
            "Weitere Details finden Sie im Jupyter-<a href='command:jupyter.viewOutput'>Protokoll</a>."
          ]
        }
      ],
      "source": [
        "dt_cf = DecisionTreeClassifier()\n",
        "dt_cf.fit(X_train_f, y_train_f)\n",
        "\n",
        "y_pred_f = dt_cf.predict_proba(X_train_f)[:,1]\n",
        "\n",
        "auc_train_f = roc_auc_score(y_train_f, y_pred_f)\n",
        "cv_res = cross_validate(estimator=dt_cf, X=X_train_f, y=y_train_f, cv=5, scoring='roc_auc_ovr', n_jobs= -1)\n",
        "\n",
        "y_pred_f_bin = dt_cf.predict(X_train_f)\n",
        "precision = precision_score(y_train_f, y_pred_f_bin)\n",
        "recall = recall_score(y_train_f, y_pred_f_bin)\n",
        "\n",
        "df_results.loc[len(df_results)] = [dt_cf, auc_train_f, auc_cv, precision, recall]"
      ]
    },
    {
      "cell_type": "markdown",
      "metadata": {},
      "source": [
        "Random Forest"
      ]
    },
    {
      "cell_type": "code",
      "execution_count": null,
      "metadata": {},
      "outputs": [
        {
          "ename": "",
          "evalue": "",
          "output_type": "error",
          "traceback": [
            "\u001b[1;31mDer Kernel konnte nicht gestartet werden. \n",
            "\u001b[1;31mDer Kernel „base (Python 3.9.12)“ kann aufgrund eines Verbindungstimeouts nicht gestartet werden. \n",
            "Weitere Details finden Sie im Jupyter-<a href='command:jupyter.viewOutput'>Protokoll</a>."
          ]
        }
      ],
      "source": [
        "rf_cf = RandomForestClassifier(random_state=42, n_jobs= -1)\n",
        "rf_cf.fit(X_train_f, y_train_f)\n",
        "y_pred_f = rf_cf.predict_proba(X_train_f)[:,1]\n",
        "auc_train_f = roc_auc_score(y_train_f, y_pred_f)\n",
        "cv_res = cross_validate(estimator=rf_cf, X=X_train_f, y=y_train_f, cv=5, scoring='roc_auc_ovr', n_jobs= -1)\n",
        "auc_cv = cv_res[\"test_score\"].mean()\n",
        "\n",
        "y_pred_f_bin = rf_cf.predict(X_train_f)\n",
        "precision = precision_score(y_train_f, y_pred_f_bin)\n",
        "recall = recall_score(y_train_f, y_pred_f_bin)\n",
        "\n",
        "df_results.loc[len(df_results)] = ['Random Forest', auc_train_f, auc_cv, precision, recall]"
      ]
    },
    {
      "cell_type": "markdown",
      "metadata": {},
      "source": [
        "XG Boost"
      ]
    },
    {
      "cell_type": "code",
      "execution_count": null,
      "metadata": {},
      "outputs": [
        {
          "ename": "",
          "evalue": "",
          "output_type": "error",
          "traceback": [
            "\u001b[1;31mDer Kernel konnte nicht gestartet werden. \n",
            "\u001b[1;31mDer Kernel „base (Python 3.9.12)“ kann aufgrund eines Verbindungstimeouts nicht gestartet werden. \n",
            "Weitere Details finden Sie im Jupyter-<a href='command:jupyter.viewOutput'>Protokoll</a>."
          ]
        }
      ],
      "source": [
        "xgb_cf = XGBClassifier(eval_metric = 'auc')\n",
        "xgb_cf.fit(X_train_f, y_train_f)\n",
        "y_pred_f = xgb_cf.predict_proba(X_train_f)[:,1]\n",
        "auc_train = roc_auc_score(y_train_f, y_pred_f, multi_class='ovr')\n",
        "cv_res = cross_validate(estimator=xgb_cf, X=X_train_f, y=y_train_f, cv=5, scoring='roc_auc_ovr')\n",
        "auc_cv = cv_res[\"test_score\"].mean()\n",
        "\n",
        "y_pred_f_bin = xgb_cf.predict(X_train_f)\n",
        "precision = precision_score(y_train_f, y_pred_f_bin)\n",
        "recall = recall_score(y_train_f, y_pred_f_bin)\n",
        "\n",
        "df_results.loc[len(df_results)] = ['xgBoost', auc_train, auc_cv, precision, recall]"
      ]
    },
    {
      "cell_type": "markdown",
      "metadata": {},
      "source": [
        "### K nearest Neighbors"
      ]
    },
    {
      "cell_type": "code",
      "execution_count": null,
      "metadata": {},
      "outputs": [
        {
          "ename": "",
          "evalue": "",
          "output_type": "error",
          "traceback": [
            "\u001b[1;31mDer Kernel konnte nicht gestartet werden. \n",
            "\u001b[1;31mDer Kernel „base (Python 3.9.12)“ kann aufgrund eines Verbindungstimeouts nicht gestartet werden. \n",
            "Weitere Details finden Sie im Jupyter-<a href='command:jupyter.viewOutput'>Protokoll</a>."
          ]
        }
      ],
      "source": [
        "knn_cf = KNeighborsClassifier(n_jobs= -1)\n",
        "knn_cf.fit(X_train_f, y_train_f)\n",
        "y_pred_F = knn_cf.predict_proba(X_train_f)\n",
        "\n",
        "auc_train = roc_auc_score(y_train_f, y_pred_f)\n",
        "cv_res = cross_validate(estimator=knn_cf, X=X_train_f, y=y_train_f, cv=5, scoring='roc_auc_ovr', n_jobs= -1)\n",
        "auc_cv = cv_res[\"test_score\"].mean()\n",
        "\n",
        "y_pred_f_bin = knn_cf.predict(X_train_f)\n",
        "precision = precision_score(y_train_f, y_pred_f_bin)\n",
        "recall = recall_score(y_train_f, y_pred_f_bin)\n",
        "\n",
        "df_results.loc[len(df_results)] = [knn_cf, auc_train, auc_cv, precision, recall]\n"
      ]
    },
    {
      "cell_type": "code",
      "execution_count": null,
      "metadata": {},
      "outputs": [
        {
          "ename": "",
          "evalue": "",
          "output_type": "error",
          "traceback": [
            "\u001b[1;31mDer Kernel konnte nicht gestartet werden. \n",
            "\u001b[1;31mDer Kernel „base (Python 3.9.12)“ kann aufgrund eines Verbindungstimeouts nicht gestartet werden. \n",
            "Weitere Details finden Sie im Jupyter-<a href='command:jupyter.viewOutput'>Protokoll</a>."
          ]
        }
      ],
      "source": [
        "'''svm_cf = SVC(probability=True,cache_size= 3000)\n",
        "svm_cf.fit(X_train_f, y_train_f)\n",
        "y_pred_f = svm_cf.predict_proba(X_train_f)[:,1]\n",
        "print(y_pred_f)\n",
        "auc_train = roc_auc_score(y_train_f, y_pred_f)\n",
        "cv_res = cross_validate(estimator=svm_cf, X=X_train_f, y=y_train_f, cv=5, scoring='roc_auc_ovr', n_jobs=-1)\n",
        "auc_cv = cv_res[\"test_score\"].mean()\n",
        "\n",
        "y_pred_f_bin = svm_cf.predict(X_train_f)\n",
        "precision = precision_score(y_train_f, y_pred_f_bin)\n",
        "recall = recall_score(y_train_f, y_pred_f_bin)\n",
        "\n",
        "df_results.loc[len(df_results)] = [svm_cf, auc_train, auc_cv, precision, recall]'''"
      ]
    },
    {
      "cell_type": "code",
      "execution_count": null,
      "metadata": {},
      "outputs": [
        {
          "ename": "",
          "evalue": "",
          "output_type": "error",
          "traceback": [
            "\u001b[1;31mDer Kernel konnte nicht gestartet werden. \n",
            "\u001b[1;31mDer Kernel „base (Python 3.9.12)“ kann aufgrund eines Verbindungstimeouts nicht gestartet werden. \n",
            "Weitere Details finden Sie im Jupyter-<a href='command:jupyter.viewOutput'>Protokoll</a>."
          ]
        }
      ],
      "source": [
        "display(df_results)"
      ]
    },
    {
      "cell_type": "markdown",
      "metadata": {},
      "source": [
        "### Hyperparameter Tuning\n",
        "<br>Logistische Regression, Random Forest und XGBoost sind besitzen die höchste Güte\n",
        "<br>Modellgüte kann noch verbessert werden"
      ]
    },
    {
      "cell_type": "markdown",
      "metadata": {},
      "source": [
        "### Random Forest"
      ]
    },
    {
      "cell_type": "code",
      "execution_count": null,
      "metadata": {},
      "outputs": [
        {
          "ename": "",
          "evalue": "",
          "output_type": "error",
          "traceback": [
            "\u001b[1;31mDer Kernel konnte nicht gestartet werden. \n",
            "\u001b[1;31mDer Kernel „base (Python 3.9.12)“ kann aufgrund eines Verbindungstimeouts nicht gestartet werden. \n",
            "Weitere Details finden Sie im Jupyter-<a href='command:jupyter.viewOutput'>Protokoll</a>."
          ]
        }
      ],
      "source": [
        "df_tuned = pd.DataFrame(data=[], columns=[\"Model\", \"AUC Train\", \"AUC CV\", \"Precision\", \"Recall\"])"
      ]
    },
    {
      "cell_type": "code",
      "execution_count": 52,
      "metadata": {},
      "outputs": [
        {
          "ename": "",
          "evalue": "",
          "output_type": "error",
          "traceback": [
            "\u001b[1;31mFehler beim Unterbrechen des Kernels. \n",
            "\u001b[1;31mDer Kernel „base (Python 3.9.12)“ kann aufgrund eines Verbindungstimeouts nicht gestartet werden. \n",
            "Weitere Details finden Sie im Jupyter-<a href='command:jupyter.viewOutput'>Protokoll</a>."
          ]
        }
      ],
      "source": [
        "param_grid = [{\n",
        "    \"n_estimators\":[100, 500, 1000, 2000, 2500],\n",
        "    \"max_depth\": [5, 10, 15, 20, 25],\n",
        "    \"bootstrap\": [True, False]\n",
        "}]\n",
        "\n",
        "rf_cf = RandomForestClassifier(random_state=42, n_jobs= 7)\n",
        "rs = RandomizedSearchCV(rf_cf, param_distributions=param_grid, scoring=\"roc_auc_ovr\", cv=5, n_jobs= -1, n_iter = 5)\n",
        "rs.fit(X_train_f, y_train_f)\n",
        "best_rf = rs.best_params_\n",
        "best_rf\n"
      ]
    },
    {
      "cell_type": "code",
      "execution_count": null,
      "metadata": {},
      "outputs": [
        {
          "data": {
            "text/plain": [
              "{'n_estimators': 2000, 'max_depth': 20, 'bootstrap': True}"
            ]
          },
          "execution_count": 49,
          "metadata": {},
          "output_type": "execute_result"
        }
      ],
      "source": [
        "best_rf"
      ]
    },
    {
      "cell_type": "code",
      "execution_count": 51,
      "metadata": {},
      "outputs": [
        {
          "ename": "KeyboardInterrupt",
          "evalue": "",
          "output_type": "error",
          "traceback": [
            "\u001b[1;31m---------------------------------------------------------------------------\u001b[0m",
            "\u001b[1;31mKeyboardInterrupt\u001b[0m                         Traceback (most recent call last)",
            "\u001b[1;32mc:\\Users\\LordFabi\\OneDrive\\Dokumente\\Vorlesungen\\DHBW ML Project\\dep_pump_project\\Prediction_Model _1.ipynb Zelle 41\u001b[0m in \u001b[0;36m<cell line: 9>\u001b[1;34m()\u001b[0m\n\u001b[0;32m      <a href='vscode-notebook-cell:/c%3A/Users/LordFabi/OneDrive/Dokumente/Vorlesungen/DHBW%20ML%20Project/dep_pump_project/Prediction_Model%20_1.ipynb#Y113sZmlsZQ%3D%3D?line=6'>7</a>\u001b[0m rf_cf \u001b[39m=\u001b[39m RandomForestClassifier(random_state\u001b[39m=\u001b[39m\u001b[39m42\u001b[39m)\n\u001b[0;32m      <a href='vscode-notebook-cell:/c%3A/Users/LordFabi/OneDrive/Dokumente/Vorlesungen/DHBW%20ML%20Project/dep_pump_project/Prediction_Model%20_1.ipynb#Y113sZmlsZQ%3D%3D?line=7'>8</a>\u001b[0m rs \u001b[39m=\u001b[39m GridSearchCV(rf_cf, param_grid\u001b[39m=\u001b[39mparam_grid, scoring\u001b[39m=\u001b[39m\u001b[39m\"\u001b[39m\u001b[39mroc_auc_ovr\u001b[39m\u001b[39m\"\u001b[39m, cv\u001b[39m=\u001b[39m\u001b[39m10\u001b[39m)\n\u001b[1;32m----> <a href='vscode-notebook-cell:/c%3A/Users/LordFabi/OneDrive/Dokumente/Vorlesungen/DHBW%20ML%20Project/dep_pump_project/Prediction_Model%20_1.ipynb#Y113sZmlsZQ%3D%3D?line=8'>9</a>\u001b[0m rs\u001b[39m.\u001b[39;49mfit(X_train_f, y_train_f)\n\u001b[0;32m     <a href='vscode-notebook-cell:/c%3A/Users/LordFabi/OneDrive/Dokumente/Vorlesungen/DHBW%20ML%20Project/dep_pump_project/Prediction_Model%20_1.ipynb#Y113sZmlsZQ%3D%3D?line=9'>10</a>\u001b[0m best_rf \u001b[39m=\u001b[39m rs\u001b[39m.\u001b[39mbest_params_\n\u001b[0;32m     <a href='vscode-notebook-cell:/c%3A/Users/LordFabi/OneDrive/Dokumente/Vorlesungen/DHBW%20ML%20Project/dep_pump_project/Prediction_Model%20_1.ipynb#Y113sZmlsZQ%3D%3D?line=10'>11</a>\u001b[0m \u001b[39mprint\u001b[39m(best_rf)\n",
            "File \u001b[1;32mc:\\Users\\LordFabi\\anaconda3\\lib\\site-packages\\sklearn\\model_selection\\_search.py:891\u001b[0m, in \u001b[0;36mBaseSearchCV.fit\u001b[1;34m(self, X, y, groups, **fit_params)\u001b[0m\n\u001b[0;32m    885\u001b[0m     results \u001b[39m=\u001b[39m \u001b[39mself\u001b[39m\u001b[39m.\u001b[39m_format_results(\n\u001b[0;32m    886\u001b[0m         all_candidate_params, n_splits, all_out, all_more_results\n\u001b[0;32m    887\u001b[0m     )\n\u001b[0;32m    889\u001b[0m     \u001b[39mreturn\u001b[39;00m results\n\u001b[1;32m--> 891\u001b[0m \u001b[39mself\u001b[39;49m\u001b[39m.\u001b[39;49m_run_search(evaluate_candidates)\n\u001b[0;32m    893\u001b[0m \u001b[39m# multimetric is determined here because in the case of a callable\u001b[39;00m\n\u001b[0;32m    894\u001b[0m \u001b[39m# self.scoring the return type is only known after calling\u001b[39;00m\n\u001b[0;32m    895\u001b[0m first_test_score \u001b[39m=\u001b[39m all_out[\u001b[39m0\u001b[39m][\u001b[39m\"\u001b[39m\u001b[39mtest_scores\u001b[39m\u001b[39m\"\u001b[39m]\n",
            "File \u001b[1;32mc:\\Users\\LordFabi\\anaconda3\\lib\\site-packages\\sklearn\\model_selection\\_search.py:1392\u001b[0m, in \u001b[0;36mGridSearchCV._run_search\u001b[1;34m(self, evaluate_candidates)\u001b[0m\n\u001b[0;32m   1390\u001b[0m \u001b[39mdef\u001b[39;00m \u001b[39m_run_search\u001b[39m(\u001b[39mself\u001b[39m, evaluate_candidates):\n\u001b[0;32m   1391\u001b[0m     \u001b[39m\"\"\"Search all candidates in param_grid\"\"\"\u001b[39;00m\n\u001b[1;32m-> 1392\u001b[0m     evaluate_candidates(ParameterGrid(\u001b[39mself\u001b[39;49m\u001b[39m.\u001b[39;49mparam_grid))\n",
            "File \u001b[1;32mc:\\Users\\LordFabi\\anaconda3\\lib\\site-packages\\sklearn\\model_selection\\_search.py:838\u001b[0m, in \u001b[0;36mBaseSearchCV.fit.<locals>.evaluate_candidates\u001b[1;34m(candidate_params, cv, more_results)\u001b[0m\n\u001b[0;32m    830\u001b[0m \u001b[39mif\u001b[39;00m \u001b[39mself\u001b[39m\u001b[39m.\u001b[39mverbose \u001b[39m>\u001b[39m \u001b[39m0\u001b[39m:\n\u001b[0;32m    831\u001b[0m     \u001b[39mprint\u001b[39m(\n\u001b[0;32m    832\u001b[0m         \u001b[39m\"\u001b[39m\u001b[39mFitting \u001b[39m\u001b[39m{0}\u001b[39;00m\u001b[39m folds for each of \u001b[39m\u001b[39m{1}\u001b[39;00m\u001b[39m candidates,\u001b[39m\u001b[39m\"\u001b[39m\n\u001b[0;32m    833\u001b[0m         \u001b[39m\"\u001b[39m\u001b[39m totalling \u001b[39m\u001b[39m{2}\u001b[39;00m\u001b[39m fits\u001b[39m\u001b[39m\"\u001b[39m\u001b[39m.\u001b[39mformat(\n\u001b[0;32m    834\u001b[0m             n_splits, n_candidates, n_candidates \u001b[39m*\u001b[39m n_splits\n\u001b[0;32m    835\u001b[0m         )\n\u001b[0;32m    836\u001b[0m     )\n\u001b[1;32m--> 838\u001b[0m out \u001b[39m=\u001b[39m parallel(\n\u001b[0;32m    839\u001b[0m     delayed(_fit_and_score)(\n\u001b[0;32m    840\u001b[0m         clone(base_estimator),\n\u001b[0;32m    841\u001b[0m         X,\n\u001b[0;32m    842\u001b[0m         y,\n\u001b[0;32m    843\u001b[0m         train\u001b[39m=\u001b[39;49mtrain,\n\u001b[0;32m    844\u001b[0m         test\u001b[39m=\u001b[39;49mtest,\n\u001b[0;32m    845\u001b[0m         parameters\u001b[39m=\u001b[39;49mparameters,\n\u001b[0;32m    846\u001b[0m         split_progress\u001b[39m=\u001b[39;49m(split_idx, n_splits),\n\u001b[0;32m    847\u001b[0m         candidate_progress\u001b[39m=\u001b[39;49m(cand_idx, n_candidates),\n\u001b[0;32m    848\u001b[0m         \u001b[39m*\u001b[39;49m\u001b[39m*\u001b[39;49mfit_and_score_kwargs,\n\u001b[0;32m    849\u001b[0m     )\n\u001b[0;32m    850\u001b[0m     \u001b[39mfor\u001b[39;49;00m (cand_idx, parameters), (split_idx, (train, test)) \u001b[39min\u001b[39;49;00m product(\n\u001b[0;32m    851\u001b[0m         \u001b[39menumerate\u001b[39;49m(candidate_params), \u001b[39menumerate\u001b[39;49m(cv\u001b[39m.\u001b[39;49msplit(X, y, groups))\n\u001b[0;32m    852\u001b[0m     )\n\u001b[0;32m    853\u001b[0m )\n\u001b[0;32m    855\u001b[0m \u001b[39mif\u001b[39;00m \u001b[39mlen\u001b[39m(out) \u001b[39m<\u001b[39m \u001b[39m1\u001b[39m:\n\u001b[0;32m    856\u001b[0m     \u001b[39mraise\u001b[39;00m \u001b[39mValueError\u001b[39;00m(\n\u001b[0;32m    857\u001b[0m         \u001b[39m\"\u001b[39m\u001b[39mNo fits were performed. \u001b[39m\u001b[39m\"\u001b[39m\n\u001b[0;32m    858\u001b[0m         \u001b[39m\"\u001b[39m\u001b[39mWas the CV iterator empty? \u001b[39m\u001b[39m\"\u001b[39m\n\u001b[0;32m    859\u001b[0m         \u001b[39m\"\u001b[39m\u001b[39mWere there no candidates?\u001b[39m\u001b[39m\"\u001b[39m\n\u001b[0;32m    860\u001b[0m     )\n",
            "File \u001b[1;32mc:\\Users\\LordFabi\\anaconda3\\lib\\site-packages\\joblib\\parallel.py:1046\u001b[0m, in \u001b[0;36mParallel.__call__\u001b[1;34m(self, iterable)\u001b[0m\n\u001b[0;32m   1043\u001b[0m \u001b[39mif\u001b[39;00m \u001b[39mself\u001b[39m\u001b[39m.\u001b[39mdispatch_one_batch(iterator):\n\u001b[0;32m   1044\u001b[0m     \u001b[39mself\u001b[39m\u001b[39m.\u001b[39m_iterating \u001b[39m=\u001b[39m \u001b[39mself\u001b[39m\u001b[39m.\u001b[39m_original_iterator \u001b[39mis\u001b[39;00m \u001b[39mnot\u001b[39;00m \u001b[39mNone\u001b[39;00m\n\u001b[1;32m-> 1046\u001b[0m \u001b[39mwhile\u001b[39;00m \u001b[39mself\u001b[39;49m\u001b[39m.\u001b[39;49mdispatch_one_batch(iterator):\n\u001b[0;32m   1047\u001b[0m     \u001b[39mpass\u001b[39;00m\n\u001b[0;32m   1049\u001b[0m \u001b[39mif\u001b[39;00m pre_dispatch \u001b[39m==\u001b[39m \u001b[39m\"\u001b[39m\u001b[39mall\u001b[39m\u001b[39m\"\u001b[39m \u001b[39mor\u001b[39;00m n_jobs \u001b[39m==\u001b[39m \u001b[39m1\u001b[39m:\n\u001b[0;32m   1050\u001b[0m     \u001b[39m# The iterable was consumed all at once by the above for loop.\u001b[39;00m\n\u001b[0;32m   1051\u001b[0m     \u001b[39m# No need to wait for async callbacks to trigger to\u001b[39;00m\n\u001b[0;32m   1052\u001b[0m     \u001b[39m# consumption.\u001b[39;00m\n",
            "File \u001b[1;32mc:\\Users\\LordFabi\\anaconda3\\lib\\site-packages\\joblib\\parallel.py:861\u001b[0m, in \u001b[0;36mParallel.dispatch_one_batch\u001b[1;34m(self, iterator)\u001b[0m\n\u001b[0;32m    859\u001b[0m     \u001b[39mreturn\u001b[39;00m \u001b[39mFalse\u001b[39;00m\n\u001b[0;32m    860\u001b[0m \u001b[39melse\u001b[39;00m:\n\u001b[1;32m--> 861\u001b[0m     \u001b[39mself\u001b[39;49m\u001b[39m.\u001b[39;49m_dispatch(tasks)\n\u001b[0;32m    862\u001b[0m     \u001b[39mreturn\u001b[39;00m \u001b[39mTrue\u001b[39;00m\n",
            "File \u001b[1;32mc:\\Users\\LordFabi\\anaconda3\\lib\\site-packages\\joblib\\parallel.py:779\u001b[0m, in \u001b[0;36mParallel._dispatch\u001b[1;34m(self, batch)\u001b[0m\n\u001b[0;32m    777\u001b[0m \u001b[39mwith\u001b[39;00m \u001b[39mself\u001b[39m\u001b[39m.\u001b[39m_lock:\n\u001b[0;32m    778\u001b[0m     job_idx \u001b[39m=\u001b[39m \u001b[39mlen\u001b[39m(\u001b[39mself\u001b[39m\u001b[39m.\u001b[39m_jobs)\n\u001b[1;32m--> 779\u001b[0m     job \u001b[39m=\u001b[39m \u001b[39mself\u001b[39;49m\u001b[39m.\u001b[39;49m_backend\u001b[39m.\u001b[39;49mapply_async(batch, callback\u001b[39m=\u001b[39;49mcb)\n\u001b[0;32m    780\u001b[0m     \u001b[39m# A job can complete so quickly than its callback is\u001b[39;00m\n\u001b[0;32m    781\u001b[0m     \u001b[39m# called before we get here, causing self._jobs to\u001b[39;00m\n\u001b[0;32m    782\u001b[0m     \u001b[39m# grow. To ensure correct results ordering, .insert is\u001b[39;00m\n\u001b[0;32m    783\u001b[0m     \u001b[39m# used (rather than .append) in the following line\u001b[39;00m\n\u001b[0;32m    784\u001b[0m     \u001b[39mself\u001b[39m\u001b[39m.\u001b[39m_jobs\u001b[39m.\u001b[39minsert(job_idx, job)\n",
            "File \u001b[1;32mc:\\Users\\LordFabi\\anaconda3\\lib\\site-packages\\joblib\\_parallel_backends.py:208\u001b[0m, in \u001b[0;36mSequentialBackend.apply_async\u001b[1;34m(self, func, callback)\u001b[0m\n\u001b[0;32m    206\u001b[0m \u001b[39mdef\u001b[39;00m \u001b[39mapply_async\u001b[39m(\u001b[39mself\u001b[39m, func, callback\u001b[39m=\u001b[39m\u001b[39mNone\u001b[39;00m):\n\u001b[0;32m    207\u001b[0m     \u001b[39m\"\"\"Schedule a func to be run\"\"\"\u001b[39;00m\n\u001b[1;32m--> 208\u001b[0m     result \u001b[39m=\u001b[39m ImmediateResult(func)\n\u001b[0;32m    209\u001b[0m     \u001b[39mif\u001b[39;00m callback:\n\u001b[0;32m    210\u001b[0m         callback(result)\n",
            "File \u001b[1;32mc:\\Users\\LordFabi\\anaconda3\\lib\\site-packages\\joblib\\_parallel_backends.py:572\u001b[0m, in \u001b[0;36mImmediateResult.__init__\u001b[1;34m(self, batch)\u001b[0m\n\u001b[0;32m    569\u001b[0m \u001b[39mdef\u001b[39;00m \u001b[39m__init__\u001b[39m(\u001b[39mself\u001b[39m, batch):\n\u001b[0;32m    570\u001b[0m     \u001b[39m# Don't delay the application, to avoid keeping the input\u001b[39;00m\n\u001b[0;32m    571\u001b[0m     \u001b[39m# arguments in memory\u001b[39;00m\n\u001b[1;32m--> 572\u001b[0m     \u001b[39mself\u001b[39m\u001b[39m.\u001b[39mresults \u001b[39m=\u001b[39m batch()\n",
            "File \u001b[1;32mc:\\Users\\LordFabi\\anaconda3\\lib\\site-packages\\joblib\\parallel.py:262\u001b[0m, in \u001b[0;36mBatchedCalls.__call__\u001b[1;34m(self)\u001b[0m\n\u001b[0;32m    258\u001b[0m \u001b[39mdef\u001b[39;00m \u001b[39m__call__\u001b[39m(\u001b[39mself\u001b[39m):\n\u001b[0;32m    259\u001b[0m     \u001b[39m# Set the default nested backend to self._backend but do not set the\u001b[39;00m\n\u001b[0;32m    260\u001b[0m     \u001b[39m# change the default number of processes to -1\u001b[39;00m\n\u001b[0;32m    261\u001b[0m     \u001b[39mwith\u001b[39;00m parallel_backend(\u001b[39mself\u001b[39m\u001b[39m.\u001b[39m_backend, n_jobs\u001b[39m=\u001b[39m\u001b[39mself\u001b[39m\u001b[39m.\u001b[39m_n_jobs):\n\u001b[1;32m--> 262\u001b[0m         \u001b[39mreturn\u001b[39;00m [func(\u001b[39m*\u001b[39margs, \u001b[39m*\u001b[39m\u001b[39m*\u001b[39mkwargs)\n\u001b[0;32m    263\u001b[0m                 \u001b[39mfor\u001b[39;00m func, args, kwargs \u001b[39min\u001b[39;00m \u001b[39mself\u001b[39m\u001b[39m.\u001b[39mitems]\n",
            "File \u001b[1;32mc:\\Users\\LordFabi\\anaconda3\\lib\\site-packages\\joblib\\parallel.py:262\u001b[0m, in \u001b[0;36m<listcomp>\u001b[1;34m(.0)\u001b[0m\n\u001b[0;32m    258\u001b[0m \u001b[39mdef\u001b[39;00m \u001b[39m__call__\u001b[39m(\u001b[39mself\u001b[39m):\n\u001b[0;32m    259\u001b[0m     \u001b[39m# Set the default nested backend to self._backend but do not set the\u001b[39;00m\n\u001b[0;32m    260\u001b[0m     \u001b[39m# change the default number of processes to -1\u001b[39;00m\n\u001b[0;32m    261\u001b[0m     \u001b[39mwith\u001b[39;00m parallel_backend(\u001b[39mself\u001b[39m\u001b[39m.\u001b[39m_backend, n_jobs\u001b[39m=\u001b[39m\u001b[39mself\u001b[39m\u001b[39m.\u001b[39m_n_jobs):\n\u001b[1;32m--> 262\u001b[0m         \u001b[39mreturn\u001b[39;00m [func(\u001b[39m*\u001b[39margs, \u001b[39m*\u001b[39m\u001b[39m*\u001b[39mkwargs)\n\u001b[0;32m    263\u001b[0m                 \u001b[39mfor\u001b[39;00m func, args, kwargs \u001b[39min\u001b[39;00m \u001b[39mself\u001b[39m\u001b[39m.\u001b[39mitems]\n",
            "File \u001b[1;32mc:\\Users\\LordFabi\\anaconda3\\lib\\site-packages\\sklearn\\utils\\fixes.py:216\u001b[0m, in \u001b[0;36m_FuncWrapper.__call__\u001b[1;34m(self, *args, **kwargs)\u001b[0m\n\u001b[0;32m    214\u001b[0m \u001b[39mdef\u001b[39;00m \u001b[39m__call__\u001b[39m(\u001b[39mself\u001b[39m, \u001b[39m*\u001b[39margs, \u001b[39m*\u001b[39m\u001b[39m*\u001b[39mkwargs):\n\u001b[0;32m    215\u001b[0m     \u001b[39mwith\u001b[39;00m config_context(\u001b[39m*\u001b[39m\u001b[39m*\u001b[39m\u001b[39mself\u001b[39m\u001b[39m.\u001b[39mconfig):\n\u001b[1;32m--> 216\u001b[0m         \u001b[39mreturn\u001b[39;00m \u001b[39mself\u001b[39m\u001b[39m.\u001b[39mfunction(\u001b[39m*\u001b[39margs, \u001b[39m*\u001b[39m\u001b[39m*\u001b[39mkwargs)\n",
            "File \u001b[1;32mc:\\Users\\LordFabi\\anaconda3\\lib\\site-packages\\sklearn\\model_selection\\_validation.py:680\u001b[0m, in \u001b[0;36m_fit_and_score\u001b[1;34m(estimator, X, y, scorer, train, test, verbose, parameters, fit_params, return_train_score, return_parameters, return_n_test_samples, return_times, return_estimator, split_progress, candidate_progress, error_score)\u001b[0m\n\u001b[0;32m    678\u001b[0m         estimator\u001b[39m.\u001b[39mfit(X_train, \u001b[39m*\u001b[39m\u001b[39m*\u001b[39mfit_params)\n\u001b[0;32m    679\u001b[0m     \u001b[39melse\u001b[39;00m:\n\u001b[1;32m--> 680\u001b[0m         estimator\u001b[39m.\u001b[39mfit(X_train, y_train, \u001b[39m*\u001b[39m\u001b[39m*\u001b[39mfit_params)\n\u001b[0;32m    682\u001b[0m \u001b[39mexcept\u001b[39;00m \u001b[39mException\u001b[39;00m:\n\u001b[0;32m    683\u001b[0m     \u001b[39m# Note fit time as time until error\u001b[39;00m\n\u001b[0;32m    684\u001b[0m     fit_time \u001b[39m=\u001b[39m time\u001b[39m.\u001b[39mtime() \u001b[39m-\u001b[39m start_time\n",
            "File \u001b[1;32mc:\\Users\\LordFabi\\anaconda3\\lib\\site-packages\\sklearn\\ensemble\\_forest.py:450\u001b[0m, in \u001b[0;36mBaseForest.fit\u001b[1;34m(self, X, y, sample_weight)\u001b[0m\n\u001b[0;32m    439\u001b[0m trees \u001b[39m=\u001b[39m [\n\u001b[0;32m    440\u001b[0m     \u001b[39mself\u001b[39m\u001b[39m.\u001b[39m_make_estimator(append\u001b[39m=\u001b[39m\u001b[39mFalse\u001b[39;00m, random_state\u001b[39m=\u001b[39mrandom_state)\n\u001b[0;32m    441\u001b[0m     \u001b[39mfor\u001b[39;00m i \u001b[39min\u001b[39;00m \u001b[39mrange\u001b[39m(n_more_estimators)\n\u001b[0;32m    442\u001b[0m ]\n\u001b[0;32m    444\u001b[0m \u001b[39m# Parallel loop: we prefer the threading backend as the Cython code\u001b[39;00m\n\u001b[0;32m    445\u001b[0m \u001b[39m# for fitting the trees is internally releasing the Python GIL\u001b[39;00m\n\u001b[0;32m    446\u001b[0m \u001b[39m# making threading more efficient than multiprocessing in\u001b[39;00m\n\u001b[0;32m    447\u001b[0m \u001b[39m# that case. However, for joblib 0.12+ we respect any\u001b[39;00m\n\u001b[0;32m    448\u001b[0m \u001b[39m# parallel_backend contexts set at a higher level,\u001b[39;00m\n\u001b[0;32m    449\u001b[0m \u001b[39m# since correctness does not rely on using threads.\u001b[39;00m\n\u001b[1;32m--> 450\u001b[0m trees \u001b[39m=\u001b[39m Parallel(\n\u001b[0;32m    451\u001b[0m     n_jobs\u001b[39m=\u001b[39;49m\u001b[39mself\u001b[39;49m\u001b[39m.\u001b[39;49mn_jobs,\n\u001b[0;32m    452\u001b[0m     verbose\u001b[39m=\u001b[39;49m\u001b[39mself\u001b[39;49m\u001b[39m.\u001b[39;49mverbose,\n\u001b[0;32m    453\u001b[0m     \u001b[39m*\u001b[39;49m\u001b[39m*\u001b[39;49m_joblib_parallel_args(prefer\u001b[39m=\u001b[39;49m\u001b[39m\"\u001b[39;49m\u001b[39mthreads\u001b[39;49m\u001b[39m\"\u001b[39;49m),\n\u001b[0;32m    454\u001b[0m )(\n\u001b[0;32m    455\u001b[0m     delayed(_parallel_build_trees)(\n\u001b[0;32m    456\u001b[0m         t,\n\u001b[0;32m    457\u001b[0m         \u001b[39mself\u001b[39;49m,\n\u001b[0;32m    458\u001b[0m         X,\n\u001b[0;32m    459\u001b[0m         y,\n\u001b[0;32m    460\u001b[0m         sample_weight,\n\u001b[0;32m    461\u001b[0m         i,\n\u001b[0;32m    462\u001b[0m         \u001b[39mlen\u001b[39;49m(trees),\n\u001b[0;32m    463\u001b[0m         verbose\u001b[39m=\u001b[39;49m\u001b[39mself\u001b[39;49m\u001b[39m.\u001b[39;49mverbose,\n\u001b[0;32m    464\u001b[0m         class_weight\u001b[39m=\u001b[39;49m\u001b[39mself\u001b[39;49m\u001b[39m.\u001b[39;49mclass_weight,\n\u001b[0;32m    465\u001b[0m         n_samples_bootstrap\u001b[39m=\u001b[39;49mn_samples_bootstrap,\n\u001b[0;32m    466\u001b[0m     )\n\u001b[0;32m    467\u001b[0m     \u001b[39mfor\u001b[39;49;00m i, t \u001b[39min\u001b[39;49;00m \u001b[39menumerate\u001b[39;49m(trees)\n\u001b[0;32m    468\u001b[0m )\n\u001b[0;32m    470\u001b[0m \u001b[39m# Collect newly grown trees\u001b[39;00m\n\u001b[0;32m    471\u001b[0m \u001b[39mself\u001b[39m\u001b[39m.\u001b[39mestimators_\u001b[39m.\u001b[39mextend(trees)\n",
            "File \u001b[1;32mc:\\Users\\LordFabi\\anaconda3\\lib\\site-packages\\joblib\\parallel.py:1046\u001b[0m, in \u001b[0;36mParallel.__call__\u001b[1;34m(self, iterable)\u001b[0m\n\u001b[0;32m   1043\u001b[0m \u001b[39mif\u001b[39;00m \u001b[39mself\u001b[39m\u001b[39m.\u001b[39mdispatch_one_batch(iterator):\n\u001b[0;32m   1044\u001b[0m     \u001b[39mself\u001b[39m\u001b[39m.\u001b[39m_iterating \u001b[39m=\u001b[39m \u001b[39mself\u001b[39m\u001b[39m.\u001b[39m_original_iterator \u001b[39mis\u001b[39;00m \u001b[39mnot\u001b[39;00m \u001b[39mNone\u001b[39;00m\n\u001b[1;32m-> 1046\u001b[0m \u001b[39mwhile\u001b[39;00m \u001b[39mself\u001b[39;49m\u001b[39m.\u001b[39;49mdispatch_one_batch(iterator):\n\u001b[0;32m   1047\u001b[0m     \u001b[39mpass\u001b[39;00m\n\u001b[0;32m   1049\u001b[0m \u001b[39mif\u001b[39;00m pre_dispatch \u001b[39m==\u001b[39m \u001b[39m\"\u001b[39m\u001b[39mall\u001b[39m\u001b[39m\"\u001b[39m \u001b[39mor\u001b[39;00m n_jobs \u001b[39m==\u001b[39m \u001b[39m1\u001b[39m:\n\u001b[0;32m   1050\u001b[0m     \u001b[39m# The iterable was consumed all at once by the above for loop.\u001b[39;00m\n\u001b[0;32m   1051\u001b[0m     \u001b[39m# No need to wait for async callbacks to trigger to\u001b[39;00m\n\u001b[0;32m   1052\u001b[0m     \u001b[39m# consumption.\u001b[39;00m\n",
            "File \u001b[1;32mc:\\Users\\LordFabi\\anaconda3\\lib\\site-packages\\joblib\\parallel.py:861\u001b[0m, in \u001b[0;36mParallel.dispatch_one_batch\u001b[1;34m(self, iterator)\u001b[0m\n\u001b[0;32m    859\u001b[0m     \u001b[39mreturn\u001b[39;00m \u001b[39mFalse\u001b[39;00m\n\u001b[0;32m    860\u001b[0m \u001b[39melse\u001b[39;00m:\n\u001b[1;32m--> 861\u001b[0m     \u001b[39mself\u001b[39;49m\u001b[39m.\u001b[39;49m_dispatch(tasks)\n\u001b[0;32m    862\u001b[0m     \u001b[39mreturn\u001b[39;00m \u001b[39mTrue\u001b[39;00m\n",
            "File \u001b[1;32mc:\\Users\\LordFabi\\anaconda3\\lib\\site-packages\\joblib\\parallel.py:779\u001b[0m, in \u001b[0;36mParallel._dispatch\u001b[1;34m(self, batch)\u001b[0m\n\u001b[0;32m    777\u001b[0m \u001b[39mwith\u001b[39;00m \u001b[39mself\u001b[39m\u001b[39m.\u001b[39m_lock:\n\u001b[0;32m    778\u001b[0m     job_idx \u001b[39m=\u001b[39m \u001b[39mlen\u001b[39m(\u001b[39mself\u001b[39m\u001b[39m.\u001b[39m_jobs)\n\u001b[1;32m--> 779\u001b[0m     job \u001b[39m=\u001b[39m \u001b[39mself\u001b[39;49m\u001b[39m.\u001b[39;49m_backend\u001b[39m.\u001b[39;49mapply_async(batch, callback\u001b[39m=\u001b[39;49mcb)\n\u001b[0;32m    780\u001b[0m     \u001b[39m# A job can complete so quickly than its callback is\u001b[39;00m\n\u001b[0;32m    781\u001b[0m     \u001b[39m# called before we get here, causing self._jobs to\u001b[39;00m\n\u001b[0;32m    782\u001b[0m     \u001b[39m# grow. To ensure correct results ordering, .insert is\u001b[39;00m\n\u001b[0;32m    783\u001b[0m     \u001b[39m# used (rather than .append) in the following line\u001b[39;00m\n\u001b[0;32m    784\u001b[0m     \u001b[39mself\u001b[39m\u001b[39m.\u001b[39m_jobs\u001b[39m.\u001b[39minsert(job_idx, job)\n",
            "File \u001b[1;32mc:\\Users\\LordFabi\\anaconda3\\lib\\site-packages\\joblib\\_parallel_backends.py:208\u001b[0m, in \u001b[0;36mSequentialBackend.apply_async\u001b[1;34m(self, func, callback)\u001b[0m\n\u001b[0;32m    206\u001b[0m \u001b[39mdef\u001b[39;00m \u001b[39mapply_async\u001b[39m(\u001b[39mself\u001b[39m, func, callback\u001b[39m=\u001b[39m\u001b[39mNone\u001b[39;00m):\n\u001b[0;32m    207\u001b[0m     \u001b[39m\"\"\"Schedule a func to be run\"\"\"\u001b[39;00m\n\u001b[1;32m--> 208\u001b[0m     result \u001b[39m=\u001b[39m ImmediateResult(func)\n\u001b[0;32m    209\u001b[0m     \u001b[39mif\u001b[39;00m callback:\n\u001b[0;32m    210\u001b[0m         callback(result)\n",
            "File \u001b[1;32mc:\\Users\\LordFabi\\anaconda3\\lib\\site-packages\\joblib\\_parallel_backends.py:572\u001b[0m, in \u001b[0;36mImmediateResult.__init__\u001b[1;34m(self, batch)\u001b[0m\n\u001b[0;32m    569\u001b[0m \u001b[39mdef\u001b[39;00m \u001b[39m__init__\u001b[39m(\u001b[39mself\u001b[39m, batch):\n\u001b[0;32m    570\u001b[0m     \u001b[39m# Don't delay the application, to avoid keeping the input\u001b[39;00m\n\u001b[0;32m    571\u001b[0m     \u001b[39m# arguments in memory\u001b[39;00m\n\u001b[1;32m--> 572\u001b[0m     \u001b[39mself\u001b[39m\u001b[39m.\u001b[39mresults \u001b[39m=\u001b[39m batch()\n",
            "File \u001b[1;32mc:\\Users\\LordFabi\\anaconda3\\lib\\site-packages\\joblib\\parallel.py:262\u001b[0m, in \u001b[0;36mBatchedCalls.__call__\u001b[1;34m(self)\u001b[0m\n\u001b[0;32m    258\u001b[0m \u001b[39mdef\u001b[39;00m \u001b[39m__call__\u001b[39m(\u001b[39mself\u001b[39m):\n\u001b[0;32m    259\u001b[0m     \u001b[39m# Set the default nested backend to self._backend but do not set the\u001b[39;00m\n\u001b[0;32m    260\u001b[0m     \u001b[39m# change the default number of processes to -1\u001b[39;00m\n\u001b[0;32m    261\u001b[0m     \u001b[39mwith\u001b[39;00m parallel_backend(\u001b[39mself\u001b[39m\u001b[39m.\u001b[39m_backend, n_jobs\u001b[39m=\u001b[39m\u001b[39mself\u001b[39m\u001b[39m.\u001b[39m_n_jobs):\n\u001b[1;32m--> 262\u001b[0m         \u001b[39mreturn\u001b[39;00m [func(\u001b[39m*\u001b[39margs, \u001b[39m*\u001b[39m\u001b[39m*\u001b[39mkwargs)\n\u001b[0;32m    263\u001b[0m                 \u001b[39mfor\u001b[39;00m func, args, kwargs \u001b[39min\u001b[39;00m \u001b[39mself\u001b[39m\u001b[39m.\u001b[39mitems]\n",
            "File \u001b[1;32mc:\\Users\\LordFabi\\anaconda3\\lib\\site-packages\\joblib\\parallel.py:262\u001b[0m, in \u001b[0;36m<listcomp>\u001b[1;34m(.0)\u001b[0m\n\u001b[0;32m    258\u001b[0m \u001b[39mdef\u001b[39;00m \u001b[39m__call__\u001b[39m(\u001b[39mself\u001b[39m):\n\u001b[0;32m    259\u001b[0m     \u001b[39m# Set the default nested backend to self._backend but do not set the\u001b[39;00m\n\u001b[0;32m    260\u001b[0m     \u001b[39m# change the default number of processes to -1\u001b[39;00m\n\u001b[0;32m    261\u001b[0m     \u001b[39mwith\u001b[39;00m parallel_backend(\u001b[39mself\u001b[39m\u001b[39m.\u001b[39m_backend, n_jobs\u001b[39m=\u001b[39m\u001b[39mself\u001b[39m\u001b[39m.\u001b[39m_n_jobs):\n\u001b[1;32m--> 262\u001b[0m         \u001b[39mreturn\u001b[39;00m [func(\u001b[39m*\u001b[39margs, \u001b[39m*\u001b[39m\u001b[39m*\u001b[39mkwargs)\n\u001b[0;32m    263\u001b[0m                 \u001b[39mfor\u001b[39;00m func, args, kwargs \u001b[39min\u001b[39;00m \u001b[39mself\u001b[39m\u001b[39m.\u001b[39mitems]\n",
            "File \u001b[1;32mc:\\Users\\LordFabi\\anaconda3\\lib\\site-packages\\sklearn\\utils\\fixes.py:216\u001b[0m, in \u001b[0;36m_FuncWrapper.__call__\u001b[1;34m(self, *args, **kwargs)\u001b[0m\n\u001b[0;32m    214\u001b[0m \u001b[39mdef\u001b[39;00m \u001b[39m__call__\u001b[39m(\u001b[39mself\u001b[39m, \u001b[39m*\u001b[39margs, \u001b[39m*\u001b[39m\u001b[39m*\u001b[39mkwargs):\n\u001b[0;32m    215\u001b[0m     \u001b[39mwith\u001b[39;00m config_context(\u001b[39m*\u001b[39m\u001b[39m*\u001b[39m\u001b[39mself\u001b[39m\u001b[39m.\u001b[39mconfig):\n\u001b[1;32m--> 216\u001b[0m         \u001b[39mreturn\u001b[39;00m \u001b[39mself\u001b[39m\u001b[39m.\u001b[39mfunction(\u001b[39m*\u001b[39margs, \u001b[39m*\u001b[39m\u001b[39m*\u001b[39mkwargs)\n",
            "File \u001b[1;32mc:\\Users\\LordFabi\\anaconda3\\lib\\site-packages\\sklearn\\ensemble\\_forest.py:185\u001b[0m, in \u001b[0;36m_parallel_build_trees\u001b[1;34m(tree, forest, X, y, sample_weight, tree_idx, n_trees, verbose, class_weight, n_samples_bootstrap)\u001b[0m\n\u001b[0;32m    182\u001b[0m     \u001b[39melif\u001b[39;00m class_weight \u001b[39m==\u001b[39m \u001b[39m\"\u001b[39m\u001b[39mbalanced_subsample\u001b[39m\u001b[39m\"\u001b[39m:\n\u001b[0;32m    183\u001b[0m         curr_sample_weight \u001b[39m*\u001b[39m\u001b[39m=\u001b[39m compute_sample_weight(\u001b[39m\"\u001b[39m\u001b[39mbalanced\u001b[39m\u001b[39m\"\u001b[39m, y, indices\u001b[39m=\u001b[39mindices)\n\u001b[1;32m--> 185\u001b[0m     tree\u001b[39m.\u001b[39;49mfit(X, y, sample_weight\u001b[39m=\u001b[39;49mcurr_sample_weight, check_input\u001b[39m=\u001b[39;49m\u001b[39mFalse\u001b[39;49;00m)\n\u001b[0;32m    186\u001b[0m \u001b[39melse\u001b[39;00m:\n\u001b[0;32m    187\u001b[0m     tree\u001b[39m.\u001b[39mfit(X, y, sample_weight\u001b[39m=\u001b[39msample_weight, check_input\u001b[39m=\u001b[39m\u001b[39mFalse\u001b[39;00m)\n",
            "File \u001b[1;32mc:\\Users\\LordFabi\\anaconda3\\lib\\site-packages\\sklearn\\tree\\_classes.py:937\u001b[0m, in \u001b[0;36mDecisionTreeClassifier.fit\u001b[1;34m(self, X, y, sample_weight, check_input, X_idx_sorted)\u001b[0m\n\u001b[0;32m    899\u001b[0m \u001b[39mdef\u001b[39;00m \u001b[39mfit\u001b[39m(\n\u001b[0;32m    900\u001b[0m     \u001b[39mself\u001b[39m, X, y, sample_weight\u001b[39m=\u001b[39m\u001b[39mNone\u001b[39;00m, check_input\u001b[39m=\u001b[39m\u001b[39mTrue\u001b[39;00m, X_idx_sorted\u001b[39m=\u001b[39m\u001b[39m\"\u001b[39m\u001b[39mdeprecated\u001b[39m\u001b[39m\"\u001b[39m\n\u001b[0;32m    901\u001b[0m ):\n\u001b[0;32m    902\u001b[0m     \u001b[39m\"\"\"Build a decision tree classifier from the training set (X, y).\u001b[39;00m\n\u001b[0;32m    903\u001b[0m \n\u001b[0;32m    904\u001b[0m \u001b[39m    Parameters\u001b[39;00m\n\u001b[1;32m   (...)\u001b[0m\n\u001b[0;32m    934\u001b[0m \u001b[39m        Fitted estimator.\u001b[39;00m\n\u001b[0;32m    935\u001b[0m \u001b[39m    \"\"\"\u001b[39;00m\n\u001b[1;32m--> 937\u001b[0m     \u001b[39msuper\u001b[39;49m()\u001b[39m.\u001b[39;49mfit(\n\u001b[0;32m    938\u001b[0m         X,\n\u001b[0;32m    939\u001b[0m         y,\n\u001b[0;32m    940\u001b[0m         sample_weight\u001b[39m=\u001b[39;49msample_weight,\n\u001b[0;32m    941\u001b[0m         check_input\u001b[39m=\u001b[39;49mcheck_input,\n\u001b[0;32m    942\u001b[0m         X_idx_sorted\u001b[39m=\u001b[39;49mX_idx_sorted,\n\u001b[0;32m    943\u001b[0m     )\n\u001b[0;32m    944\u001b[0m     \u001b[39mreturn\u001b[39;00m \u001b[39mself\u001b[39m\n",
            "File \u001b[1;32mc:\\Users\\LordFabi\\anaconda3\\lib\\site-packages\\sklearn\\tree\\_classes.py:420\u001b[0m, in \u001b[0;36mBaseDecisionTree.fit\u001b[1;34m(self, X, y, sample_weight, check_input, X_idx_sorted)\u001b[0m\n\u001b[0;32m    409\u001b[0m \u001b[39melse\u001b[39;00m:\n\u001b[0;32m    410\u001b[0m     builder \u001b[39m=\u001b[39m BestFirstTreeBuilder(\n\u001b[0;32m    411\u001b[0m         splitter,\n\u001b[0;32m    412\u001b[0m         min_samples_split,\n\u001b[1;32m   (...)\u001b[0m\n\u001b[0;32m    417\u001b[0m         \u001b[39mself\u001b[39m\u001b[39m.\u001b[39mmin_impurity_decrease,\n\u001b[0;32m    418\u001b[0m     )\n\u001b[1;32m--> 420\u001b[0m builder\u001b[39m.\u001b[39;49mbuild(\u001b[39mself\u001b[39;49m\u001b[39m.\u001b[39;49mtree_, X, y, sample_weight)\n\u001b[0;32m    422\u001b[0m \u001b[39mif\u001b[39;00m \u001b[39mself\u001b[39m\u001b[39m.\u001b[39mn_outputs_ \u001b[39m==\u001b[39m \u001b[39m1\u001b[39m \u001b[39mand\u001b[39;00m is_classifier(\u001b[39mself\u001b[39m):\n\u001b[0;32m    423\u001b[0m     \u001b[39mself\u001b[39m\u001b[39m.\u001b[39mn_classes_ \u001b[39m=\u001b[39m \u001b[39mself\u001b[39m\u001b[39m.\u001b[39mn_classes_[\u001b[39m0\u001b[39m]\n",
            "\u001b[1;31mKeyboardInterrupt\u001b[0m: "
          ]
        }
      ],
      "source": [
        "param_grid = [{\n",
        " \"n_estimators\":[1900,2000, 2100],\n",
        "    \"max_depth\": [19, 20, 21],\n",
        "    \"bootstrap\": [True]\n",
        "}]\n",
        "\n",
        "rf_cf = RandomForestClassifier(random_state=42)\n",
        "rs = GridSearchCV(rf_cf, param_grid=param_grid, scoring=\"roc_auc_ovr\", cv=10)\n",
        "rs.fit(X_train_f, y_train_f)\n",
        "best_rf = rs.best_params_\n",
        "print(best_rf)"
      ]
    },
    {
      "cell_type": "code",
      "execution_count": 47,
      "metadata": {},
      "outputs": [],
      "source": [
        "from sklearn.metrics import precision_score\n",
        "from sklearn.metrics import recall_score\n",
        "\n",
        "rf_cf_t = RandomForestClassifier(random_state=42, bootstrap = best_rf.get('bootstrap'), max_depth = best_rf.get('max_depth'), n_estimators =best_rf.get('n_estimators'), n_jobs= -1)\n",
        "rf_cf_t.fit(X_train_f, y_train_f)\n",
        "y_pred_f = rf_cf_t.predict_proba(X_train_f)[:,1]\n",
        "\n",
        "auc_train_f = roc_auc_score(y_train_f, y_pred_f)\n",
        "cv_res = cross_validate(estimator=rf_cf_t, X=X_train_f, y=y_train_f, cv=5, scoring='roc_auc_ovr', n_jobs=-1)\n",
        "auc_cv = cv_res[\"test_score\"].mean()\n",
        "\n",
        "y_pred_f_bin = rf_cf_t.predict(X_train_f)\n",
        "precision = precision_score(y_train_f, y_pred_f_bin)\n",
        "recall = recall_score(y_train_f, y_pred_f_bin)\n",
        "\n",
        "df_tuned.loc[len(df_tuned)] = [rf_cf_t, auc_train_f, auc_cv, precision, recall]"
      ]
    },
    {
      "cell_type": "markdown",
      "metadata": {},
      "source": [
        "### Decision Tree"
      ]
    },
    {
      "cell_type": "code",
      "execution_count": 57,
      "metadata": {},
      "outputs": [],
      "source": [
        "param_grid = [{\n",
        "    \"criterion\":[\"gini\", \"entropy\"],\n",
        "    \"max_depth\": [8, 9, 10, 11, 12],\n",
        "    \"min_samples_split\": [4,5,6,7],\n",
        "    \"min_samples_leaf\": [1,2,3,5]\n",
        "}]\n",
        "\n",
        "dt_cf = DecisionTreeClassifier(random_state=42)\n",
        "rs = RandomizedSearchCV(dt_cf, param_distributions=param_grid, scoring=\"roc_auc_ovr\", cv=10, n_iter = 5)\n",
        "rs.fit(X_train_f, y_train_f)\n",
        "best_dt = rs.best_params_\n",
        "best_dt\n"
      ]
    },
    {
      "cell_type": "code",
      "execution_count": 64,
      "metadata": {},
      "outputs": [
        {
          "name": "stdout",
          "output_type": "stream",
          "text": [
            "{'criterion': 'entropy', 'max_depth': 11, 'min_samples_leaf': 3, 'min_samples_split': 7}\n"
          ]
        }
      ],
      "source": [
        "param_grid = [{\n",
        "    \"criterion\":[\"gini\", \"entropy\"],\n",
        "    \"max_depth\": [8, 9, 10, 11, 12],\n",
        "    \"min_samples_split\": [4,5,6,7],\n",
        "    \"min_samples_leaf\": [1,2,3]\n",
        "}]\n",
        "\n",
        "dt_cf = DecisionTreeClassifier(random_state=42)\n",
        "rs = GridSearchCV(dt_cf, param_grid=param_grid, scoring=\"roc_auc_ovr\", cv=10)\n",
        "rs.fit(X_train_f, y_train_f)\n",
        "best_dt = rs.best_params_\n",
        "print(best_dt)"
      ]
    },
    {
      "cell_type": "code",
      "execution_count": null,
      "metadata": {},
      "outputs": [],
      "source": [
        "from sklearn.metrics import precision_score\n",
        "from sklearn.metrics import recall_score\n",
        "\n",
        "dt_cf_t = DecisionTreeClassifier(random_state=42, criterion=best_dt.get[\"criterion\"], max_depth = best_dt.get('max_depth'), \n",
        "min_samples_split=best_dt.get[\"min_samples_split\"], min_samples_leaf=best_dt.get[\"min_samples_leaf\"])\n",
        "dt_cf_t.fit(X_train_f, y_train_f)\n",
        "y_pred_f = dt_cf_t.predict_proba(X_train_f)[:,1]\n",
        "\n",
        "auc_train_f = roc_auc_score(y_train_f, y_pred_f)\n",
        "cv_res = cross_validate(estimator=dt_cf_t, X=X_train_f, y=y_train_f, cv=5, scoring='roc_auc_ovr', n_jobs=-1)\n",
        "auc_cv = cv_res[\"test_score\"].mean()\n",
        "\n",
        "y_pred_f_bin = dt_cf_t.predict(X_train_f)\n",
        "precision = precision_score(y_train_f, y_pred_f_bin)\n",
        "recall = recall_score(y_train_f, y_pred_f_bin)\n",
        "\n",
        "df_tuned.loc[len(df_tuned)] = [dt_cf_t, auc_train_f, auc_cv, precision, recall]"
      ]
    },
    {
      "cell_type": "markdown",
      "metadata": {},
      "source": [
        "### XGBoost"
      ]
    },
    {
      "cell_type": "code",
      "execution_count": 70,
      "metadata": {},
      "outputs": [
        {
          "name": "stderr",
          "output_type": "stream",
          "text": [
            "c:\\Users\\LordFabi\\anaconda3\\lib\\site-packages\\xgboost\\sklearn.py:1224: UserWarning: The use of label encoder in XGBClassifier is deprecated and will be removed in a future release. To remove this warning, do the following: 1) Pass option use_label_encoder=False when constructing XGBClassifier object; and 2) Encode your labels (y) as integers starting with 0, i.e. 0, 1, 2, ..., [num_class - 1].\n",
            "  warnings.warn(label_encoder_deprecation_msg, UserWarning)\n"
          ]
        }
      ],
      "source": [
        "param_grid = [{\n",
        "    \"eta\":[0.05, 0.75, 0.1, 0.125, 0.15],\n",
        "    \"max_depth\": [5, 6, 7, 8, 9],\n",
        "    \"min_child_weight\": [0.75, 1, 1,25]\n",
        "}]\n",
        "\n",
        "xg_cf_t= XGBClassifier(random_state=42, n_jobs= -1, eval_metric = 'auc')\n",
        "rs = RandomizedSearchCV(xg_cf_t, param_distributions=param_grid, scoring=\"roc_auc_ovr\", cv=5, n_jobs= -1, n_iter = 5)\n",
        "rs.fit(X_train_f, y_train_f)\n",
        "best_xg = rs.best_params_"
      ]
    },
    {
      "cell_type": "code",
      "execution_count": 73,
      "metadata": {},
      "outputs": [
        {
          "name": "stderr",
          "output_type": "stream",
          "text": [
            "c:\\Users\\LordFabi\\anaconda3\\lib\\site-packages\\xgboost\\sklearn.py:1224: UserWarning: The use of label encoder in XGBClassifier is deprecated and will be removed in a future release. To remove this warning, do the following: 1) Pass option use_label_encoder=False when constructing XGBClassifier object; and 2) Encode your labels (y) as integers starting with 0, i.e. 0, 1, 2, ..., [num_class - 1].\n",
            "  warnings.warn(label_encoder_deprecation_msg, UserWarning)\n"
          ]
        }
      ],
      "source": [
        "xgb_cf_t = XGBClassifier(nthread=-1,eta=best_xg.get('eta'), max_depth= best_xg.get('max_depth'), min_child_weight= best_xg.get('min_child_weight'), eval_metric = 'auc', n_jobs= -1)\n",
        "xgb_cf_t.fit(X_train_f, y_train_f)\n",
        "y_pred_f = xgb_cf_t.predict_proba(X_train_f)[:,1]\n",
        "auc_train = roc_auc_score(y_train_f, y_pred_f, multi_class='ovr')\n",
        "cv_res = cross_validate(estimator=xgb_cf_t, X=X_train_f, y=y_train_f, cv=5, scoring='roc_auc_ovr',  n_jobs= -1)\n",
        "auc_cv = cv_res[\"test_score\"].mean()\n",
        "\n",
        "y_pred_f_bin = xgb_cf_t.predict(X_train_f)\n",
        "precision = precision_score(y_train_f, y_pred_f_bin)\n",
        "recall = recall_score(y_train_f, y_pred_f_bin)\n",
        "\n",
        "df_tuned.loc[len(df_results)] = [xgb_cf_t, auc_train, auc_cv, precision, recall]"
      ]
    },
    {
      "cell_type": "markdown",
      "metadata": {},
      "source": [
        "### Support Vector Machine"
      ]
    },
    {
      "cell_type": "code",
      "execution_count": 27,
      "metadata": {},
      "outputs": [
        {
          "data": {
            "text/plain": [
              "'param_grid = [{\\n    \"kernel\":[\\'poly\\', \\'rbf\\', \\'sigmoid\\', \\'precomputed\\'],\\n    \"coef0\": [0.1, 0.5, 2],\\n    \"shrinking\": [True, False]\\n}]\\n\\nsvm_cf = SVC(probability=True,cache_size= 1000)\\nrs = RandomizedSearchCV(svm_cf, param_distributions=param_grid, scoring=\"roc_auc_ovr\", cv=5, n_jobs= -1, n_iter = 5)\\nrs.fit(X_train_f, y_train_f)\\nbest = rs.best_params_'"
            ]
          },
          "execution_count": 27,
          "metadata": {},
          "output_type": "execute_result"
        }
      ],
      "source": [
        "'''param_grid = [{\n",
        "    \"kernel\":['poly', 'rbf', 'sigmoid', 'precomputed'],\n",
        "    \"coef0\": [0.1, 0.5, 2],\n",
        "    \"shrinking\": [True, False]\n",
        "}]\n",
        "\n",
        "svm_cf = SVC(probability=True,cache_size= 1000)\n",
        "rs = RandomizedSearchCV(svm_cf, param_distributions=param_grid, scoring=\"roc_auc_ovr\", cv=5, n_jobs= -1, n_iter = 5)\n",
        "rs.fit(X_train_f, y_train_f)\n",
        "best = rs.best_params_'''"
      ]
    },
    {
      "cell_type": "code",
      "execution_count": 26,
      "metadata": {},
      "outputs": [
        {
          "data": {
            "text/plain": [
              "'svm_cf = SVC(probability=True,cache_size= 1000, kernel=best.get(\\'kernel\\'), coef0=best.get(\\'coef0\\'), shrinking=best.get(\\'shrinking\\'))\\nsvm_cf.fit(X_train_f, y_train_f)\\ny_pred_f = svm_cf.predict_proba(X_train_f)[:,1]\\nauc_train = roc_auc_score(y_train_f, y_pred_f)\\ncv_res = cross_validate(estimator=svm_cf, X=X_train_f, y=y_train_f, cv=5, scoring=\\'roc_auc_ovr\\', n_jobs=-1)\\nauc_cv = cv_res[\"test_score\"].mean()\\ndf_tuned.loc[len(df_results)] = [svm_cf, auc_train, auc_cv]'"
            ]
          },
          "execution_count": 26,
          "metadata": {},
          "output_type": "execute_result"
        }
      ],
      "source": [
        "'''svm_cf = SVC(probability=True,cache_size= 1000, kernel=best.get('kernel'), coef0=best.get('coef0'), shrinking=best.get('shrinking'))\n",
        "svm_cf.fit(X_train_f, y_train_f)\n",
        "y_pred_f = svm_cf.predict_proba(X_train_f)[:,1]\n",
        "auc_train = roc_auc_score(y_train_f, y_pred_f)\n",
        "cv_res = cross_validate(estimator=svm_cf, X=X_train_f, y=y_train_f, cv=5, scoring='roc_auc_ovr', n_jobs=-1)\n",
        "auc_cv = cv_res[\"test_score\"].mean()\n",
        "\n",
        "y_pred_f_bin = svm_cf.predict(X_train_f)\n",
        "precision = precision_score(y_train_f, y_pred_f_bin)\n",
        "recall = recall_score(y_train_f, y_pred_f_bin)\n",
        "\n",
        "df_tuned.loc[len(df_results)] = [svm_cf, auc_train, auc_cv, precision, recall]'''\n"
      ]
    },
    {
      "cell_type": "code",
      "execution_count": 100,
      "metadata": {},
      "outputs": [
        {
          "data": {
            "text/html": [
              "<div>\n",
              "<style scoped>\n",
              "    .dataframe tbody tr th:only-of-type {\n",
              "        vertical-align: middle;\n",
              "    }\n",
              "\n",
              "    .dataframe tbody tr th {\n",
              "        vertical-align: top;\n",
              "    }\n",
              "\n",
              "    .dataframe thead th {\n",
              "        text-align: right;\n",
              "    }\n",
              "</style>\n",
              "<table border=\"1\" class=\"dataframe\">\n",
              "  <thead>\n",
              "    <tr style=\"text-align: right;\">\n",
              "      <th></th>\n",
              "      <th>Model</th>\n",
              "      <th>AUC Train</th>\n",
              "      <th>AUC CV</th>\n",
              "      <th>Precision</th>\n",
              "      <th>Recall</th>\n",
              "    </tr>\n",
              "  </thead>\n",
              "  <tbody>\n",
              "    <tr>\n",
              "      <th>0</th>\n",
              "      <td>(DecisionTreeClassifier(max_depth=15, max_feat...</td>\n",
              "      <td>0.978130</td>\n",
              "      <td>0.940178</td>\n",
              "      <td>0.898105</td>\n",
              "      <td>0.979237</td>\n",
              "    </tr>\n",
              "    <tr>\n",
              "      <th>8</th>\n",
              "      <td>XGBClassifier(base_score=0.5, booster='gbtree'...</td>\n",
              "      <td>0.970193</td>\n",
              "      <td>0.945753</td>\n",
              "      <td>0.896865</td>\n",
              "      <td>0.955713</td>\n",
              "    </tr>\n",
              "  </tbody>\n",
              "</table>\n",
              "</div>"
            ],
            "text/plain": [
              "                                               Model  AUC Train    AUC CV  \\\n",
              "0  (DecisionTreeClassifier(max_depth=15, max_feat...   0.978130  0.940178   \n",
              "8  XGBClassifier(base_score=0.5, booster='gbtree'...   0.970193  0.945753   \n",
              "\n",
              "   Precision    Recall  \n",
              "0   0.898105  0.979237  \n",
              "8   0.896865  0.955713  "
            ]
          },
          "metadata": {},
          "output_type": "display_data"
        },
        {
          "data": {
            "text/html": [
              "<div>\n",
              "<style scoped>\n",
              "    .dataframe tbody tr th:only-of-type {\n",
              "        vertical-align: middle;\n",
              "    }\n",
              "\n",
              "    .dataframe tbody tr th {\n",
              "        vertical-align: top;\n",
              "    }\n",
              "\n",
              "    .dataframe thead th {\n",
              "        text-align: right;\n",
              "    }\n",
              "</style>\n",
              "<table border=\"1\" class=\"dataframe\">\n",
              "  <thead>\n",
              "    <tr style=\"text-align: right;\">\n",
              "      <th></th>\n",
              "      <th>Model</th>\n",
              "      <th>AUC Train</th>\n",
              "      <th>AUC CV</th>\n",
              "      <th>Precsion</th>\n",
              "      <th>Recall</th>\n",
              "    </tr>\n",
              "  </thead>\n",
              "  <tbody>\n",
              "    <tr>\n",
              "      <th>0</th>\n",
              "      <td>LogisticRegression(class_weight='balanced', ma...</td>\n",
              "      <td>0.922693</td>\n",
              "      <td>0.921730</td>\n",
              "      <td>0.880085</td>\n",
              "      <td>0.870333</td>\n",
              "    </tr>\n",
              "    <tr>\n",
              "      <th>1</th>\n",
              "      <td>DecisionTreeClassifier()</td>\n",
              "      <td>1.000000</td>\n",
              "      <td>0.921730</td>\n",
              "      <td>1.000000</td>\n",
              "      <td>1.000000</td>\n",
              "    </tr>\n",
              "    <tr>\n",
              "      <th>2</th>\n",
              "      <td>Random Forest</td>\n",
              "      <td>1.000000</td>\n",
              "      <td>0.933843</td>\n",
              "      <td>0.999967</td>\n",
              "      <td>1.000000</td>\n",
              "    </tr>\n",
              "    <tr>\n",
              "      <th>3</th>\n",
              "      <td>xgBoost</td>\n",
              "      <td>0.969466</td>\n",
              "      <td>0.945306</td>\n",
              "      <td>0.896865</td>\n",
              "      <td>0.955713</td>\n",
              "    </tr>\n",
              "  </tbody>\n",
              "</table>\n",
              "</div>"
            ],
            "text/plain": [
              "                                               Model  AUC Train    AUC CV  \\\n",
              "0  LogisticRegression(class_weight='balanced', ma...   0.922693  0.921730   \n",
              "1                           DecisionTreeClassifier()   1.000000  0.921730   \n",
              "2                                      Random Forest   1.000000  0.933843   \n",
              "3                                            xgBoost   0.969466  0.945306   \n",
              "\n",
              "   Precsion    Recall  \n",
              "0  0.880085  0.870333  \n",
              "1  1.000000  1.000000  \n",
              "2  0.999967  1.000000  \n",
              "3  0.896865  0.955713  "
            ]
          },
          "metadata": {},
          "output_type": "display_data"
        }
      ],
      "source": [
        "display(df_tuned)\n",
        "display(df_results)\n"
      ]
    },
    {
      "cell_type": "markdown",
      "metadata": {},
      "source": [
        "# Evaluation"
      ]
    },
    {
      "cell_type": "code",
      "execution_count": 40,
      "metadata": {},
      "outputs": [],
      "source": [
        "\n",
        "X_test = col_trans.transform(X=df_test)"
      ]
    },
    {
      "cell_type": "code",
      "execution_count": 42,
      "metadata": {},
      "outputs": [],
      "source": [
        "df_act_pred = pd.DataFrame(data=[], columns=[\"Model\", \"Actuals\", \"Predicted\"])\n",
        "\n"
      ]
    },
    {
      "cell_type": "code",
      "execution_count": 43,
      "metadata": {},
      "outputs": [
        {
          "name": "stdout",
          "output_type": "stream",
          "text": [
            "              precision    recall  f1-score   support\n",
            "\n",
            "           0       0.81      0.71      0.76      3364\n",
            "           1       0.83      0.90      0.86      5266\n",
            "\n",
            "    accuracy                           0.82      8630\n",
            "   macro avg       0.82      0.80      0.81      8630\n",
            "weighted avg       0.82      0.82      0.82      8630\n",
            "\n"
          ]
        },
        {
          "data": {
            "text/plain": [
              "<matplotlib.legend.Legend at 0x28dcb9013a0>"
            ]
          },
          "execution_count": 43,
          "metadata": {},
          "output_type": "execute_result"
        },
        {
          "data": {
            "image/png": "[encoded data removed]",
            "text/plain": [
              "<Figure size 432x288 with 1 Axes>"
            ]
          },
          "metadata": {
            "needs_background": "light"
          },
          "output_type": "display_data"
        }
      ],
      "source": [
        "plt.figure(0).clf()\n",
        "#Untuned XGB\n",
        "y_pred_f = xgb_cf.predict_proba(X_test)[:,1]\n",
        "y_pred_f_bin = xgb_cf.predict(X_test)\n",
        "fpr, tpr, thresh = metrics.roc_curve(y_test_f, y_pred_f)\n",
        "auc = metrics.roc_auc_score(y_test_f, y_pred_f)\n",
        "\n",
        "plt.plot(fpr,tpr,label=\"XG Boost default, auc=\"+str(auc))\n",
        "\n",
        "df_act_pred.loc[len(df_act_pred)] = [\"XG Boost default\", y_test_f, y_pred_f_bin]\n",
        "\n",
        "print(classification_report(y_test_f, y_pred_f_bin))\n",
        "\n",
        "'''#Tuned XGB\n",
        "y_pred_f = xgb_cf_t.predict_proba(X_test)[:,1]\n",
        "y_pred_f_bin = xgb_cf_t.predict(X_test)\n",
        "fpr, tpr, thresh = metrics.roc_curve(y_test_f, y_pred_f)\n",
        "auc = metrics.roc_auc_score(y_test_f, y_pred_f)'''\n",
        "\n",
        "plt.plot(fpr,tpr,label=\"XG Boost tuned, auc=\"+str(auc))\n",
        "\n",
        "df_act_pred.loc[len(df_act_pred)] = [\"XG Boost tuned\", y_test_f, y_pred_f_bin]\n",
        "\n",
        "#Untuned Log Reg\n",
        "y_pred_f = lr_cf.predict_proba(X_test)[:,1]\n",
        "y_pred_f_bin = lr_cf.predict(X_test)\n",
        "fpr, tpr, thresh = metrics.roc_curve(y_test_f, y_pred_f)\n",
        "auc = metrics.roc_auc_score(y_test_f, y_pred_f)\n",
        "plt.plot(fpr,tpr,label=\"Log Reg, auc=\"+str(auc))\n",
        "\n",
        "df_act_pred.loc[len(df_act_pred)] = [\"Logistic Regression default\", y_test_f, y_pred_f_bin]\n",
        "\n",
        "#Untuned Decision Tree\n",
        "y_pred_f = dt_cf.predict_proba(X_test)[:,1]\n",
        "y_pred_f_bin = dt_cf.predict(X_test)\n",
        "fpr, tpr, thresh = metrics.roc_curve(y_test_f, y_pred_f)\n",
        "auc = metrics.roc_auc_score(y_test_f, y_pred_f)\n",
        "plt.plot(fpr,tpr,label=\"Log Reg, auc=\"+str(auc))\n",
        "\n",
        "df_act_pred.loc[len(df_act_pred)] = [\"Decision Tree Default\", y_test_f, y_pred_f_bin]\n",
        "\n",
        "plt.legend(loc=0)"
      ]
    },
    {
      "cell_type": "code",
      "execution_count": 44,
      "metadata": {},
      "outputs": [
        {
          "ename": "IndexError",
          "evalue": "index 3 is out of bounds for axis 0 with size 3",
          "output_type": "error",
          "traceback": [
            "\u001b[1;31m---------------------------------------------------------------------------\u001b[0m",
            "\u001b[1;31mIndexError\u001b[0m                                Traceback (most recent call last)",
            "\u001b[1;32mc:\\Users\\LordFabi\\OneDrive\\Dokumente\\Vorlesungen\\DHBW ML Project\\dep_pump_project\\Prediction_Model _1.ipynb Zelle 57\u001b[0m in \u001b[0;36m<cell line: 2>\u001b[1;34m()\u001b[0m\n\u001b[0;32m      <a href='vscode-notebook-cell:/c%3A/Users/LordFabi/OneDrive/Dokumente/Vorlesungen/DHBW%20ML%20Project/dep_pump_project/Prediction_Model%20_1.ipynb#Y110sZmlsZQ%3D%3D?line=5'>6</a>\u001b[0m     confusion_matrix \u001b[39m=\u001b[39m metrics\u001b[39m.\u001b[39mconfusion_matrix(y_test_f, y_pred_f_bin)\n\u001b[0;32m      <a href='vscode-notebook-cell:/c%3A/Users/LordFabi/OneDrive/Dokumente/Vorlesungen/DHBW%20ML%20Project/dep_pump_project/Prediction_Model%20_1.ipynb#Y110sZmlsZQ%3D%3D?line=7'>8</a>\u001b[0m     cm_display \u001b[39m=\u001b[39m metrics\u001b[39m.\u001b[39mConfusionMatrixDisplay(confusion_matrix \u001b[39m=\u001b[39m confusion_matrix, display_labels \u001b[39m=\u001b[39m [\u001b[39mFalse\u001b[39;00m, \u001b[39mTrue\u001b[39;00m])\n\u001b[1;32m----> <a href='vscode-notebook-cell:/c%3A/Users/LordFabi/OneDrive/Dokumente/Vorlesungen/DHBW%20ML%20Project/dep_pump_project/Prediction_Model%20_1.ipynb#Y110sZmlsZQ%3D%3D?line=8'>9</a>\u001b[0m     cm_display\u001b[39m.\u001b[39mplot(ax \u001b[39m=\u001b[39m axes[i])\n\u001b[0;32m     <a href='vscode-notebook-cell:/c%3A/Users/LordFabi/OneDrive/Dokumente/Vorlesungen/DHBW%20ML%20Project/dep_pump_project/Prediction_Model%20_1.ipynb#Y110sZmlsZQ%3D%3D?line=9'>10</a>\u001b[0m     cm_display\u001b[39m.\u001b[39max_\u001b[39m.\u001b[39mset_title(row[\u001b[39m'\u001b[39m\u001b[39mModel\u001b[39m\u001b[39m'\u001b[39m])\n\u001b[0;32m     <a href='vscode-notebook-cell:/c%3A/Users/LordFabi/OneDrive/Dokumente/Vorlesungen/DHBW%20ML%20Project/dep_pump_project/Prediction_Model%20_1.ipynb#Y110sZmlsZQ%3D%3D?line=10'>11</a>\u001b[0m plt\u001b[39m.\u001b[39mfigure(figsize\u001b[39m=\u001b[39m(\u001b[39m9\u001b[39m, \u001b[39m3\u001b[39m))\n",
            "\u001b[1;31mIndexError\u001b[0m: index 3 is out of bounds for axis 0 with size 3"
          ]
        },
        {
          "data": {
            "image/png": "[encoded data removed]",
            "text/plain": [
              "<Figure size 1080x216 with 6 Axes>"
            ]
          },
          "metadata": {
            "needs_background": "light"
          },
          "output_type": "display_data"
        }
      ],
      "source": [
        "fig, axes = plt.subplots(nrows = 1, ncols = 3, figsize=(15,3))\n",
        "for i, row in df_act_pred.iterrows():\n",
        "    y_test_f = row['Actuals']\n",
        "    y_pred_f_bin = row['Predicted']\n",
        "    \n",
        "    confusion_matrix = metrics.confusion_matrix(y_test_f, y_pred_f_bin)\n",
        "\n",
        "    cm_display = metrics.ConfusionMatrixDisplay(confusion_matrix = confusion_matrix, display_labels = [False, True])\n",
        "    cm_display.plot(ax = axes[i])\n",
        "    cm_display.ax_.set_title(row['Model'])\n",
        "plt.figure(figsize=(9, 3))"
      ]
    },
    {
      "cell_type": "code",
      "execution_count": null,
      "metadata": {},
      "outputs": [],
      "source": []
    }
  ],
  "metadata": {
    "colab": {
      "collapsed_sections": [
        "s9QK4M6bJG1C",
        "ipC-gfzyJG1f",
        "d9ImwcSDJG1f",
        "Cmef2rTsJG1h",
        "JyW8WC6hJG1j",
        "cJsudcKNJG1k",
        "etBpNARcJG1n",
        "WjosGzqvJG1p",
        "ZGbcckpOJG1q",
        "3O54UikJJG1r",
        "3Mrr3I-xJG1s",
        "h7AYHaeVJG1y",
        "4WH76QW9JG1z",
        "NlH2VvAuJG11"
      ],
      "name": "project2.ipynb",
      "provenance": []
    },
    "kernelspec": {
      "display_name": "Python 3.9.12 ('base')",
      "language": "python",
      "name": "python3"
    },
    "language_info": {
      "codemirror_mode": {
        "name": "ipython",
        "version": 3
      },
      "file_extension": ".py",
      "mimetype": "text/x-python",
      "name": "python",
      "nbconvert_exporter": "python",
      "pygments_lexer": "ipython3",
      "version": "3.9.12"
    },
    "vscode": {
      "interpreter": {
        "hash": "ae5b8d1165bd0e4ae79130fd603fdb66d8f280248725c14474f685f8a58f3aaa"
      }
    }
  },
  "nbformat": 4,
  "nbformat_minor": 0
}
