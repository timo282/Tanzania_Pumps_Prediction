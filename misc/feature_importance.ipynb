{
  "cells": [
    {
      "cell_type": "markdown",
      "metadata": {
        "id": "DhW1RO3DJG05"
      },
      "source": [
        "# Data Exploration Project - Pumps"
      ]
    },
    {
      "cell_type": "markdown",
      "metadata": {
        "id": "3mqm_gVtJG1B"
      },
      "source": [
        "## Business Understanding\n",
        "\n",
        "Daten über verschiedene Brunnen in einem afrikanischen Land.\n",
        "\n",
        "**Können wir vorhersagen welche Brunnen defekt, wartungsbedürftig oder voll funktional sind?**"
      ]
    },
    {
      "cell_type": "markdown",
      "metadata": {
        "id": "s9QK4M6bJG1C"
      },
      "source": [
        "## Data Understanding"
      ]
    },
    {
      "cell_type": "code",
      "execution_count": 2,
      "metadata": {
        "colab": {
          "base_uri": "https://localhost:8080/"
        },
        "id": "ZxThrpAOJG1D",
        "outputId": "813156a8-80e8-4e76-b55b-7c5b99168ff9"
      },
      "outputs": [],
      "source": [
        "import pandas as pd\n",
        "import matplotlib.pyplot as plt \n",
        "import seaborn as sns\n",
        "import numpy as np\n",
        "from category_encoders import TargetEncoder, BinaryEncoder\n",
        "from sklearn.pipeline import Pipeline, make_pipeline\n",
        "from sklearn.preprocessing import OrdinalEncoder, LabelEncoder, StandardScaler, OneHotEncoder, MinMaxScaler\n",
        "from sklearn.impute import SimpleImputer\n",
        "from sklearn.compose import ColumnTransformer\n",
        "from sklearn.base import BaseEstimator, TransformerMixin\n",
        "from sklearn.tree import DecisionTreeClassifier\n",
        "from sklearn.model_selection import cross_validate"
      ]
    },
    {
      "cell_type": "markdown",
      "metadata": {
        "id": "1rejyUeKJG1F"
      },
      "source": [
        "Einlesen der Trainings- und Testdaten."
      ]
    },
    {
      "cell_type": "code",
      "execution_count": 3,
      "metadata": {
        "id": "NWpTu_GUJG1H"
      },
      "outputs": [],
      "source": [
        "df_pump_train = pd.read_csv('pump_train.csv')\n",
        "df_pump_test = pd.read_csv('pump_test.csv')"
      ]
    },
    {
      "cell_type": "markdown",
      "metadata": {
        "id": "GYb79TGsJG1K"
      },
      "source": [
        "### Data Dictionary\n",
        "| Variable | Beschreibung |\n",
        "| -------- | ------------ |\n",
        "| amount_tsh | Total static head (amount water available to waterpoint) |\n",
        "| date_recorded | The date the row was entered |\n",
        "| funder | Who funded the well |\n",
        "| gps_height | Altitude of the well |\n",
        "| installer | Organization that installed the well |\n",
        "| longitude | GPS coordinate |\n",
        "| latitude | GPS coordinate |\n",
        "| wpt_name | Name of the waterpoint if there is one |\n",
        "| num_private | ? |\n",
        "| basin | Geographic water basin |\n",
        "| subvillage | Geographic location |\n",
        "| region | Geographic location |\n",
        "| region_code | Geographic location (coded) |\n",
        "| district_code | Geographic location (coded) |\n",
        "| lga | Geographic location |\n",
        "| ward | Geographic location |\n",
        "| population | Population around the well |\n",
        "| public_meeting | True/False |\n",
        "| recorded_by | Group entering this row of data \n",
        "| scheme_management | Who operates the waterpoint |\n",
        "| scheme_name | Who operates the waterpoint |\n",
        "| permit | If the waterpoint is permitted |\n",
        "| construction_year | Year the waterpoint was constructed \n",
        "| extraction_type | The kind of extraction the waterpoint uses \n",
        "| extraction_type_group | The kind of extraction the waterpoint uses |\n",
        "| extraction_type_class | The kind of extraction the waterpoint uses \n",
        "| management | How the waterpoint is managed |\n",
        "| management_group | How the waterpoint is managed |\n",
        "| payment | What the water costs |\n",
        "| payment_type | What the water costs |\n",
        "| water_quality | The quality of the water |\n",
        "| quality_group | The quality of the water |\n",
        "| quantity | The quantity of water |\n",
        "| quantity_group | The quantity of water |\n",
        "| source | The source of the water |\n",
        "| source_type | The source of the water |\n",
        "| source_class | The source of the water |\n",
        "| waterpoint_type | The kind of waterpoint |\n",
        "| waterpoint_type_group | The kind of waterpoint |\n",
        "| status_group | functional or non-functional or functional needs repair |"
      ]
    },
    {
      "cell_type": "markdown",
      "metadata": {
        "id": "vzPQZEd8JG1N"
      },
      "source": [
        "### Data Analysis"
      ]
    },
    {
      "cell_type": "markdown",
      "metadata": {
        "id": "8In45gg4JG1f"
      },
      "source": [
        "## Data Preparation"
      ]
    },
    {
      "cell_type": "markdown",
      "metadata": {
        "id": "NlH2VvAuJG11"
      },
      "source": [
        "## Pipeline"
      ]
    },
    {
      "cell_type": "markdown",
      "metadata": {
        "id": "EPAKPAhiJG11"
      },
      "source": [
        "[Categoric Encoder Package ->](https://contrib.scikit-learn.org/category_encoders/index.html)"
      ]
    },
    {
      "cell_type": "code",
      "execution_count": 6,
      "metadata": {},
      "outputs": [],
      "source": [
        "class YesNoEncoder(BaseEstimator, TransformerMixin):\n",
        "    def __init__(self, add_column = True):\n",
        "        self.add_column = add_column\n",
        "    \n",
        "    def fit(self, X, y=None):\n",
        "        return self\n",
        "    \n",
        "    def transform(self, X, y=None):\n",
        "        if self.add_column:\n",
        "            has_name = np.where(X['wpt_name']!= 'none', 1, 0)\n",
        "            Xcopy = X\n",
        "            Xcopy['wpt_name'] = has_name\n",
        "        return Xcopy"
      ]
    },
    {
      "cell_type": "code",
      "execution_count": 7,
      "metadata": {},
      "outputs": [],
      "source": [
        "class MyImputer(BaseEstimator, TransformerMixin):\n",
        "    def __init__(self, fill_value=\"other\"):\n",
        "        self.fill_value = fill_value\n",
        "        return None\n",
        "    \n",
        "    def fit(self, X, y=None):\n",
        "        return self\n",
        "    \n",
        "    def transform(self, X, y=None):\n",
        "        return np.array([self.fill_value if str(x)==str(np.nan) else x for x in X]).reshape(-1,1)"
      ]
    },
    {
      "cell_type": "code",
      "execution_count": 8,
      "metadata": {},
      "outputs": [],
      "source": [
        "scheme_pipeline = Pipeline([\n",
        "('imputer', MyImputer(fill_value=\"other\")),\n",
        "('one_hot', OneHotEncoder())\n",
        "])"
      ]
    },
    {
      "cell_type": "code",
      "execution_count": 9,
      "metadata": {},
      "outputs": [],
      "source": [
        "scheme_pipeline_lbl = Pipeline([\n",
        "    ('imputer', MyImputer(fill_value=\"other\")),\n",
        "    ('ord_enc', OrdinalEncoder()),\n",
        "    ('min_max', MinMaxScaler())\n",
        "])"
      ]
    },
    {
      "cell_type": "code",
      "execution_count": 10,
      "metadata": {},
      "outputs": [],
      "source": [
        "class YearAdder(BaseEstimator, TransformerMixin):\n",
        "    def __init__(self):\n",
        "        return None\n",
        "    \n",
        "    def fit(self, X, y=None):\n",
        "        return self\n",
        "    \n",
        "    def transform(self, X, y=None):\n",
        "        date_column = pd.Series(X)\n",
        "        return np.array(pd.DatetimeIndex(date_column).year).reshape(-1,1)\n",
        "        "
      ]
    },
    {
      "cell_type": "code",
      "execution_count": 11,
      "metadata": {},
      "outputs": [],
      "source": [
        "year_pipeline = Pipeline([\n",
        "    (\"add_year\", YearAdder()),\n",
        "    #(\"ord_enc\", OrdinalEncoder(handle_unknown='use_encoded_value', unknown_value=-1)),\n",
        "    (\"scale\", MinMaxScaler())\n",
        "])"
      ]
    },
    {
      "cell_type": "code",
      "execution_count": 12,
      "metadata": {},
      "outputs": [],
      "source": [
        "class AmountPerCapitaAdder(BaseEstimator, TransformerMixin):\n",
        "    def __init__(self):\n",
        "        return None\n",
        "    \n",
        "    def fit(self, X, y=None):\n",
        "        return self\n",
        "    \n",
        "    def transform(self, X, y=None):\n",
        "        date_column = pd.Series(X)\n",
        "        return np.array(pd.DatetimeIndex(date_column).year).reshape(-1,1)"
      ]
    },
    {
      "cell_type": "code",
      "execution_count": 13,
      "metadata": {},
      "outputs": [],
      "source": [
        "age_pipeline = Pipeline([\n",
        "    (\"imp_age\", SimpleImputer(strategy=\"median\")),\n",
        "    (\"scale\", MinMaxScaler())\n",
        "])"
      ]
    },
    {
      "cell_type": "code",
      "execution_count": 14,
      "metadata": {},
      "outputs": [
        {
          "name": "stderr",
          "output_type": "stream",
          "text": [
            "/Users/hammerer/opt/anaconda3/lib/python3.9/site-packages/category_encoders/target_encoder.py:92: FutureWarning: Default parameter min_samples_leaf will change in version 2.6.See https://github.com/scikit-learn-contrib/category_encoders/issues/327\n",
            "  warnings.warn(\"Default parameter min_samples_leaf will change in version 2.6.\"\n",
            "/Users/hammerer/opt/anaconda3/lib/python3.9/site-packages/category_encoders/target_encoder.py:97: FutureWarning: Default parameter smoothing will change in version 2.6.See https://github.com/scikit-learn-contrib/category_encoders/issues/327\n",
            "  warnings.warn(\"Default parameter smoothing will change in version 2.6.\"\n"
          ]
        }
      ],
      "source": [
        "col_imp = Pipeline([\n",
        "    ('simp_inputer', SimpleImputer(strategy='constant', fill_value='Unknown')),\n",
        "    ('target_enc', TargetEncoder()),\n",
        "    ('min_max', MinMaxScaler())\n",
        "])"
      ]
    },
    {
      "cell_type": "code",
      "execution_count": 15,
      "metadata": {},
      "outputs": [],
      "source": [
        "target_enc_pipe = Pipeline([\n",
        "    ('target_enc', TargetEncoder()),\n",
        "    ('min_max', MinMaxScaler())\n",
        "])"
      ]
    },
    {
      "cell_type": "code",
      "execution_count": 16,
      "metadata": {},
      "outputs": [],
      "source": [
        "ord_enc_pipe = Pipeline([\n",
        "    ('ord_enc', OrdinalEncoder()),\n",
        "    ('min_max', MinMaxScaler())\n",
        "])"
      ]
    },
    {
      "cell_type": "code",
      "execution_count": 136,
      "metadata": {
        "colab": {
          "base_uri": "https://localhost:8080/",
          "height": 947
        },
        "id": "uO_zmkM9JG11",
        "outputId": "c2aab073-68d9-41e7-fa7e-49605825c5cf"
      },
      "outputs": [
        {
          "name": "stderr",
          "output_type": "stream",
          "text": [
            "/var/folders/m1/lfnpxhr54w36gr2xljxbctrh0000gn/T/ipykernel_39152/1718646054.py:15: SettingWithCopyWarning: \n",
            "A value is trying to be set on a copy of a slice from a DataFrame\n",
            "\n",
            "See the caveats in the documentation: https://pandas.pydata.org/pandas-docs/stable/user_guide/indexing.html#returning-a-view-versus-a-copy\n",
            "  df_train[\"age\"].loc[df_train[\"construction_year\"]!=0]=df_train[\"age\"].loc[df_train[\"construction_year\"]!=0].apply(lambda x: x.days)\n",
            "/var/folders/m1/lfnpxhr54w36gr2xljxbctrh0000gn/T/ipykernel_39152/1718646054.py:16: SettingWithCopyWarning: \n",
            "A value is trying to be set on a copy of a slice from a DataFrame\n",
            "\n",
            "See the caveats in the documentation: https://pandas.pydata.org/pandas-docs/stable/user_guide/indexing.html#returning-a-view-versus-a-copy\n",
            "  df_train[\"age\"].loc[df_train[\"construction_year\"]==0]=np.nan\n"
          ]
        }
      ],
      "source": [
        "df_train = df_pump_train.copy()\n",
        "\n",
        "# add new target variables\n",
        "\n",
        "df_train[\"t_functional\"] = df_train[\"status_group\"].apply(lambda x: 0 if x==\"non functional\" else 1)\n",
        "df_train[\"t_needs_rep\"] = df_train[\"status_group\"].apply(lambda x: 1 if x==\"functional needs repair\" else 0)\n",
        "\n",
        "# drop outliers\n",
        "df_train = df_train.drop(df_train[df_train.longitude == 0].index)\n",
        "\n",
        "# add some new features manually\n",
        "df_train[\"amount_per_capita\"] = df_train.apply(lambda x: x[\"amount_tsh\"]/x[\"population\"] if x[\"population\"] != 0 else 0, axis=1)\n",
        "import datetime\n",
        "df_train[\"age\"]=df_train['date_recorded'].apply(lambda x: datetime.datetime.strptime(x,'%Y-%m-%d'))-df_train[\"construction_year\"].apply(lambda x: datetime.datetime.strptime(str(x),'%Y') if x!=0 else datetime.datetime.now())\n",
        "df_train[\"age\"].loc[df_train[\"construction_year\"]!=0]=df_train[\"age\"].loc[df_train[\"construction_year\"]!=0].apply(lambda x: x.days)\n",
        "df_train[\"age\"].loc[df_train[\"construction_year\"]==0]=np.nan\n",
        "\n",
        "# transform dtypes manually\n",
        "df_train[\"district_code\"] = df_train[\"district_code\"].astype(\"category\")\n",
        "df_train[\"region_code\"] = df_train[\"region_code\"].astype(\"category\")\n",
        "\n",
        "y_train = df_train.loc[:,'status_group']\n",
        "le = LabelEncoder()\n",
        "y_train = le.fit_transform(y_train)\n",
        "\n",
        "y_train_f = df_train[\"t_functional\"]\n",
        "y_train_r = df_train[\"t_needs_rep\"]\n",
        "\n",
        "col_trans = ColumnTransformer(transformers=[\n",
        "    ['col_imp', col_imp, ['funder', 'installer', 'subvillage']],\n",
        "    ['target_enc', target_enc_pipe, ['lga', 'ward', 'management']],\n",
        "    ['oh_enc', OneHotEncoder(), ['basin', 'payment','water_quality', 'quantity','source','waterpoint_type', 'extraction_type_class']],\n",
        "    ['bin_enc', BinaryEncoder(), ['region', 'region_code', 'district_code']], # warum alle 3 ?\n",
        "    ['cust_trans', YesNoEncoder(), ['wpt_name']],\n",
        "    [\"num\", MinMaxScaler(), [\"amount_tsh\", \"population\", \"amount_per_capita\", 'gps_height', 'longitude', 'latitude']],\n",
        "    [\"scheme\", scheme_pipeline, \"scheme_management\"],\n",
        "    [\"year\",  year_pipeline, \"date_recorded\"]\n",
        "], remainder='drop')\n",
        "\n",
        "col_trans_lbl = ColumnTransformer(transformers=[\n",
        "    ['col_imp', col_imp, ['funder', 'installer', 'subvillage']],\n",
        "    ['target_enc', target_enc_pipe, ['lga', 'ward', 'management']],\n",
        "    ['ord_enc', ord_enc_pipe, ['basin', 'payment','water_quality', 'quantity','source','waterpoint_type', 'extraction_type_class', 'region', 'region_code', 'district_code']],\n",
        "    ['cust_trans', YesNoEncoder(), ['wpt_name']],\n",
        "    [\"num\", MinMaxScaler(), [\"amount_tsh\", \"population\", \"amount_per_capita\", 'gps_height', 'longitude', 'latitude']],\n",
        "    [\"scheme\", scheme_pipeline_lbl, \"scheme_management\"],\n",
        "    [\"year\",  year_pipeline, \"date_recorded\"]\n",
        "], remainder='drop')\n",
        "\n",
        "col_trans_w_age = ColumnTransformer(transformers=[\n",
        "    ['col_imp', col_imp, ['funder', 'installer', 'subvillage']],\n",
        "    ['target_enc', target_enc_pipe, ['lga', 'ward', 'management']],\n",
        "    ['oh_enc', OneHotEncoder(), ['basin', 'payment','water_quality', 'quantity','source','waterpoint_type', 'extraction_type_class']],\n",
        "    ['bin_enc', BinaryEncoder(), ['region', 'region_code', 'district_code']], # warum alle 3 ?\n",
        "    ['cust_trans', YesNoEncoder(), ['wpt_name']],\n",
        "    [\"num\", MinMaxScaler(), [\"amount_tsh\", \"population\", \"amount_per_capita\", 'gps_height', 'longitude', 'latitude']],\n",
        "    [\"scheme\", scheme_pipeline, \"scheme_management\"],\n",
        "    [\"year\",  year_pipeline, \"date_recorded\"],\n",
        "    [\"age\", age_pipeline, [\"age\"]]\n",
        "], remainder='drop')\n",
        "\n",
        "col_trans_lbl_w_age = ColumnTransformer(transformers=[\n",
        "    ['col_imp', col_imp, ['funder', 'installer', 'subvillage']],\n",
        "    ['target_enc', target_enc_pipe, ['lga', 'ward', 'management']],\n",
        "    ['ord_enc', ord_enc_pipe, ['basin', 'payment','water_quality', 'quantity','source','waterpoint_type', 'extraction_type_class', 'region', 'region_code', 'district_code']],\n",
        "    ['cust_trans', YesNoEncoder(), ['wpt_name']],\n",
        "    [\"num\", MinMaxScaler(), [\"amount_tsh\", \"population\", \"amount_per_capita\", 'gps_height', 'longitude', 'latitude']],\n",
        "    [\"scheme\", scheme_pipeline_lbl, \"scheme_management\"],\n",
        "    [\"year\",  year_pipeline, \"date_recorded\"],\n",
        "    [\"age\", age_pipeline, [\"age\"]]\n",
        "], remainder='drop')"
      ]
    },
    {
      "cell_type": "code",
      "execution_count": 100,
      "metadata": {},
      "outputs": [
        {
          "name": "stderr",
          "output_type": "stream",
          "text": [
            "/Users/hammerer/opt/anaconda3/lib/python3.9/site-packages/category_encoders/target_encoder.py:92: FutureWarning: Default parameter min_samples_leaf will change in version 2.6.See https://github.com/scikit-learn-contrib/category_encoders/issues/327\n",
            "  warnings.warn(\"Default parameter min_samples_leaf will change in version 2.6.\"\n",
            "/Users/hammerer/opt/anaconda3/lib/python3.9/site-packages/category_encoders/target_encoder.py:97: FutureWarning: Default parameter smoothing will change in version 2.6.See https://github.com/scikit-learn-contrib/category_encoders/issues/327\n",
            "  warnings.warn(\"Default parameter smoothing will change in version 2.6.\"\n",
            "/Users/hammerer/opt/anaconda3/lib/python3.9/site-packages/category_encoders/target_encoder.py:92: FutureWarning: Default parameter min_samples_leaf will change in version 2.6.See https://github.com/scikit-learn-contrib/category_encoders/issues/327\n",
            "  warnings.warn(\"Default parameter min_samples_leaf will change in version 2.6.\"\n",
            "/Users/hammerer/opt/anaconda3/lib/python3.9/site-packages/category_encoders/target_encoder.py:97: FutureWarning: Default parameter smoothing will change in version 2.6.See https://github.com/scikit-learn-contrib/category_encoders/issues/327\n",
            "  warnings.warn(\"Default parameter smoothing will change in version 2.6.\"\n",
            "/Users/hammerer/opt/anaconda3/lib/python3.9/site-packages/category_encoders/target_encoder.py:92: FutureWarning: Default parameter min_samples_leaf will change in version 2.6.See https://github.com/scikit-learn-contrib/category_encoders/issues/327\n",
            "  warnings.warn(\"Default parameter min_samples_leaf will change in version 2.6.\"\n",
            "/Users/hammerer/opt/anaconda3/lib/python3.9/site-packages/category_encoders/target_encoder.py:97: FutureWarning: Default parameter smoothing will change in version 2.6.See https://github.com/scikit-learn-contrib/category_encoders/issues/327\n",
            "  warnings.warn(\"Default parameter smoothing will change in version 2.6.\"\n",
            "/Users/hammerer/opt/anaconda3/lib/python3.9/site-packages/category_encoders/target_encoder.py:92: FutureWarning: Default parameter min_samples_leaf will change in version 2.6.See https://github.com/scikit-learn-contrib/category_encoders/issues/327\n",
            "  warnings.warn(\"Default parameter min_samples_leaf will change in version 2.6.\"\n",
            "/Users/hammerer/opt/anaconda3/lib/python3.9/site-packages/category_encoders/target_encoder.py:97: FutureWarning: Default parameter smoothing will change in version 2.6.See https://github.com/scikit-learn-contrib/category_encoders/issues/327\n",
            "  warnings.warn(\"Default parameter smoothing will change in version 2.6.\"\n",
            "/Users/hammerer/opt/anaconda3/lib/python3.9/site-packages/category_encoders/target_encoder.py:92: FutureWarning: Default parameter min_samples_leaf will change in version 2.6.See https://github.com/scikit-learn-contrib/category_encoders/issues/327\n",
            "  warnings.warn(\"Default parameter min_samples_leaf will change in version 2.6.\"\n",
            "/Users/hammerer/opt/anaconda3/lib/python3.9/site-packages/category_encoders/target_encoder.py:97: FutureWarning: Default parameter smoothing will change in version 2.6.See https://github.com/scikit-learn-contrib/category_encoders/issues/327\n",
            "  warnings.warn(\"Default parameter smoothing will change in version 2.6.\"\n",
            "/Users/hammerer/opt/anaconda3/lib/python3.9/site-packages/category_encoders/target_encoder.py:92: FutureWarning: Default parameter min_samples_leaf will change in version 2.6.See https://github.com/scikit-learn-contrib/category_encoders/issues/327\n",
            "  warnings.warn(\"Default parameter min_samples_leaf will change in version 2.6.\"\n",
            "/Users/hammerer/opt/anaconda3/lib/python3.9/site-packages/category_encoders/target_encoder.py:97: FutureWarning: Default parameter smoothing will change in version 2.6.See https://github.com/scikit-learn-contrib/category_encoders/issues/327\n",
            "  warnings.warn(\"Default parameter smoothing will change in version 2.6.\"\n",
            "/Users/hammerer/opt/anaconda3/lib/python3.9/site-packages/category_encoders/target_encoder.py:92: FutureWarning: Default parameter min_samples_leaf will change in version 2.6.See https://github.com/scikit-learn-contrib/category_encoders/issues/327\n",
            "  warnings.warn(\"Default parameter min_samples_leaf will change in version 2.6.\"\n",
            "/Users/hammerer/opt/anaconda3/lib/python3.9/site-packages/category_encoders/target_encoder.py:97: FutureWarning: Default parameter smoothing will change in version 2.6.See https://github.com/scikit-learn-contrib/category_encoders/issues/327\n",
            "  warnings.warn(\"Default parameter smoothing will change in version 2.6.\"\n",
            "/Users/hammerer/opt/anaconda3/lib/python3.9/site-packages/category_encoders/target_encoder.py:92: FutureWarning: Default parameter min_samples_leaf will change in version 2.6.See https://github.com/scikit-learn-contrib/category_encoders/issues/327\n",
            "  warnings.warn(\"Default parameter min_samples_leaf will change in version 2.6.\"\n",
            "/Users/hammerer/opt/anaconda3/lib/python3.9/site-packages/category_encoders/target_encoder.py:97: FutureWarning: Default parameter smoothing will change in version 2.6.See https://github.com/scikit-learn-contrib/category_encoders/issues/327\n",
            "  warnings.warn(\"Default parameter smoothing will change in version 2.6.\"\n"
          ]
        }
      ],
      "source": [
        "result = col_trans.fit_transform(X=df_train, y=y_train)\n",
        "result_lbl = col_trans_lbl.fit_transform(X=df_train, y=y_train)\n",
        "result_w_age = col_trans_w_age.fit_transform(X=df_train, y=y_train)\n",
        "result_lbl_w_age = col_trans_lbl_w_age.fit_transform(X=df_train, y=y_train)"
      ]
    },
    {
      "cell_type": "code",
      "execution_count": 101,
      "metadata": {},
      "outputs": [
        {
          "name": "stdout",
          "output_type": "stream",
          "text": [
            "(48958, 95)\n",
            "(48958, 25)\n",
            "(48958, 96)\n",
            "(48958, 26)\n"
          ]
        }
      ],
      "source": [
        "print(result.shape)\n",
        "print(result_lbl.shape)\n",
        "print(result_w_age.shape)\n",
        "print(result_lbl_w_age.shape)"
      ]
    },
    {
      "cell_type": "code",
      "execution_count": 102,
      "metadata": {},
      "outputs": [
        {
          "name": "stdout",
          "output_type": "stream",
          "text": [
            "(0.0, 1.0)\n",
            "(0.0, 1.0)\n",
            "(0.0, 1.0)\n",
            "(0.0, 1.0)\n"
          ]
        }
      ],
      "source": [
        "print(f'({result.min()}, {result.max()})')\n",
        "print(f'({result_lbl.min()}, {result_lbl.max()})')\n",
        "print(f'({result_w_age.min()}, {result_w_age.max()})')\n",
        "print(f'({result_lbl_w_age.min()}, {result_lbl_w_age.max()})')"
      ]
    },
    {
      "cell_type": "markdown",
      "metadata": {},
      "source": [
        "## Test Model"
      ]
    },
    {
      "cell_type": "code",
      "execution_count": 103,
      "metadata": {},
      "outputs": [
        {
          "name": "stderr",
          "output_type": "stream",
          "text": [
            "/Users/hammerer/opt/anaconda3/lib/python3.9/site-packages/category_encoders/target_encoder.py:92: FutureWarning: Default parameter min_samples_leaf will change in version 2.6.See https://github.com/scikit-learn-contrib/category_encoders/issues/327\n",
            "  warnings.warn(\"Default parameter min_samples_leaf will change in version 2.6.\"\n",
            "/Users/hammerer/opt/anaconda3/lib/python3.9/site-packages/category_encoders/target_encoder.py:97: FutureWarning: Default parameter smoothing will change in version 2.6.See https://github.com/scikit-learn-contrib/category_encoders/issues/327\n",
            "  warnings.warn(\"Default parameter smoothing will change in version 2.6.\"\n",
            "/Users/hammerer/opt/anaconda3/lib/python3.9/site-packages/category_encoders/target_encoder.py:92: FutureWarning: Default parameter min_samples_leaf will change in version 2.6.See https://github.com/scikit-learn-contrib/category_encoders/issues/327\n",
            "  warnings.warn(\"Default parameter min_samples_leaf will change in version 2.6.\"\n",
            "/Users/hammerer/opt/anaconda3/lib/python3.9/site-packages/category_encoders/target_encoder.py:97: FutureWarning: Default parameter smoothing will change in version 2.6.See https://github.com/scikit-learn-contrib/category_encoders/issues/327\n",
            "  warnings.warn(\"Default parameter smoothing will change in version 2.6.\"\n"
          ]
        }
      ],
      "source": [
        "X_train = col_trans_lbl_w_age.fit_transform(X=df_train, y=y_train)"
      ]
    },
    {
      "cell_type": "code",
      "execution_count": 104,
      "metadata": {},
      "outputs": [],
      "source": [
        "df_results = pd.DataFrame(data=[], columns=[\"Model\", \"AUC Train\", \"AUC CV\"])"
      ]
    },
    {
      "cell_type": "code",
      "execution_count": 105,
      "metadata": {},
      "outputs": [
        {
          "name": "stderr",
          "output_type": "stream",
          "text": [
            "/Users/hammerer/opt/anaconda3/lib/python3.9/site-packages/xgboost/sklearn.py:1224: UserWarning: The use of label encoder in XGBClassifier is deprecated and will be removed in a future release. To remove this warning, do the following: 1) Pass option use_label_encoder=False when constructing XGBClassifier object; and 2) Encode your labels (y) as integers starting with 0, i.e. 0, 1, 2, ..., [num_class - 1].\n",
            "  warnings.warn(label_encoder_deprecation_msg, UserWarning)\n"
          ]
        },
        {
          "name": "stdout",
          "output_type": "stream",
          "text": [
            "[18:49:20] WARNING: /var/folders/sy/f16zz6x50xz3113nwtb9bvq00000gp/T/abs_44tbtwf8c1/croots/recipe/xgboost-split_1659548960882/work/src/learner.cc:1115: Starting in XGBoost 1.3.0, the default evaluation metric used with the objective 'multi:softprob' was changed from 'merror' to 'mlogloss'. Explicitly set eval_metric if you'd like to restore the old behavior.\n"
          ]
        },
        {
          "name": "stderr",
          "output_type": "stream",
          "text": [
            "/Users/hammerer/opt/anaconda3/lib/python3.9/site-packages/xgboost/sklearn.py:1224: UserWarning: The use of label encoder in XGBClassifier is deprecated and will be removed in a future release. To remove this warning, do the following: 1) Pass option use_label_encoder=False when constructing XGBClassifier object; and 2) Encode your labels (y) as integers starting with 0, i.e. 0, 1, 2, ..., [num_class - 1].\n",
            "  warnings.warn(label_encoder_deprecation_msg, UserWarning)\n"
          ]
        },
        {
          "name": "stdout",
          "output_type": "stream",
          "text": [
            "[18:49:38] WARNING: /var/folders/sy/f16zz6x50xz3113nwtb9bvq00000gp/T/abs_44tbtwf8c1/croots/recipe/xgboost-split_1659548960882/work/src/learner.cc:1115: Starting in XGBoost 1.3.0, the default evaluation metric used with the objective 'multi:softprob' was changed from 'merror' to 'mlogloss'. Explicitly set eval_metric if you'd like to restore the old behavior.\n"
          ]
        },
        {
          "name": "stderr",
          "output_type": "stream",
          "text": [
            "/Users/hammerer/opt/anaconda3/lib/python3.9/site-packages/xgboost/sklearn.py:1224: UserWarning: The use of label encoder in XGBClassifier is deprecated and will be removed in a future release. To remove this warning, do the following: 1) Pass option use_label_encoder=False when constructing XGBClassifier object; and 2) Encode your labels (y) as integers starting with 0, i.e. 0, 1, 2, ..., [num_class - 1].\n",
            "  warnings.warn(label_encoder_deprecation_msg, UserWarning)\n"
          ]
        },
        {
          "name": "stdout",
          "output_type": "stream",
          "text": [
            "[18:49:59] WARNING: /var/folders/sy/f16zz6x50xz3113nwtb9bvq00000gp/T/abs_44tbtwf8c1/croots/recipe/xgboost-split_1659548960882/work/src/learner.cc:1115: Starting in XGBoost 1.3.0, the default evaluation metric used with the objective 'multi:softprob' was changed from 'merror' to 'mlogloss'. Explicitly set eval_metric if you'd like to restore the old behavior.\n"
          ]
        },
        {
          "name": "stderr",
          "output_type": "stream",
          "text": [
            "/Users/hammerer/opt/anaconda3/lib/python3.9/site-packages/xgboost/sklearn.py:1224: UserWarning: The use of label encoder in XGBClassifier is deprecated and will be removed in a future release. To remove this warning, do the following: 1) Pass option use_label_encoder=False when constructing XGBClassifier object; and 2) Encode your labels (y) as integers starting with 0, i.e. 0, 1, 2, ..., [num_class - 1].\n",
            "  warnings.warn(label_encoder_deprecation_msg, UserWarning)\n"
          ]
        },
        {
          "name": "stdout",
          "output_type": "stream",
          "text": [
            "[18:50:19] WARNING: /var/folders/sy/f16zz6x50xz3113nwtb9bvq00000gp/T/abs_44tbtwf8c1/croots/recipe/xgboost-split_1659548960882/work/src/learner.cc:1115: Starting in XGBoost 1.3.0, the default evaluation metric used with the objective 'multi:softprob' was changed from 'merror' to 'mlogloss'. Explicitly set eval_metric if you'd like to restore the old behavior.\n"
          ]
        },
        {
          "name": "stderr",
          "output_type": "stream",
          "text": [
            "/Users/hammerer/opt/anaconda3/lib/python3.9/site-packages/xgboost/sklearn.py:1224: UserWarning: The use of label encoder in XGBClassifier is deprecated and will be removed in a future release. To remove this warning, do the following: 1) Pass option use_label_encoder=False when constructing XGBClassifier object; and 2) Encode your labels (y) as integers starting with 0, i.e. 0, 1, 2, ..., [num_class - 1].\n",
            "  warnings.warn(label_encoder_deprecation_msg, UserWarning)\n"
          ]
        },
        {
          "name": "stdout",
          "output_type": "stream",
          "text": [
            "[18:50:37] WARNING: /var/folders/sy/f16zz6x50xz3113nwtb9bvq00000gp/T/abs_44tbtwf8c1/croots/recipe/xgboost-split_1659548960882/work/src/learner.cc:1115: Starting in XGBoost 1.3.0, the default evaluation metric used with the objective 'multi:softprob' was changed from 'merror' to 'mlogloss'. Explicitly set eval_metric if you'd like to restore the old behavior.\n"
          ]
        },
        {
          "name": "stderr",
          "output_type": "stream",
          "text": [
            "/Users/hammerer/opt/anaconda3/lib/python3.9/site-packages/xgboost/sklearn.py:1224: UserWarning: The use of label encoder in XGBClassifier is deprecated and will be removed in a future release. To remove this warning, do the following: 1) Pass option use_label_encoder=False when constructing XGBClassifier object; and 2) Encode your labels (y) as integers starting with 0, i.e. 0, 1, 2, ..., [num_class - 1].\n",
            "  warnings.warn(label_encoder_deprecation_msg, UserWarning)\n"
          ]
        },
        {
          "name": "stdout",
          "output_type": "stream",
          "text": [
            "[18:50:58] WARNING: /var/folders/sy/f16zz6x50xz3113nwtb9bvq00000gp/T/abs_44tbtwf8c1/croots/recipe/xgboost-split_1659548960882/work/src/learner.cc:1115: Starting in XGBoost 1.3.0, the default evaluation metric used with the objective 'multi:softprob' was changed from 'merror' to 'mlogloss'. Explicitly set eval_metric if you'd like to restore the old behavior.\n"
          ]
        }
      ],
      "source": [
        "from xgboost import XGBClassifier\n",
        "from sklearn.metrics import roc_auc_score\n",
        "from sklearn.model_selection import cross_validate\n",
        "\n",
        "xgb_cf = XGBClassifier()\n",
        "xgb_cf.fit(X_train, y_train)\n",
        "y_pred = xgb_cf.predict_proba(X_train)\n",
        "auc_train = roc_auc_score(y_train, y_pred, multi_class='ovr')\n",
        "cv_res = cross_validate(estimator=xgb_cf, X=X_train, y=y_train, cv=5, scoring='roc_auc_ovr')\n",
        "auc_cv = cv_res[\"test_score\"].mean()\n",
        "df_results.loc[len(df_results)] = [xgb_cf, auc_train, auc_cv]"
      ]
    },
    {
      "cell_type": "code",
      "execution_count": 106,
      "metadata": {},
      "outputs": [
        {
          "data": {
            "text/html": [
              "<div>\n",
              "<style scoped>\n",
              "    .dataframe tbody tr th:only-of-type {\n",
              "        vertical-align: middle;\n",
              "    }\n",
              "\n",
              "    .dataframe tbody tr th {\n",
              "        vertical-align: top;\n",
              "    }\n",
              "\n",
              "    .dataframe thead th {\n",
              "        text-align: right;\n",
              "    }\n",
              "</style>\n",
              "<table border=\"1\" class=\"dataframe\">\n",
              "  <thead>\n",
              "    <tr style=\"text-align: right;\">\n",
              "      <th></th>\n",
              "      <th>Model</th>\n",
              "      <th>AUC Train</th>\n",
              "      <th>AUC CV</th>\n",
              "    </tr>\n",
              "  </thead>\n",
              "  <tbody>\n",
              "    <tr>\n",
              "      <th>0</th>\n",
              "      <td>XGBClassifier(base_score=0.5, booster='gbtree'...</td>\n",
              "      <td>0.966479</td>\n",
              "      <td>0.9265</td>\n",
              "    </tr>\n",
              "  </tbody>\n",
              "</table>\n",
              "</div>"
            ],
            "text/plain": [
              "                                               Model  AUC Train  AUC CV\n",
              "0  XGBClassifier(base_score=0.5, booster='gbtree'...   0.966479  0.9265"
            ]
          },
          "execution_count": 106,
          "metadata": {},
          "output_type": "execute_result"
        }
      ],
      "source": [
        "df_results"
      ]
    },
    {
      "cell_type": "code",
      "execution_count": 107,
      "metadata": {},
      "outputs": [],
      "source": [
        "feature_names = ['funder', 'installer', 'subvillage', 'lga', 'ward', 'management', 'basin', 'payment','water_quality', 'quantity',\n",
        "                    'source','waterpoint_type', 'extraction_type_class', 'region', 'region_code', 'district_code', 'wpt_name',\n",
        "                    \"amount_tsh\", \"population\", \"amount_per_capita\", 'gps_height', 'longitude', 'latitude', \"scheme_management\",\n",
        "                    \"date_recorded\", \"age\"]\n",
        "\n",
        "xgb_cf.get_booster().feature_names = feature_names"
      ]
    },
    {
      "cell_type": "code",
      "execution_count": 108,
      "metadata": {},
      "outputs": [
        {
          "data": {
            "text/plain": [
              "<Axes:title={'center':'Feature importance'}, xlabel='F score', ylabel='Features'>"
            ]
          },
          "execution_count": 108,
          "metadata": {},
          "output_type": "execute_result"
        },
        {
          "data": {
            "image/png": "[encoded data removed]",
            "text/plain": [
              "<Figure size 720x504 with 1 Axes>"
            ]
          },
          "metadata": {
            "needs_background": "light"
          },
          "output_type": "display_data"
        }
      ],
      "source": [
        "from xgboost import plot_importance\n",
        "\n",
        "fig = plt.figure(figsize=(10, 7))\n",
        "ax = fig.add_axes([0, 0, 1, 1])\n",
        "plot_importance(booster=xgb_cf, ax=ax, importance_type=\"weight\")"
      ]
    },
    {
      "cell_type": "code",
      "execution_count": 109,
      "metadata": {},
      "outputs": [
        {
          "data": {
            "text/plain": [
              "<BarContainer object of 26 artists>"
            ]
          },
          "execution_count": 109,
          "metadata": {},
          "output_type": "execute_result"
        },
        {
          "data": {
            "image/png": "[encoded data removed]",
            "text/plain": [
              "<Figure size 720x504 with 1 Axes>"
            ]
          },
          "metadata": {
            "needs_background": "light"
          },
          "output_type": "display_data"
        }
      ],
      "source": [
        "fi_gain = xgb_cf.get_booster().get_score(importance_type='gain')\n",
        "fi_gain = dict(sorted(fi_gain.items(), key=lambda item: item[1], reverse=False))\n",
        "names, counts = zip(*fi_gain.items())\n",
        "plt.figure(figsize=(10, 7))\n",
        "plt.barh(names, counts)"
      ]
    },
    {
      "cell_type": "code",
      "execution_count": 110,
      "metadata": {},
      "outputs": [
        {
          "data": {
            "text/plain": [
              "<BarContainer object of 26 artists>"
            ]
          },
          "execution_count": 110,
          "metadata": {},
          "output_type": "execute_result"
        },
        {
          "data": {
            "image/png": "[encoded data removed]",
            "text/plain": [
              "<Figure size 720x504 with 1 Axes>"
            ]
          },
          "metadata": {
            "needs_background": "light"
          },
          "output_type": "display_data"
        }
      ],
      "source": [
        "fi_weight = xgb_cf.get_booster().get_score(importance_type='weight')\n",
        "fi_weight = dict(sorted(fi_weight.items(), key=lambda item: item[1], reverse=False))\n",
        "names, counts = zip(*fi_weight.items())\n",
        "plt.figure(figsize=(10, 7))\n",
        "plt.barh(names, counts)"
      ]
    },
    {
      "cell_type": "code",
      "execution_count": 111,
      "metadata": {},
      "outputs": [
        {
          "data": {
            "text/plain": [
              "<BarContainer object of 26 artists>"
            ]
          },
          "execution_count": 111,
          "metadata": {},
          "output_type": "execute_result"
        },
        {
          "data": {
            "image/png": "[encoded data removed]",
            "text/plain": [
              "<Figure size 720x504 with 1 Axes>"
            ]
          },
          "metadata": {
            "needs_background": "light"
          },
          "output_type": "display_data"
        }
      ],
      "source": [
        "fi_cover = xgb_cf.get_booster().get_score(importance_type='cover')\n",
        "fi_cover = dict(sorted(fi_cover.items(), key=lambda item: item[1], reverse=False))\n",
        "names, counts = zip(*fi_cover.items())\n",
        "plt.figure(figsize=(10, 7))\n",
        "plt.barh(names, counts)"
      ]
    },
    {
      "cell_type": "markdown",
      "metadata": {},
      "source": []
    },
    {
      "cell_type": "markdown",
      "metadata": {},
      "source": [
        "### Drop Features with low importance\n",
        "\n",
        "Remove 10 least important features (e.g. least 'gain')"
      ]
    },
    {
      "cell_type": "code",
      "execution_count": 125,
      "metadata": {},
      "outputs": [
        {
          "data": {
            "text/plain": [
              "['payment',\n",
              " 'water_quality',\n",
              " 'region',\n",
              " 'region_code',\n",
              " 'wpt_name',\n",
              " 'lga',\n",
              " 'source',\n",
              " 'amount_tsh',\n",
              " 'funder',\n",
              " 'date_recorded',\n",
              " 'installer',\n",
              " 'ward',\n",
              " 'extraction_type_class',\n",
              " 'waterpoint_type',\n",
              " 'subvillage',\n",
              " 'quantity']"
            ]
          },
          "execution_count": 125,
          "metadata": {},
          "output_type": "execute_result"
        }
      ],
      "source": [
        "feature_names2 = list(fi_gain.keys())[10:]\n",
        "feature_names2"
      ]
    },
    {
      "cell_type": "code",
      "execution_count": 124,
      "metadata": {},
      "outputs": [
        {
          "data": {
            "text/plain": [
              "['amount_per_capita',\n",
              " 'gps_height',\n",
              " 'population',\n",
              " 'latitude',\n",
              " 'scheme_management',\n",
              " 'management',\n",
              " 'age',\n",
              " 'longitude',\n",
              " 'district_code',\n",
              " 'basin']"
            ]
          },
          "execution_count": 124,
          "metadata": {},
          "output_type": "execute_result"
        }
      ],
      "source": [
        "list(fi_gain.keys())[:10]"
      ]
    },
    {
      "cell_type": "code",
      "execution_count": 145,
      "metadata": {},
      "outputs": [],
      "source": [
        "col_trans_lbl_reduced = ColumnTransformer(transformers=[\n",
        "    ['col_imp', col_imp, ['funder', 'installer', 'subvillage']],\n",
        "    ['target_enc', target_enc_pipe, ['lga', 'ward']],\n",
        "    ['ord_enc', ord_enc_pipe, ['payment','water_quality', 'quantity','source','waterpoint_type', 'extraction_type_class', 'region', 'region_code']],\n",
        "    ['cust_trans', YesNoEncoder(), ['wpt_name']],\n",
        "    [\"num\", MinMaxScaler(), [\"amount_tsh\"]],\n",
        "    [\"year\",  year_pipeline, \"date_recorded\"]\n",
        "], remainder='drop')"
      ]
    },
    {
      "cell_type": "code",
      "execution_count": 146,
      "metadata": {},
      "outputs": [
        {
          "name": "stderr",
          "output_type": "stream",
          "text": [
            "/Users/hammerer/opt/anaconda3/lib/python3.9/site-packages/category_encoders/target_encoder.py:92: FutureWarning: Default parameter min_samples_leaf will change in version 2.6.See https://github.com/scikit-learn-contrib/category_encoders/issues/327\n",
            "  warnings.warn(\"Default parameter min_samples_leaf will change in version 2.6.\"\n",
            "/Users/hammerer/opt/anaconda3/lib/python3.9/site-packages/category_encoders/target_encoder.py:97: FutureWarning: Default parameter smoothing will change in version 2.6.See https://github.com/scikit-learn-contrib/category_encoders/issues/327\n",
            "  warnings.warn(\"Default parameter smoothing will change in version 2.6.\"\n",
            "/Users/hammerer/opt/anaconda3/lib/python3.9/site-packages/category_encoders/target_encoder.py:92: FutureWarning: Default parameter min_samples_leaf will change in version 2.6.See https://github.com/scikit-learn-contrib/category_encoders/issues/327\n",
            "  warnings.warn(\"Default parameter min_samples_leaf will change in version 2.6.\"\n",
            "/Users/hammerer/opt/anaconda3/lib/python3.9/site-packages/category_encoders/target_encoder.py:97: FutureWarning: Default parameter smoothing will change in version 2.6.See https://github.com/scikit-learn-contrib/category_encoders/issues/327\n",
            "  warnings.warn(\"Default parameter smoothing will change in version 2.6.\"\n"
          ]
        }
      ],
      "source": [
        "result_lbl_reduced = col_trans_lbl_reduced.fit_transform(X=df_train, y=y_train)"
      ]
    },
    {
      "cell_type": "code",
      "execution_count": 147,
      "metadata": {},
      "outputs": [
        {
          "name": "stdout",
          "output_type": "stream",
          "text": [
            "(48958, 16)\n",
            "(0.0, 1.0)\n"
          ]
        }
      ],
      "source": [
        "print(result_lbl_reduced.shape)\n",
        "print(f'({result_lbl_reduced.min()}, {result_lbl_reduced.max()})')"
      ]
    },
    {
      "cell_type": "code",
      "execution_count": 149,
      "metadata": {},
      "outputs": [
        {
          "name": "stderr",
          "output_type": "stream",
          "text": [
            "/Users/hammerer/opt/anaconda3/lib/python3.9/site-packages/category_encoders/target_encoder.py:92: FutureWarning: Default parameter min_samples_leaf will change in version 2.6.See https://github.com/scikit-learn-contrib/category_encoders/issues/327\n",
            "  warnings.warn(\"Default parameter min_samples_leaf will change in version 2.6.\"\n",
            "/Users/hammerer/opt/anaconda3/lib/python3.9/site-packages/category_encoders/target_encoder.py:97: FutureWarning: Default parameter smoothing will change in version 2.6.See https://github.com/scikit-learn-contrib/category_encoders/issues/327\n",
            "  warnings.warn(\"Default parameter smoothing will change in version 2.6.\"\n",
            "/Users/hammerer/opt/anaconda3/lib/python3.9/site-packages/category_encoders/target_encoder.py:92: FutureWarning: Default parameter min_samples_leaf will change in version 2.6.See https://github.com/scikit-learn-contrib/category_encoders/issues/327\n",
            "  warnings.warn(\"Default parameter min_samples_leaf will change in version 2.6.\"\n",
            "/Users/hammerer/opt/anaconda3/lib/python3.9/site-packages/category_encoders/target_encoder.py:97: FutureWarning: Default parameter smoothing will change in version 2.6.See https://github.com/scikit-learn-contrib/category_encoders/issues/327\n",
            "  warnings.warn(\"Default parameter smoothing will change in version 2.6.\"\n"
          ]
        }
      ],
      "source": [
        "X_train2 = col_trans_lbl_reduced.fit_transform(X=df_train, y=y_train)"
      ]
    },
    {
      "cell_type": "code",
      "execution_count": 151,
      "metadata": {},
      "outputs": [
        {
          "name": "stderr",
          "output_type": "stream",
          "text": [
            "/Users/hammerer/opt/anaconda3/lib/python3.9/site-packages/xgboost/sklearn.py:1224: UserWarning: The use of label encoder in XGBClassifier is deprecated and will be removed in a future release. To remove this warning, do the following: 1) Pass option use_label_encoder=False when constructing XGBClassifier object; and 2) Encode your labels (y) as integers starting with 0, i.e. 0, 1, 2, ..., [num_class - 1].\n",
            "  warnings.warn(label_encoder_deprecation_msg, UserWarning)\n"
          ]
        },
        {
          "name": "stdout",
          "output_type": "stream",
          "text": [
            "[19:16:35] WARNING: /var/folders/sy/f16zz6x50xz3113nwtb9bvq00000gp/T/abs_44tbtwf8c1/croots/recipe/xgboost-split_1659548960882/work/src/learner.cc:1115: Starting in XGBoost 1.3.0, the default evaluation metric used with the objective 'multi:softprob' was changed from 'merror' to 'mlogloss'. Explicitly set eval_metric if you'd like to restore the old behavior.\n"
          ]
        },
        {
          "name": "stderr",
          "output_type": "stream",
          "text": [
            "/Users/hammerer/opt/anaconda3/lib/python3.9/site-packages/xgboost/sklearn.py:1224: UserWarning: The use of label encoder in XGBClassifier is deprecated and will be removed in a future release. To remove this warning, do the following: 1) Pass option use_label_encoder=False when constructing XGBClassifier object; and 2) Encode your labels (y) as integers starting with 0, i.e. 0, 1, 2, ..., [num_class - 1].\n",
            "  warnings.warn(label_encoder_deprecation_msg, UserWarning)\n"
          ]
        },
        {
          "name": "stdout",
          "output_type": "stream",
          "text": [
            "[19:16:46] WARNING: /var/folders/sy/f16zz6x50xz3113nwtb9bvq00000gp/T/abs_44tbtwf8c1/croots/recipe/xgboost-split_1659548960882/work/src/learner.cc:1115: Starting in XGBoost 1.3.0, the default evaluation metric used with the objective 'multi:softprob' was changed from 'merror' to 'mlogloss'. Explicitly set eval_metric if you'd like to restore the old behavior.\n"
          ]
        },
        {
          "name": "stderr",
          "output_type": "stream",
          "text": [
            "/Users/hammerer/opt/anaconda3/lib/python3.9/site-packages/xgboost/sklearn.py:1224: UserWarning: The use of label encoder in XGBClassifier is deprecated and will be removed in a future release. To remove this warning, do the following: 1) Pass option use_label_encoder=False when constructing XGBClassifier object; and 2) Encode your labels (y) as integers starting with 0, i.e. 0, 1, 2, ..., [num_class - 1].\n",
            "  warnings.warn(label_encoder_deprecation_msg, UserWarning)\n"
          ]
        },
        {
          "name": "stdout",
          "output_type": "stream",
          "text": [
            "[19:16:55] WARNING: /var/folders/sy/f16zz6x50xz3113nwtb9bvq00000gp/T/abs_44tbtwf8c1/croots/recipe/xgboost-split_1659548960882/work/src/learner.cc:1115: Starting in XGBoost 1.3.0, the default evaluation metric used with the objective 'multi:softprob' was changed from 'merror' to 'mlogloss'. Explicitly set eval_metric if you'd like to restore the old behavior.\n"
          ]
        },
        {
          "name": "stderr",
          "output_type": "stream",
          "text": [
            "/Users/hammerer/opt/anaconda3/lib/python3.9/site-packages/xgboost/sklearn.py:1224: UserWarning: The use of label encoder in XGBClassifier is deprecated and will be removed in a future release. To remove this warning, do the following: 1) Pass option use_label_encoder=False when constructing XGBClassifier object; and 2) Encode your labels (y) as integers starting with 0, i.e. 0, 1, 2, ..., [num_class - 1].\n",
            "  warnings.warn(label_encoder_deprecation_msg, UserWarning)\n"
          ]
        },
        {
          "name": "stdout",
          "output_type": "stream",
          "text": [
            "[19:17:04] WARNING: /var/folders/sy/f16zz6x50xz3113nwtb9bvq00000gp/T/abs_44tbtwf8c1/croots/recipe/xgboost-split_1659548960882/work/src/learner.cc:1115: Starting in XGBoost 1.3.0, the default evaluation metric used with the objective 'multi:softprob' was changed from 'merror' to 'mlogloss'. Explicitly set eval_metric if you'd like to restore the old behavior.\n"
          ]
        },
        {
          "name": "stderr",
          "output_type": "stream",
          "text": [
            "/Users/hammerer/opt/anaconda3/lib/python3.9/site-packages/xgboost/sklearn.py:1224: UserWarning: The use of label encoder in XGBClassifier is deprecated and will be removed in a future release. To remove this warning, do the following: 1) Pass option use_label_encoder=False when constructing XGBClassifier object; and 2) Encode your labels (y) as integers starting with 0, i.e. 0, 1, 2, ..., [num_class - 1].\n",
            "  warnings.warn(label_encoder_deprecation_msg, UserWarning)\n"
          ]
        },
        {
          "name": "stdout",
          "output_type": "stream",
          "text": [
            "[19:17:14] WARNING: /var/folders/sy/f16zz6x50xz3113nwtb9bvq00000gp/T/abs_44tbtwf8c1/croots/recipe/xgboost-split_1659548960882/work/src/learner.cc:1115: Starting in XGBoost 1.3.0, the default evaluation metric used with the objective 'multi:softprob' was changed from 'merror' to 'mlogloss'. Explicitly set eval_metric if you'd like to restore the old behavior.\n"
          ]
        },
        {
          "name": "stderr",
          "output_type": "stream",
          "text": [
            "/Users/hammerer/opt/anaconda3/lib/python3.9/site-packages/xgboost/sklearn.py:1224: UserWarning: The use of label encoder in XGBClassifier is deprecated and will be removed in a future release. To remove this warning, do the following: 1) Pass option use_label_encoder=False when constructing XGBClassifier object; and 2) Encode your labels (y) as integers starting with 0, i.e. 0, 1, 2, ..., [num_class - 1].\n",
            "  warnings.warn(label_encoder_deprecation_msg, UserWarning)\n"
          ]
        },
        {
          "name": "stdout",
          "output_type": "stream",
          "text": [
            "[19:17:23] WARNING: /var/folders/sy/f16zz6x50xz3113nwtb9bvq00000gp/T/abs_44tbtwf8c1/croots/recipe/xgboost-split_1659548960882/work/src/learner.cc:1115: Starting in XGBoost 1.3.0, the default evaluation metric used with the objective 'multi:softprob' was changed from 'merror' to 'mlogloss'. Explicitly set eval_metric if you'd like to restore the old behavior.\n"
          ]
        }
      ],
      "source": [
        "xgb_cf2 = XGBClassifier()\n",
        "xgb_cf2.fit(X_train2, y_train)\n",
        "y_pred = xgb_cf2.predict_proba(X_train2)\n",
        "auc_train = roc_auc_score(y_train, y_pred, multi_class='ovr')\n",
        "cv_res = cross_validate(estimator=xgb_cf2, X=X_train2, y=y_train, cv=5, scoring='roc_auc_ovr')\n",
        "auc_cv = cv_res[\"test_score\"].mean()\n",
        "df_results.loc[len(df_results)] = [xgb_cf2, auc_train, auc_cv]"
      ]
    },
    {
      "cell_type": "code",
      "execution_count": 152,
      "metadata": {},
      "outputs": [
        {
          "data": {
            "text/html": [
              "<div>\n",
              "<style scoped>\n",
              "    .dataframe tbody tr th:only-of-type {\n",
              "        vertical-align: middle;\n",
              "    }\n",
              "\n",
              "    .dataframe tbody tr th {\n",
              "        vertical-align: top;\n",
              "    }\n",
              "\n",
              "    .dataframe thead th {\n",
              "        text-align: right;\n",
              "    }\n",
              "</style>\n",
              "<table border=\"1\" class=\"dataframe\">\n",
              "  <thead>\n",
              "    <tr style=\"text-align: right;\">\n",
              "      <th></th>\n",
              "      <th>Model</th>\n",
              "      <th>AUC Train</th>\n",
              "      <th>AUC CV</th>\n",
              "    </tr>\n",
              "  </thead>\n",
              "  <tbody>\n",
              "    <tr>\n",
              "      <th>0</th>\n",
              "      <td>XGBClassifier(base_score=0.5, booster='gbtree'...</td>\n",
              "      <td>0.966479</td>\n",
              "      <td>0.926500</td>\n",
              "    </tr>\n",
              "    <tr>\n",
              "      <th>1</th>\n",
              "      <td>XGBClassifier(base_score=0.5, booster='gbtree'...</td>\n",
              "      <td>0.957016</td>\n",
              "      <td>0.922601</td>\n",
              "    </tr>\n",
              "  </tbody>\n",
              "</table>\n",
              "</div>"
            ],
            "text/plain": [
              "                                               Model  AUC Train    AUC CV\n",
              "0  XGBClassifier(base_score=0.5, booster='gbtree'...   0.966479  0.926500\n",
              "1  XGBClassifier(base_score=0.5, booster='gbtree'...   0.957016  0.922601"
            ]
          },
          "execution_count": 152,
          "metadata": {},
          "output_type": "execute_result"
        }
      ],
      "source": [
        "df_results"
      ]
    },
    {
      "cell_type": "code",
      "execution_count": 153,
      "metadata": {},
      "outputs": [],
      "source": [
        "xgb_cf2.get_booster().feature_names = feature_names2"
      ]
    },
    {
      "cell_type": "code",
      "execution_count": 154,
      "metadata": {},
      "outputs": [
        {
          "data": {
            "text/plain": [
              "<BarContainer object of 16 artists>"
            ]
          },
          "execution_count": 154,
          "metadata": {},
          "output_type": "execute_result"
        },
        {
          "data": {
            "image/png": "[encoded data removed]",
            "text/plain": [
              "<Figure size 720x504 with 1 Axes>"
            ]
          },
          "metadata": {
            "needs_background": "light"
          },
          "output_type": "display_data"
        }
      ],
      "source": [
        "fi_gain = xgb_cf2.get_booster().get_score(importance_type='gain')\n",
        "fi_gain = dict(sorted(fi_gain.items(), key=lambda item: item[1], reverse=False))\n",
        "names, counts = zip(*fi_gain.items())\n",
        "plt.figure(figsize=(10, 7))\n",
        "plt.barh(names, counts)"
      ]
    },
    {
      "cell_type": "code",
      "execution_count": null,
      "metadata": {},
      "outputs": [],
      "source": []
    }
  ],
  "metadata": {
    "colab": {
      "collapsed_sections": [
        "s9QK4M6bJG1C",
        "ipC-gfzyJG1f",
        "d9ImwcSDJG1f",
        "Cmef2rTsJG1h",
        "JyW8WC6hJG1j",
        "cJsudcKNJG1k",
        "etBpNARcJG1n",
        "WjosGzqvJG1p",
        "ZGbcckpOJG1q",
        "3O54UikJJG1r",
        "3Mrr3I-xJG1s",
        "h7AYHaeVJG1y",
        "4WH76QW9JG1z",
        "NlH2VvAuJG11"
      ],
      "name": "project2.ipynb",
      "provenance": []
    },
    "kernelspec": {
      "display_name": "Python 3.9.12 ('base')",
      "language": "python",
      "name": "python3"
    },
    "language_info": {
      "codemirror_mode": {
        "name": "ipython",
        "version": 3
      },
      "file_extension": ".py",
      "mimetype": "text/x-python",
      "name": "python",
      "nbconvert_exporter": "python",
      "pygments_lexer": "ipython3",
      "version": "3.9.12"
    },
    "vscode": {
      "interpreter": {
        "hash": "af6a7de25dd7bd9a9e288da6c3d15d5d500c51449326063643a18fc796b35585"
      }
    }
  },
  "nbformat": 4,
  "nbformat_minor": 0
}
